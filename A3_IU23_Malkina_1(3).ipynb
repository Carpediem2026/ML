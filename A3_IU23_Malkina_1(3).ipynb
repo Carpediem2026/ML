{
  "cells": [
    {
      "cell_type": "markdown",
      "metadata": {
        "id": "AnST6ImK6-su"
      },
      "source": [
        "<div style=\"font-size:18pt; padding-top:20px; text-align:center\"><b>ДОМАШНЕЕ ЗАДАНИЕ 3. Классификация текстовых документов</b> </div><hr>\n",
        "<div style=\"text-align:right;\">Папулин С.Ю. <span style=\"font-style: italic;font-weight: bold;\">(papulin.study@yandex.ru)</span></div>"
      ]
    },
    {
      "cell_type": "markdown",
      "metadata": {
        "id": "a6jgPst3Ca0a"
      },
      "source": [
        "# Цель работы"
      ]
    },
    {
      "cell_type": "markdown",
      "metadata": {
        "id": "-PM8Dwr8CdkP"
      },
      "source": [
        "Получение опыта решения практических задач по машинному обучению, таких как анализ и визуализация исходных данных, обучение, выбор и оценка качества моделей предсказания с помощью языка программирования Python."
      ]
    },
    {
      "cell_type": "markdown",
      "metadata": {
        "id": "CS8HkV_x6-sy"
      },
      "source": [
        "<p>Подключение стилей оформления</p>"
      ]
    },
    {
      "cell_type": "code",
      "execution_count": 217,
      "metadata": {
        "colab": {
          "base_uri": "https://localhost:8080/",
          "resources": {
            "http://localhost:8080/css/style.css": {
              "data": "CjwhRE9DVFlQRSBodG1sPgo8aHRtbCBsYW5nPWVuPgogIDxtZXRhIGNoYXJzZXQ9dXRmLTg+CiAgPG1ldGEgbmFtZT12aWV3cG9ydCBjb250ZW50PSJpbml0aWFsLXNjYWxlPTEsIG1pbmltdW0tc2NhbGU9MSwgd2lkdGg9ZGV2aWNlLXdpZHRoIj4KICA8dGl0bGU+RXJyb3IgNDA0IChOb3QgRm91bmQpISExPC90aXRsZT4KICA8c3R5bGU+CiAgICAqe21hcmdpbjowO3BhZGRpbmc6MH1odG1sLGNvZGV7Zm9udDoxNXB4LzIycHggYXJpYWwsc2Fucy1zZXJpZn1odG1se2JhY2tncm91bmQ6I2ZmZjtjb2xvcjojMjIyO3BhZGRpbmc6MTVweH1ib2R5e21hcmdpbjo3JSBhdXRvIDA7bWF4LXdpZHRoOjM5MHB4O21pbi1oZWlnaHQ6MTgwcHg7cGFkZGluZzozMHB4IDAgMTVweH0qID4gYm9keXtiYWNrZ3JvdW5kOnVybCgvL3d3dy5nb29nbGUuY29tL2ltYWdlcy9lcnJvcnMvcm9ib3QucG5nKSAxMDAlIDVweCBuby1yZXBlYXQ7cGFkZGluZy1yaWdodDoyMDVweH1we21hcmdpbjoxMXB4IDAgMjJweDtvdmVyZmxvdzpoaWRkZW59aW5ze2NvbG9yOiM3Nzc7dGV4dC1kZWNvcmF0aW9uOm5vbmV9YSBpbWd7Ym9yZGVyOjB9QG1lZGlhIHNjcmVlbiBhbmQgKG1heC13aWR0aDo3NzJweCl7Ym9keXtiYWNrZ3JvdW5kOm5vbmU7bWFyZ2luLXRvcDowO21heC13aWR0aDpub25lO3BhZGRpbmctcmlnaHQ6MH19I2xvZ297YmFja2dyb3VuZDp1cmwoLy93d3cuZ29vZ2xlLmNvbS9pbWFnZXMvbG9nb3MvZXJyb3JwYWdlL2Vycm9yX2xvZ28tMTUweDU0LnBuZykgbm8tcmVwZWF0O21hcmdpbi1sZWZ0Oi01cHh9QG1lZGlhIG9ubHkgc2NyZWVuIGFuZCAobWluLXJlc29sdXRpb246MTkyZHBpKXsjbG9nb3tiYWNrZ3JvdW5kOnVybCgvL3d3dy5nb29nbGUuY29tL2ltYWdlcy9sb2dvcy9lcnJvcnBhZ2UvZXJyb3JfbG9nby0xNTB4NTQtMngucG5nKSBuby1yZXBlYXQgMCUgMCUvMTAwJSAxMDAlOy1tb3otYm9yZGVyLWltYWdlOnVybCgvL3d3dy5nb29nbGUuY29tL2ltYWdlcy9sb2dvcy9lcnJvcnBhZ2UvZXJyb3JfbG9nby0xNTB4NTQtMngucG5nKSAwfX1AbWVkaWEgb25seSBzY3JlZW4gYW5kICgtd2Via2l0LW1pbi1kZXZpY2UtcGl4ZWwtcmF0aW86Mil7I2xvZ297YmFja2dyb3VuZDp1cmwoLy93d3cuZ29vZ2xlLmNvbS9pbWFnZXMvbG9nb3MvZXJyb3JwYWdlL2Vycm9yX2xvZ28tMTUweDU0LTJ4LnBuZykgbm8tcmVwZWF0Oy13ZWJraXQtYmFja2dyb3VuZC1zaXplOjEwMCUgMTAwJX19I2xvZ297ZGlzcGxheTppbmxpbmUtYmxvY2s7aGVpZ2h0OjU0cHg7d2lkdGg6MTUwcHh9CiAgPC9zdHlsZT4KICA8YSBocmVmPS8vd3d3Lmdvb2dsZS5jb20vPjxzcGFuIGlkPWxvZ28gYXJpYS1sYWJlbD1Hb29nbGU+PC9zcGFuPjwvYT4KICA8cD48Yj40MDQuPC9iPiA8aW5zPlRoYXTigJlzIGFuIGVycm9yLjwvaW5zPgogIDxwPiAgPGlucz5UaGF04oCZcyBhbGwgd2Uga25vdy48L2lucz4K",
              "headers": [
                [
                  "content-length",
                  "1449"
                ],
                [
                  "content-type",
                  "text/html; charset=utf-8"
                ]
              ],
              "ok": false,
              "status": 404,
              "status_text": ""
            }
          },
          "height": 17
        },
        "id": "exHE9G9a6-sy",
        "outputId": "3499a872-ca3e-4506-8af8-4b76b31a6aba"
      },
      "outputs": [
        {
          "output_type": "display_data",
          "data": {
            "text/plain": [
              "<IPython.core.display.HTML object>"
            ],
            "text/html": [
              "<link href=\"css/style.css\" rel=\"stylesheet\" type=\"text/css\">"
            ]
          },
          "metadata": {}
        }
      ],
      "source": [
        "%%html\n",
        "<link href=\"css/style.css\" rel=\"stylesheet\" type=\"text/css\">"
      ]
    },
    {
      "cell_type": "markdown",
      "metadata": {
        "id": "RU-wtzwi6-s0"
      },
      "source": [
        "# Вариант"
      ]
    },
    {
      "cell_type": "markdown",
      "metadata": {
        "id": "n4CTrLta6-s0"
      },
      "source": [
        "<p>Чтобы узнать свой вариант, введите Вашу фамилию в соответвующее поле ниже и запустите ячейку:</p>"
      ]
    },
    {
      "cell_type": "code",
      "execution_count": 218,
      "metadata": {
        "colab": {
          "base_uri": "https://localhost:8080/",
          "height": 0
        },
        "id": "hqTe97qI6-s0",
        "outputId": "d844da5a-780e-4184-cb67-02ac3d353a0b"
      },
      "outputs": [
        {
          "output_type": "stream",
          "name": "stdout",
          "text": [
            "Ваш вариант -  1\n"
          ]
        }
      ],
      "source": [
        "surname = \"Малкина\" # Ваша фамилия\n",
        "\n",
        "alp = 'абвгдеёжзийклмнопрстуфхцчшщъыьэюя'\n",
        "w = [4, 42, 21, 21, 34,  1, 44, 26, 18, 43, 38, 26, 18, 43,  3, 49, 45,\n",
        "        7, 42, 25,  4,  9, 36, 33, 31, 29,  5, 31,  4, 19, 24, 27, 33]\n",
        "d = dict(zip(alp, w))\n",
        "variant =  sum([d[el] for el in surname.lower()]) % 3 + 1\n",
        "print(\"Ваш вариант - \", variant)"
      ]
    },
    {
      "cell_type": "markdown",
      "metadata": {
        "id": "h3RCHqIR6-s1"
      },
      "source": [
        "<div class=\"msg-block msg-warning\">\n",
        "  <p class=\"msg-text-warn\">Варианты могут не совпадать с последующими ДЗ</p>\n",
        "</div>"
      ]
    },
    {
      "cell_type": "markdown",
      "metadata": {
        "id": "tnvR_7Br6-s2"
      },
      "source": [
        "<ol>\n",
        "    <li>\n",
        "        Набор электронных сообщений (emails) - <b>спам/не спам</b> - <a href=\"http://csmining.org/index.php/spam-email-datasets-.html\">источник</a> - файл c данными: <b>data/emails.tsv</b>\n",
        "    </li>\n",
        "    <li>\n",
        "        Набор SMS сообщений (sms) - <b>спам/не спам</b> - <a href=\"https://archive.ics.uci.edu/ml/datasets/SMS+Spam+Collection\">источник</a> - файл c данными: <b>data/SMSSpamCollection</b>\n",
        "    </li>\n",
        "    <li>Набор рецензий на фильмы (reviews) - <b>positive/negative</b> - <a href=\"http://www.cs.cornell.edu/people/pabo/movie-review-data/\">источник</a> - файл c данными: <b>data/reviews.tsv</b></li>\n",
        "</ol>"
      ]
    },
    {
      "cell_type": "markdown",
      "metadata": {
        "id": "2--eUg2CDC0p"
      },
      "source": [
        "⚠️ Замечание.\n",
        "\n",
        "Для всех объектов/методов/моделей random_state = 123"
      ]
    },
    {
      "cell_type": "markdown",
      "metadata": {
        "id": "AOfOtMG-GK96"
      },
      "source": [
        "# Import"
      ]
    },
    {
      "cell_type": "code",
      "execution_count": 219,
      "metadata": {
        "id": "qJ0rg1e8GJ58",
        "colab": {
          "base_uri": "https://localhost:8080/",
          "height": 0
        },
        "outputId": "f56e6849-49b8-49f1-8bac-41225f08134b"
      },
      "outputs": [
        {
          "output_type": "stream",
          "name": "stdout",
          "text": [
            "The autoreload extension is already loaded. To reload it, use:\n",
            "  %reload_ext autoreload\n"
          ]
        }
      ],
      "source": [
        "import numpy as np\n",
        "import pandas as pd\n",
        "import matplotlib.pyplot as plt\n",
        "%matplotlib inline\n",
        "from sklearn.metrics import classification_report, confusion_matrix\n",
        "%load_ext autoreload\n",
        "%autoreload 2\n",
        "\n",
        "# import sys\n",
        "# sys.path.insert(0, \"../lib/\")\n",
        "# from plot_confusion_matrix import plot_confusion_matrix\n",
        "\n",
        "\n",
        "import warnings\n",
        "warnings.filterwarnings('ignore')\n",
        "\n",
        "from sklearn.model_selection import GridSearchCV\n",
        "\n",
        "\n",
        "import time\n",
        "from sklearn.feature_extraction.text import TfidfVectorizer\n",
        "from sklearn.metrics import balanced_accuracy_score,recall_score,precision_score,f1_score\n",
        "\n",
        "from sklearn.model_selection import (\n",
        "    train_test_split,\n",
        "    StratifiedKFold,\n",
        "        cross_val_score, \n",
        "    cross_validate\n",
        "\n",
        ")"
      ]
    },
    {
      "cell_type": "markdown",
      "metadata": {
        "id": "MIdC2LmXDKFN"
      },
      "source": [
        "# Задание 1. Оценка качества фильтрации текстовых данных (2 балла)"
      ]
    },
    {
      "cell_type": "markdown",
      "metadata": {
        "id": "TyRtQlNo6-s2"
      },
      "source": [
        "<ol>\n",
        "    <li>Загрузите исходные данные</li>\n",
        "    <li>Разбейте загруженные данные на обучающее (train, 80%) и тестовое подмножества (test, 20%)</li>\n",
        "    <li>Переведите текстовые данные в векторный вид. Для этого воспользуйтесь средствами sklearn для конвертации текста в векторы TF-IDF (настроить на обучающем подмножестве, n-gram=1, слова в нижний регистр). Примечание: для модели Бернулли используйте бинарный вектор.</li>\n",
        "    <li>Постройте на обучающем подмножестве следующие модели классификации:\n",
        "        <ul>\n",
        "            <li>K-ближайших соседей ($n=5$)</li>\n",
        "            <li>Логистическая регрессия ($C=1$)</li>\n",
        "            <li>Наивный Байес: модель Бернулли ($\\alpha=1$)</li> \n",
        "            <li>Наивный Байес: полиномиальная модель ($\\alpha=1$)</li> \n",
        "        </ul>\n",
        "    </li>\n",
        "    <li>Определите качество классификации на тестовом подмножестве (Balanced-Accuracy, R, P, F1)</li>\n",
        "    <li>Определите с время обучения и предсказания (на тестовом подмножестве)</li>\n",
        "    <li>Свести все значения в один датафрейм и представить результат в виде таблицы</li>\n",
        "</ol>"
      ]
    },
    {
      "cell_type": "markdown",
      "metadata": {
        "id": "Is5qBVMxTpJl"
      },
      "source": [
        "\n",
        "\n",
        "---\n",
        "\n"
      ]
    },
    {
      "cell_type": "code",
      "execution_count": 220,
      "metadata": {
        "collapsed": true,
        "id": "HMKxm6Sk6-s3"
      },
      "outputs": [],
      "source": [
        "random_state = 123  # для всех объектов/методов/моделей\n",
        "# Параметры логистической регрессии\n",
        "# penalty=\"l2\" , fit_intercept=True, max_iter=100, C=1, solver=\"lbfgs\", random_state=123"
      ]
    },
    {
      "cell_type": "code",
      "execution_count": 221,
      "metadata": {
        "id": "f3UAI65Py8iM"
      },
      "outputs": [],
      "source": [
        "#В первую очередь создам датафрейм и его представление в виде таблицы\n",
        "index = [\"K-ближайших соседей\", \"Логистическая регрессия\", \"Наивный Байес: модель Бернулли\", \"Наивный Байес: полиномиальная модель\"]\n",
        "columns = [\"Balanced-Accuracy\", \"R\", \"P\", \"F1\", \"Time fit\", \"Time predict\"]\n",
        "df = pd.DataFrame(index=index, columns=columns)"
      ]
    },
    {
      "cell_type": "markdown",
      "metadata": {
        "id": "Tg8HCqOwAlxm"
      },
      "source": [
        "⚠️ Замечание (к коду выше) - DataFrame заполняется в процессе взаимодействия с моделями"
      ]
    },
    {
      "cell_type": "code",
      "execution_count": 222,
      "metadata": {
        "collapsed": true,
        "id": "kwW_jgzw6-s4"
      },
      "outputs": [],
      "source": [
        "# Загрузите исходные данные\n",
        "data = pd.read_csv(\"https://raw.githubusercontent.com/Carpediem2026/ML/main/Dz3/emails.tsv\", sep='\\t')"
      ]
    },
    {
      "cell_type": "code",
      "execution_count": 223,
      "metadata": {
        "id": "oS2sD5K4KOG4"
      },
      "outputs": [],
      "source": [
        "#Разбейте загруженные данные на обучающее (train, 80%) и тестовое подмножества (test, 20%)\n",
        "x = np.array(data['emails'])\n",
        "y = np.array(data['type'])\n",
        "X_train, X_test, y_train, y_test = train_test_split(x, y, test_size=0.2, random_state=random_state)"
      ]
    },
    {
      "cell_type": "code",
      "execution_count": 224,
      "metadata": {
        "id": "NZ6cNyUpLCi5"
      },
      "outputs": [],
      "source": [
        "#Переведите текстовые данные в векторный вид. \n",
        "#Для этого воспользуйтесь средствами sklearn для конвертации текста в векторы TF-IDF (настроить на обучающем подмножестве, n-gram=1, слова в нижний регистр). \n",
        "#Примечание: для модели Бернулли используйте бинарный вектор.\n",
        "vectorizer = TfidfVectorizer(lowercase=True, stop_words=\"english\",#None, \n",
        "                             use_idf=True, ngram_range=(1,1),\n",
        "                             smooth_idf=False)\n",
        "\n",
        "#Передаем набор документов, на основе которых будут строиться векторы\n",
        "vectorizer = vectorizer.fit(X_train)\n",
        "# Преобразование текстовых документов в векторы\n",
        "train_vectors = vectorizer.fit_transform(X_train)\n",
        "test_vectors = vectorizer.transform(X_test.astype('U'))"
      ]
    },
    {
      "cell_type": "markdown",
      "metadata": {
        "id": "_gwV4scxRcE9"
      },
      "source": [
        "**Модели классификаций**"
      ]
    },
    {
      "cell_type": "markdown",
      "metadata": {
        "id": "d18rLZdH_0x9"
      },
      "source": [
        "> K-ближайших соседей ($n=5$)\n",
        "\n",
        "\n",
        "\n"
      ]
    },
    {
      "cell_type": "code",
      "execution_count": 225,
      "metadata": {
        "colab": {
          "base_uri": "https://localhost:8080/",
          "height": 0
        },
        "id": "wHxUdophR2z1",
        "outputId": "683d5d31-1531-4368-c7d7-71c1a6b81bad"
      },
      "outputs": [
        {
          "output_type": "stream",
          "name": "stdout",
          "text": [
            "Time fit = 0.0029325485229492188\n",
            "Time predict = 0.2946591377258301\n",
            "Test balanced accuracy = 0.6069980422937287\n",
            "Test recall score = 0.2281303602058319\n",
            "Test precision score = 0.9708029197080292\n",
            "Test f1 score = 0.3694444444444444\n"
          ]
        }
      ],
      "source": [
        "#K-ближайших соседей\n",
        "from sklearn.neighbors import KNeighborsClassifier\n",
        "# Создание и обучение модели\n",
        "knn_model = KNeighborsClassifier(n_neighbors=5, p=2,)\n",
        "start_time1 = time.time()\n",
        "knn_model.fit(train_vectors, y_train)\n",
        "time1 = time.time() - start_time1\n",
        "print(f\"Time fit = {time1}\")\n",
        "df.loc['K-ближайших соседей','Time fit'] = time1\n",
        "# Предсказания для тестового подмножества\n",
        "start_time2 = time.time()\n",
        "y_test_pred_knn = knn_model.predict(test_vectors)\n",
        "time2 = time.time() - start_time2\n",
        "print(f\"Time predict = {time2}\")\n",
        "df.loc['K-ближайших соседей','Time predict'] = time2\n",
        "# Определите качество классификации на тестовом подмножестве (Balanced-Accuracy, R, P, F1)\n",
        "balanced_accuracy_model = balanced_accuracy_score(y_test,y_test_pred_knn)\n",
        "recall_score_model = recall_score(y_test,y_test_pred_knn)\n",
        "precision_score_model = precision_score(y_test,y_test_pred_knn)\n",
        "f1_score_model = f1_score(y_test,y_test_pred_knn)\n",
        "print(f\"Test balanced accuracy = {balanced_accuracy_model}\")\n",
        "print(f\"Test recall score = {recall_score_model}\")\n",
        "print(f\"Test precision score = {precision_score_model}\")\n",
        "print(f\"Test f1 score = {f1_score_model}\")\n",
        "df.loc['K-ближайших соседей','Balanced-Accuracy'] = balanced_accuracy_model\n",
        "df.loc['K-ближайших соседей','R'] = recall_score_model\n",
        "df.loc['K-ближайших соседей','P'] = precision_score_model\n",
        "df.loc['K-ближайших соседей','F1'] = f1_score_model"
      ]
    },
    {
      "cell_type": "markdown",
      "metadata": {
        "id": "65oQdSq3__HV"
      },
      "source": [
        "\n",
        "\n",
        "> Логистическая регрессия ($C=1$)\n",
        "\n"
      ]
    },
    {
      "cell_type": "code",
      "execution_count": 226,
      "metadata": {
        "colab": {
          "base_uri": "https://localhost:8080/",
          "height": 0
        },
        "id": "UmyBbTL55zSj",
        "outputId": "4b8f0f71-de1f-4e4e-8b18-8cc0c26214c8"
      },
      "outputs": [
        {
          "output_type": "stream",
          "name": "stdout",
          "text": [
            "Time fit = 0.5263385772705078\n",
            "Time predict = 0.0013036727905273438\n",
            "Test balanced accuracy = 0.9542181599985453\n",
            "Test recall score = 0.9897084048027445\n",
            "Test precision score = 0.9616666666666667\n",
            "Test f1 score = 0.9754860524091294\n"
          ]
        }
      ],
      "source": [
        "#Логистическая регрессия\n",
        "from sklearn.linear_model import LogisticRegression\n",
        "# Создание и обучение модели\n",
        "logreg_model = LogisticRegression(penalty=\"l2\", fit_intercept=True, max_iter=100, C=1, solver=\"lbfgs\", random_state=12345)\n",
        "start_time1 = time.time()\n",
        "logreg_model.fit(train_vectors, y_train)\n",
        "time1 = time.time() - start_time1\n",
        "print(f\"Time fit = {time1}\")\n",
        "df.loc['Логистическая регрессия','Time fit'] = time1\n",
        "# Предсказания для тестового подмножества\n",
        "start_time2 = time.time()\n",
        "y_test_pred_loreg = logreg_model.predict(test_vectors)\n",
        "time2 = time.time() - start_time2\n",
        "print(f\"Time predict = {time2}\")\n",
        "df.loc['Логистическая регрессия','Time predict'] = time2\n",
        "# Определите качество классификации на тестовом подмножестве (Balanced-Accuracy, R, P, F1)\n",
        "balanced_accuracy_model = balanced_accuracy_score(y_test,y_test_pred_loreg)\n",
        "recall_score_model = recall_score(y_test,y_test_pred_loreg)\n",
        "precision_score_model = precision_score(y_test,y_test_pred_loreg)\n",
        "f1_score_model = f1_score(y_test,y_test_pred_loreg)\n",
        "print(f\"Test balanced accuracy = {balanced_accuracy_model}\")\n",
        "print(f\"Test recall score = {recall_score_model}\")\n",
        "print(f\"Test precision score = {precision_score_model}\")\n",
        "print(f\"Test f1 score = {f1_score_model}\")\n",
        "df.loc['Логистическая регрессия','Balanced-Accuracy'] = balanced_accuracy_model\n",
        "df.loc['Логистическая регрессия','R'] = recall_score_model\n",
        "df.loc['Логистическая регрессия','P'] = precision_score_model\n",
        "df.loc['Логистическая регрессия','F1'] = f1_score_model"
      ]
    },
    {
      "cell_type": "markdown",
      "metadata": {
        "id": "qjjCmptk-MER"
      },
      "source": [
        "\n",
        "> Наивный Байес: полиномиальная модель ($\\alpha=1$)\n",
        "\n"
      ]
    },
    {
      "cell_type": "code",
      "execution_count": 227,
      "metadata": {
        "colab": {
          "base_uri": "https://localhost:8080/",
          "height": 0
        },
        "id": "w3L0FkcJ80a-",
        "outputId": "07e8999b-03c5-4063-a6eb-398b0f8860e4"
      },
      "outputs": [
        {
          "output_type": "stream",
          "name": "stdout",
          "text": [
            "Time fit = 0.009627819061279297\n",
            "Time predict = 0.0037245750427246094\n",
            "Test balanced accuracy = 0.8365981974555879\n",
            "Test recall score = 0.9982847341337907\n",
            "Test precision score = 0.8635014836795252\n",
            "Test f1 score = 0.9260143198090692\n"
          ]
        }
      ],
      "source": [
        "#Наивный Байес: полиномиальная модель\n",
        "from sklearn.naive_bayes import MultinomialNB\n",
        "# Создание и обучение модели\n",
        "m_multNB = MultinomialNB(alpha=1)\n",
        "start_time1 = time.time()\n",
        "m_multNB.fit(train_vectors, y_train)\n",
        "time1 = time.time() - start_time1\n",
        "print(f\"Time fit = {time1}\")\n",
        "df.loc['Наивный Байес: полиномиальная модель','Time fit'] = time1\n",
        "# Предсказания для тестового подмножества\n",
        "start_time2 = time.time()\n",
        "y_test_pred_multNB = m_multNB.predict(test_vectors)\n",
        "time2 = time.time() - start_time2\n",
        "print(f\"Time predict = {time2}\")\n",
        "df.loc['Наивный Байес: полиномиальная модель','Time predict'] = time2\n",
        "# Определите качество классификации на тестовом подмножестве (Balanced-Accuracy, R, P, F1)\n",
        "balanced_accuracy_model = balanced_accuracy_score(y_test,y_test_pred_multNB)\n",
        "recall_score_model = recall_score(y_test,y_test_pred_multNB)\n",
        "precision_score_model = precision_score(y_test,y_test_pred_multNB)\n",
        "f1_score_model = f1_score(y_test,y_test_pred_multNB)\n",
        "print(f\"Test balanced accuracy = {balanced_accuracy_model}\")\n",
        "print(f\"Test recall score = {recall_score_model}\")\n",
        "print(f\"Test precision score = {precision_score_model}\")\n",
        "print(f\"Test f1 score = {f1_score_model}\")\n",
        "df.loc['Наивный Байес: полиномиальная модель','Balanced-Accuracy'] = balanced_accuracy_model\n",
        "df.loc['Наивный Байес: полиномиальная модель','R'] = recall_score_model\n",
        "df.loc['Наивный Байес: полиномиальная модель','P'] = precision_score_model\n",
        "df.loc['Наивный Байес: полиномиальная модель','F1'] = f1_score_model"
      ]
    },
    {
      "cell_type": "markdown",
      "metadata": {
        "id": "FZSnsRO0ABzN"
      },
      "source": [
        "\n",
        "\n",
        "> Наивный Байес: модель Бернулли ($\\alpha=1$)\n",
        "\n"
      ]
    },
    {
      "cell_type": "code",
      "execution_count": 228,
      "metadata": {
        "colab": {
          "base_uri": "https://localhost:8080/",
          "height": 0
        },
        "id": "hktn2bZg7Pra",
        "outputId": "55c9d946-51e5-4317-9404-6d4e4520ecc1"
      },
      "outputs": [
        {
          "output_type": "stream",
          "name": "stdout",
          "text": [
            "Time fit = 0.00889134407043457\n",
            "Time predict = 0.007122993469238281\n",
            "Test balanced accuracy = 0.6805726442368886\n",
            "Test recall score = 0.9759862778730704\n",
            "Test precision score = 0.765814266487214\n",
            "Test f1 score = 0.8582202111613875\n"
          ]
        }
      ],
      "source": [
        "#Наивный Байес: модель Бернулли\n",
        "from sklearn.feature_extraction.text import CountVectorizer\n",
        "from sklearn.naive_bayes import BernoulliNB\n",
        "# Создание преобразователя текстовых документов в бинарные векторы с указанием параметров\n",
        "count_vectorizer = CountVectorizer(analyzer=\"word\", ngram_range=(1,1),\n",
        "                                   stop_words=None, lowercase=True,\n",
        "                                   binary=True, strip_accents=None)\n",
        "\n",
        "# Преобразование текстовых документов в бинарные векторы\n",
        "train_binary_vectors = count_vectorizer.fit_transform(X_train)\n",
        "test_binary_vectors = count_vectorizer.transform(X_test.astype('U'))\n",
        "# Создание и обучение модели\n",
        "m_bernNB = BernoulliNB(alpha=1, binarize=None)\n",
        "start_time1 = time.time()\n",
        "m_bernNB.fit(train_binary_vectors, y_train)\n",
        "time1 = time.time() - start_time1\n",
        "print(f\"Time fit = {time1}\")\n",
        "df.loc['Наивный Байес: модель Бернулли','Time fit'] = time1\n",
        "# Предсказания для тестового подмножества\n",
        "start_time2 = time.time()\n",
        "y_test_pred_bernNB = m_bernNB.predict(test_binary_vectors)\n",
        "time2 = time.time() - start_time2\n",
        "print(f\"Time predict = {time2}\")\n",
        "df.loc['Наивный Байес: модель Бернулли','Time predict'] = time2\n",
        "# Определите качество классификации на тестовом подмножестве (Balanced-Accuracy, R, P, F1)\n",
        "balanced_accuracy_model = balanced_accuracy_score(y_test,y_test_pred_bernNB)\n",
        "recall_score_model = recall_score(y_test,y_test_pred_bernNB)\n",
        "precision_score_model = precision_score(y_test,y_test_pred_bernNB)\n",
        "f1_score_model = f1_score(y_test,y_test_pred_bernNB)\n",
        "print(f\"Test balanced accuracy = {balanced_accuracy_model}\")\n",
        "print(f\"Test recall score = {recall_score_model}\")\n",
        "print(f\"Test precision score = {precision_score_model}\")\n",
        "print(f\"Test f1 score = {f1_score_model}\")\n",
        "df.loc['Наивный Байес: модель Бернулли','Balanced-Accuracy'] = balanced_accuracy_model\n",
        "df.loc['Наивный Байес: модель Бернулли','R'] = recall_score_model\n",
        "df.loc['Наивный Байес: модель Бернулли','P'] = precision_score_model\n",
        "df.loc['Наивный Байес: модель Бернулли','F1'] = f1_score_model"
      ]
    },
    {
      "cell_type": "markdown",
      "metadata": {
        "id": "CGU8QLtkBR41"
      },
      "source": [
        "⚠️ Замечание - пункты 5-6 задания выполнялись в процессе взаимодействия с моделями"
      ]
    },
    {
      "cell_type": "markdown",
      "metadata": {
        "id": "wbbrvtEaBgfB"
      },
      "source": [
        "⚠️ Замечание - пункт 7 задания. Датафрейм создан и заполнен выше"
      ]
    },
    {
      "cell_type": "code",
      "execution_count": 229,
      "metadata": {
        "colab": {
          "base_uri": "https://localhost:8080/",
          "height": 192
        },
        "id": "4mgmihFlCBE-",
        "outputId": "f743ce66-03d7-4a42-de1f-73ce4db4e48d"
      },
      "outputs": [
        {
          "output_type": "stream",
          "name": "stdout",
          "text": [
            "Представление результатов в виде таблицы:\n"
          ]
        },
        {
          "output_type": "execute_result",
          "data": {
            "text/plain": [
              "                                     Balanced-Accuracy         R         P  \\\n",
              "K-ближайших соседей                           0.606998   0.22813  0.970803   \n",
              "Логистическая регрессия                       0.954218  0.989708  0.961667   \n",
              "Наивный Байес: модель Бернулли                0.680573  0.975986  0.765814   \n",
              "Наивный Байес: полиномиальная модель          0.836598  0.998285  0.863501   \n",
              "\n",
              "                                            F1  Time fit Time predict  \n",
              "K-ближайших соседей                   0.369444  0.002933     0.294659  \n",
              "Логистическая регрессия               0.975486  0.526339     0.001304  \n",
              "Наивный Байес: модель Бернулли         0.85822  0.008891     0.007123  \n",
              "Наивный Байес: полиномиальная модель  0.926014  0.009628     0.003725  "
            ],
            "text/html": [
              "\n",
              "  <div id=\"df-c860e9f3-63cc-4f4a-ba24-4fb418e4d5b7\">\n",
              "    <div class=\"colab-df-container\">\n",
              "      <div>\n",
              "<style scoped>\n",
              "    .dataframe tbody tr th:only-of-type {\n",
              "        vertical-align: middle;\n",
              "    }\n",
              "\n",
              "    .dataframe tbody tr th {\n",
              "        vertical-align: top;\n",
              "    }\n",
              "\n",
              "    .dataframe thead th {\n",
              "        text-align: right;\n",
              "    }\n",
              "</style>\n",
              "<table border=\"1\" class=\"dataframe\">\n",
              "  <thead>\n",
              "    <tr style=\"text-align: right;\">\n",
              "      <th></th>\n",
              "      <th>Balanced-Accuracy</th>\n",
              "      <th>R</th>\n",
              "      <th>P</th>\n",
              "      <th>F1</th>\n",
              "      <th>Time fit</th>\n",
              "      <th>Time predict</th>\n",
              "    </tr>\n",
              "  </thead>\n",
              "  <tbody>\n",
              "    <tr>\n",
              "      <th>K-ближайших соседей</th>\n",
              "      <td>0.606998</td>\n",
              "      <td>0.22813</td>\n",
              "      <td>0.970803</td>\n",
              "      <td>0.369444</td>\n",
              "      <td>0.002933</td>\n",
              "      <td>0.294659</td>\n",
              "    </tr>\n",
              "    <tr>\n",
              "      <th>Логистическая регрессия</th>\n",
              "      <td>0.954218</td>\n",
              "      <td>0.989708</td>\n",
              "      <td>0.961667</td>\n",
              "      <td>0.975486</td>\n",
              "      <td>0.526339</td>\n",
              "      <td>0.001304</td>\n",
              "    </tr>\n",
              "    <tr>\n",
              "      <th>Наивный Байес: модель Бернулли</th>\n",
              "      <td>0.680573</td>\n",
              "      <td>0.975986</td>\n",
              "      <td>0.765814</td>\n",
              "      <td>0.85822</td>\n",
              "      <td>0.008891</td>\n",
              "      <td>0.007123</td>\n",
              "    </tr>\n",
              "    <tr>\n",
              "      <th>Наивный Байес: полиномиальная модель</th>\n",
              "      <td>0.836598</td>\n",
              "      <td>0.998285</td>\n",
              "      <td>0.863501</td>\n",
              "      <td>0.926014</td>\n",
              "      <td>0.009628</td>\n",
              "      <td>0.003725</td>\n",
              "    </tr>\n",
              "  </tbody>\n",
              "</table>\n",
              "</div>\n",
              "      <button class=\"colab-df-convert\" onclick=\"convertToInteractive('df-c860e9f3-63cc-4f4a-ba24-4fb418e4d5b7')\"\n",
              "              title=\"Convert this dataframe to an interactive table.\"\n",
              "              style=\"display:none;\">\n",
              "        \n",
              "  <svg xmlns=\"http://www.w3.org/2000/svg\" height=\"24px\"viewBox=\"0 0 24 24\"\n",
              "       width=\"24px\">\n",
              "    <path d=\"M0 0h24v24H0V0z\" fill=\"none\"/>\n",
              "    <path d=\"M18.56 5.44l.94 2.06.94-2.06 2.06-.94-2.06-.94-.94-2.06-.94 2.06-2.06.94zm-11 1L8.5 8.5l.94-2.06 2.06-.94-2.06-.94L8.5 2.5l-.94 2.06-2.06.94zm10 10l.94 2.06.94-2.06 2.06-.94-2.06-.94-.94-2.06-.94 2.06-2.06.94z\"/><path d=\"M17.41 7.96l-1.37-1.37c-.4-.4-.92-.59-1.43-.59-.52 0-1.04.2-1.43.59L10.3 9.45l-7.72 7.72c-.78.78-.78 2.05 0 2.83L4 21.41c.39.39.9.59 1.41.59.51 0 1.02-.2 1.41-.59l7.78-7.78 2.81-2.81c.8-.78.8-2.07 0-2.86zM5.41 20L4 18.59l7.72-7.72 1.47 1.35L5.41 20z\"/>\n",
              "  </svg>\n",
              "      </button>\n",
              "      \n",
              "  <style>\n",
              "    .colab-df-container {\n",
              "      display:flex;\n",
              "      flex-wrap:wrap;\n",
              "      gap: 12px;\n",
              "    }\n",
              "\n",
              "    .colab-df-convert {\n",
              "      background-color: #E8F0FE;\n",
              "      border: none;\n",
              "      border-radius: 50%;\n",
              "      cursor: pointer;\n",
              "      display: none;\n",
              "      fill: #1967D2;\n",
              "      height: 32px;\n",
              "      padding: 0 0 0 0;\n",
              "      width: 32px;\n",
              "    }\n",
              "\n",
              "    .colab-df-convert:hover {\n",
              "      background-color: #E2EBFA;\n",
              "      box-shadow: 0px 1px 2px rgba(60, 64, 67, 0.3), 0px 1px 3px 1px rgba(60, 64, 67, 0.15);\n",
              "      fill: #174EA6;\n",
              "    }\n",
              "\n",
              "    [theme=dark] .colab-df-convert {\n",
              "      background-color: #3B4455;\n",
              "      fill: #D2E3FC;\n",
              "    }\n",
              "\n",
              "    [theme=dark] .colab-df-convert:hover {\n",
              "      background-color: #434B5C;\n",
              "      box-shadow: 0px 1px 3px 1px rgba(0, 0, 0, 0.15);\n",
              "      filter: drop-shadow(0px 1px 2px rgba(0, 0, 0, 0.3));\n",
              "      fill: #FFFFFF;\n",
              "    }\n",
              "  </style>\n",
              "\n",
              "      <script>\n",
              "        const buttonEl =\n",
              "          document.querySelector('#df-c860e9f3-63cc-4f4a-ba24-4fb418e4d5b7 button.colab-df-convert');\n",
              "        buttonEl.style.display =\n",
              "          google.colab.kernel.accessAllowed ? 'block' : 'none';\n",
              "\n",
              "        async function convertToInteractive(key) {\n",
              "          const element = document.querySelector('#df-c860e9f3-63cc-4f4a-ba24-4fb418e4d5b7');\n",
              "          const dataTable =\n",
              "            await google.colab.kernel.invokeFunction('convertToInteractive',\n",
              "                                                     [key], {});\n",
              "          if (!dataTable) return;\n",
              "\n",
              "          const docLinkHtml = 'Like what you see? Visit the ' +\n",
              "            '<a target=\"_blank\" href=https://colab.research.google.com/notebooks/data_table.ipynb>data table notebook</a>'\n",
              "            + ' to learn more about interactive tables.';\n",
              "          element.innerHTML = '';\n",
              "          dataTable['output_type'] = 'display_data';\n",
              "          await google.colab.output.renderOutput(dataTable, element);\n",
              "          const docLink = document.createElement('div');\n",
              "          docLink.innerHTML = docLinkHtml;\n",
              "          element.appendChild(docLink);\n",
              "        }\n",
              "      </script>\n",
              "    </div>\n",
              "  </div>\n",
              "  "
            ]
          },
          "metadata": {},
          "execution_count": 229
        }
      ],
      "source": [
        "print(\"Представление результатов в виде таблицы:\")\n",
        "df"
      ]
    },
    {
      "cell_type": "markdown",
      "metadata": {
        "id": "ExDLNkCb6-s5"
      },
      "source": [
        "# Задание 2. Оценка качества классификации текстовых данных посредством кросс-валидации (2 балла)"
      ]
    },
    {
      "cell_type": "markdown",
      "metadata": {
        "id": "cQk513Tb6-s4"
      },
      "source": [
        "<p>Повторите решение задачи 1, но с использованием k-folds (k=4) для разделения исходных данных</p>\n",
        "\n",
        "\n",
        "---\n",
        "\n"
      ]
    },
    {
      "cell_type": "code",
      "execution_count": 230,
      "metadata": {
        "collapsed": true,
        "id": "Dbjp61y96-s4"
      },
      "outputs": [],
      "source": [
        "random_state = 123  # для всех объектов/методов/моделей"
      ]
    },
    {
      "cell_type": "code",
      "execution_count": 231,
      "metadata": {
        "id": "7VBYm1cBHFIs"
      },
      "outputs": [],
      "source": [
        "#Создан новый датафрейм\n",
        "df_2 = pd.DataFrame(index=index, columns=columns)\n",
        "# Изменение метода разделения исходных данных, под \"(k=4)\" подразумевается n_splits=4\n",
        "kf = StratifiedKFold(n_splits=4, random_state=random_state,shuffle = True)\n",
        "for train_index, test_index in kf.split(x,y):\n",
        "  X2_train, X2_test = x[train_index], x[test_index]\n",
        "  y2_train, y2_test = y[train_index], y[test_index]\n",
        "#Переведите текстовые данные в векторный вид. vectorizer используется из прошлого задания, так как он не зависит от способо разделения исходных данных\n",
        "#Передаем набор документов, на основе которых будут строиться векторы\n",
        "vectorizer = vectorizer.fit(X2_train.astype('U'))\n",
        "# Преобразование текстовых документов в векторы\n",
        "train_vectors2 = vectorizer.fit_transform(X2_train.astype('U'))\n",
        "test_vectors2 = vectorizer.transform(X2_test.astype('U'))"
      ]
    },
    {
      "cell_type": "markdown",
      "metadata": {
        "id": "M9emnkVMKUmD"
      },
      "source": [
        "# Модели классификаций"
      ]
    },
    {
      "cell_type": "markdown",
      "metadata": {
        "id": "dzwrYpthMJlg"
      },
      "source": [
        "> K-ближайших соседей ($n=5$)\n"
      ]
    },
    {
      "cell_type": "code",
      "execution_count": 232,
      "metadata": {
        "colab": {
          "base_uri": "https://localhost:8080/",
          "height": 0
        },
        "collapsed": true,
        "id": "uPUgrB146-s4",
        "outputId": "3e60844f-82aa-4936-f922-760397a6bd40"
      },
      "outputs": [
        {
          "output_type": "stream",
          "name": "stdout",
          "text": [
            "Time fit = 0.0056427717208862305\n",
            "Time predict = 0.16428202390670776\n",
            "Test balanced accuracy = 0.5558940123591558\n",
            "Test recall score = 0.5558940123591558\n",
            "Test precision score = 0.6494637602386517\n",
            "Test f1 score = 0.36505615346076\n"
          ]
        }
      ],
      "source": [
        "#K-ближайших соседей\n",
        "# Создание и обучение модели\n",
        "knn_model = KNeighborsClassifier(n_neighbors=5, p=2,)\n",
        "score = cross_validate(knn_model, train_vectors2, y2_train, cv=kf, scoring=['f1_macro','recall_macro','precision_macro','balanced_accuracy'])\n",
        "time1 = score['fit_time'].mean()\n",
        "print(f\"Time fit = {time1}\")\n",
        "df_2.loc['K-ближайших соседей','Time fit'] = time1\n",
        "time2 = score['score_time'].mean()\n",
        "print(f\"Time predict = {time2}\")\n",
        "df_2.loc['K-ближайших соседей','Time predict'] = time2\n",
        "# Определите качество классификации на тестовом подмножестве (Balanced-Accuracy, R, P, F1)\n",
        "balanced_accuracy_model = score['test_balanced_accuracy'].mean()\n",
        "recall_score_model = score['test_recall_macro'].mean()\n",
        "precision_score_model = score['test_precision_macro'].mean()\n",
        "f1_score_model = score['test_f1_macro'].mean()\n",
        "print(f\"Test balanced accuracy = {balanced_accuracy_model}\")\n",
        "print(f\"Test recall score = {recall_score_model}\")\n",
        "print(f\"Test precision score = {precision_score_model}\")\n",
        "print(f\"Test f1 score = {f1_score_model}\")\n",
        "df_2.loc['K-ближайших соседей','Balanced-Accuracy'] = balanced_accuracy_model\n",
        "df_2.loc['K-ближайших соседей','R'] = recall_score_model\n",
        "df_2.loc['K-ближайших соседей','P'] = precision_score_model\n",
        "df_2.loc['K-ближайших соседей','F1'] = f1_score_model"
      ]
    },
    {
      "cell_type": "markdown",
      "metadata": {
        "id": "PDpVDX78MQpk"
      },
      "source": [
        "> Логистическая регрессия ($C=1$)\n"
      ]
    },
    {
      "cell_type": "code",
      "execution_count": 233,
      "metadata": {
        "colab": {
          "base_uri": "https://localhost:8080/",
          "height": 0
        },
        "id": "4GzVQ37eMDDq",
        "outputId": "72100f6d-f224-400a-8e2a-1eba38378e2c"
      },
      "outputs": [
        {
          "output_type": "stream",
          "name": "stdout",
          "text": [
            "Time fit = 0.5216562151908875\n",
            "Time predict = 0.008052289485931396\n",
            "Test balanced accuracy = 0.921522606729183\n",
            "Test recall score = 0.921522606729183\n",
            "Test precision score = 0.9555179295473879\n",
            "Test f1 score = 0.9359615396960568\n"
          ]
        }
      ],
      "source": [
        "#Логистическая регрессия\n",
        "# Создание и обучение модели\n",
        "logreg_model = LogisticRegression(penalty=\"l2\", fit_intercept=True, max_iter=100, C=1, solver=\"lbfgs\", random_state=12345)\n",
        "score = cross_validate(logreg_model, train_vectors2, y2_train, cv=kf, scoring=['f1_macro','recall_macro','precision_macro','balanced_accuracy'])\n",
        "time1 = score['fit_time'].mean()\n",
        "print(f\"Time fit = {time1}\")\n",
        "df_2.loc['Логистическая регрессия','Time fit'] = time1\n",
        "time2 = score['score_time'].mean()\n",
        "print(f\"Time predict = {time2}\")\n",
        "df_2.loc['Логистическая регрессия','Time predict'] = time2\n",
        "# Определите качество классификации на тестовом подмножестве (Balanced-Accuracy, R, P, F1)\n",
        "balanced_accuracy_model = score['test_balanced_accuracy'].mean()\n",
        "recall_score_model = score['test_recall_macro'].mean()\n",
        "precision_score_model = score['test_precision_macro'].mean()\n",
        "f1_score_model = score['test_f1_macro'].mean()\n",
        "print(f\"Test balanced accuracy = {balanced_accuracy_model}\")\n",
        "print(f\"Test recall score = {recall_score_model}\")\n",
        "print(f\"Test precision score = {precision_score_model}\")\n",
        "print(f\"Test f1 score = {f1_score_model}\")\n",
        "df_2.loc['Логистическая регрессия','Balanced-Accuracy'] = balanced_accuracy_model\n",
        "df_2.loc['Логистическая регрессия','R'] = recall_score_model\n",
        "df_2.loc['Логистическая регрессия','P'] = precision_score_model\n",
        "df_2.loc['Логистическая регрессия','F1'] = f1_score_model"
      ]
    },
    {
      "cell_type": "markdown",
      "metadata": {
        "id": "D6VUUvvcNTo0"
      },
      "source": [
        "> Наивный Байес: полиномиальная модель ($\\alpha=1$)"
      ]
    },
    {
      "cell_type": "code",
      "execution_count": 234,
      "metadata": {
        "colab": {
          "base_uri": "https://localhost:8080/",
          "height": 0
        },
        "id": "-O_TmWOANbDm",
        "outputId": "1db8e9c6-8a9d-47a9-cf6b-28accfdbedc5"
      },
      "outputs": [
        {
          "output_type": "stream",
          "name": "stdout",
          "text": [
            "Time fit = 0.01488584280014038\n",
            "Time predict = 0.005890786647796631\n",
            "Test balanced accuracy = 0.7751906728209348\n",
            "Test recall score = 0.7751906728209348\n",
            "Test precision score = 0.9115378093776904\n",
            "Test f1 score = 0.8070908552324512\n"
          ]
        }
      ],
      "source": [
        "#Наивный Байес: полиномиальная модель\n",
        "# Создание и обучение модели\n",
        "m_multNB = MultinomialNB(alpha=1)\n",
        "score = cross_validate(m_multNB, train_vectors2, y2_train, cv=kf, scoring=['f1_macro','recall_macro','precision_macro','balanced_accuracy'])\n",
        "time1 = score['fit_time'].mean()\n",
        "print(f\"Time fit = {time1}\")\n",
        "time2 = score['score_time'].mean()\n",
        "print(f\"Time predict = {time2}\")\n",
        "# Определите качество классификации на тестовом подмножестве (Balanced-Accuracy, R, P, F1)\n",
        "balanced_accuracy_model = score['test_balanced_accuracy'].mean()\n",
        "recall_score_model = score['test_recall_macro'].mean()\n",
        "precision_score_model = score['test_precision_macro'].mean()\n",
        "f1_score_model = score['test_f1_macro'].mean()\n",
        "print(f\"Test balanced accuracy = {balanced_accuracy_model}\")\n",
        "print(f\"Test recall score = {recall_score_model}\")\n",
        "print(f\"Test precision score = {precision_score_model}\")\n",
        "print(f\"Test f1 score = {f1_score_model}\")\n",
        "df_2.loc['Наивный Байес: полиномиальная модель','Time fit'] = time1\n",
        "df_2.loc['Наивный Байес: полиномиальная модель','Time predict'] = time2\n",
        "df_2.loc['Наивный Байес: полиномиальная модель','Balanced-Accuracy'] = balanced_accuracy_model\n",
        "df_2.loc['Наивный Байес: полиномиальная модель','R'] = recall_score_model\n",
        "df_2.loc['Наивный Байес: полиномиальная модель','P'] = precision_score_model\n",
        "df_2.loc['Наивный Байес: полиномиальная модель','F1'] = f1_score_model"
      ]
    },
    {
      "cell_type": "markdown",
      "metadata": {
        "id": "CDp5pgkxMpEV"
      },
      "source": [
        "> Наивный Байес: модель Бернулли ($\\alpha=1$)\n"
      ]
    },
    {
      "cell_type": "code",
      "execution_count": 235,
      "metadata": {
        "colab": {
          "base_uri": "https://localhost:8080/",
          "height": 0
        },
        "id": "13XKUAPlMpeU",
        "outputId": "fd1148e0-299f-44f0-cadd-c531503d3710"
      },
      "outputs": [
        {
          "output_type": "stream",
          "name": "stdout",
          "text": [
            "Time fit = 0.011403083801269531\n",
            "Time predict = 0.011103987693786621\n",
            "Test balanced accuracy = 0.663605861582057\n",
            "Test recall score = 0.663605861582057\n",
            "Test precision score = 0.8145506787893184\n",
            "Test f1 score = 0.6779037475926984\n"
          ]
        }
      ],
      "source": [
        "#Наивный Байес: модель Бернулли\n",
        "# Преобразование текстовых документов в бинарные векторы. count_vectorizer используется из прошлого задания, так как он не зависит от способa разделения исходных данных\n",
        "train_binary_vectors2 = count_vectorizer.fit_transform(X2_train.astype('U'))\n",
        "test_binary_vectors2 = count_vectorizer.transform(X2_test.astype('U'))\n",
        "# Создание и обучение модели\n",
        "m_bernNB = BernoulliNB(alpha=1, binarize=None)\n",
        "score = cross_validate(m_bernNB, train_binary_vectors2, y2_train, cv=kf, scoring=['f1_macro','recall_macro','precision_macro','balanced_accuracy'])\n",
        "time1 = score['fit_time'].mean()\n",
        "print(f\"Time fit = {time1}\")\n",
        "time2 = score['score_time'].mean()\n",
        "print(f\"Time predict = {time2}\")\n",
        "# Определите качество классификации на тестовом подмножестве (Balanced-Accuracy, R, P, F1)\n",
        "balanced_accuracy_model = score['test_balanced_accuracy'].mean()\n",
        "recall_score_model = score['test_recall_macro'].mean()\n",
        "precision_score_model = score['test_precision_macro'].mean()\n",
        "f1_score_model = score['test_f1_macro'].mean()\n",
        "print(f\"Test balanced accuracy = {balanced_accuracy_model}\")\n",
        "print(f\"Test recall score = {recall_score_model}\")\n",
        "print(f\"Test precision score = {precision_score_model}\")\n",
        "print(f\"Test f1 score = {f1_score_model}\")\n",
        "df_2.loc['Наивный Байес: модель Бернулли','Time fit'] = time1\n",
        "df_2.loc['Наивный Байес: модель Бернулли','Time predict'] = time2\n",
        "df_2.loc['Наивный Байес: модель Бернулли','Balanced-Accuracy'] = balanced_accuracy_model\n",
        "df_2.loc['Наивный Байес: модель Бернулли','R'] = recall_score_model\n",
        "df_2.loc['Наивный Байес: модель Бернулли','P'] = precision_score_model\n",
        "df_2.loc['Наивный Байес: модель Бернулли','F1'] = f1_score_model"
      ]
    },
    {
      "cell_type": "markdown",
      "metadata": {
        "id": "mNmTqxajOG71"
      },
      "source": [
        "⚠️ Замечание - пункты 5-6 задания выполнялись в процессе взаимодействия с моделями"
      ]
    },
    {
      "cell_type": "markdown",
      "metadata": {
        "id": "8a_uBNRnODPN"
      },
      "source": [
        "⚠️ Замечание - пункт 7 задания. Датафрейм создан и заполнен выше"
      ]
    },
    {
      "cell_type": "code",
      "execution_count": 236,
      "metadata": {
        "colab": {
          "base_uri": "https://localhost:8080/",
          "height": 192
        },
        "id": "zVheR7zbOLEO",
        "outputId": "b634b13a-7512-49e1-da65-229d124519ac"
      },
      "outputs": [
        {
          "output_type": "stream",
          "name": "stdout",
          "text": [
            "Представление результатов в виде таблицы:\n"
          ]
        },
        {
          "output_type": "execute_result",
          "data": {
            "text/plain": [
              "                                     Balanced-Accuracy         R         P  \\\n",
              "K-ближайших соседей                           0.555894  0.555894  0.649464   \n",
              "Логистическая регрессия                       0.921523  0.921523  0.955518   \n",
              "Наивный Байес: модель Бернулли                0.663606  0.663606  0.814551   \n",
              "Наивный Байес: полиномиальная модель          0.775191  0.775191  0.911538   \n",
              "\n",
              "                                            F1  Time fit Time predict  \n",
              "K-ближайших соседей                   0.365056  0.005643     0.164282  \n",
              "Логистическая регрессия               0.935962  0.521656     0.008052  \n",
              "Наивный Байес: модель Бернулли        0.677904  0.011403     0.011104  \n",
              "Наивный Байес: полиномиальная модель  0.807091  0.014886     0.005891  "
            ],
            "text/html": [
              "\n",
              "  <div id=\"df-e23aa74f-961a-4c61-b0c3-9f41c2c8623b\">\n",
              "    <div class=\"colab-df-container\">\n",
              "      <div>\n",
              "<style scoped>\n",
              "    .dataframe tbody tr th:only-of-type {\n",
              "        vertical-align: middle;\n",
              "    }\n",
              "\n",
              "    .dataframe tbody tr th {\n",
              "        vertical-align: top;\n",
              "    }\n",
              "\n",
              "    .dataframe thead th {\n",
              "        text-align: right;\n",
              "    }\n",
              "</style>\n",
              "<table border=\"1\" class=\"dataframe\">\n",
              "  <thead>\n",
              "    <tr style=\"text-align: right;\">\n",
              "      <th></th>\n",
              "      <th>Balanced-Accuracy</th>\n",
              "      <th>R</th>\n",
              "      <th>P</th>\n",
              "      <th>F1</th>\n",
              "      <th>Time fit</th>\n",
              "      <th>Time predict</th>\n",
              "    </tr>\n",
              "  </thead>\n",
              "  <tbody>\n",
              "    <tr>\n",
              "      <th>K-ближайших соседей</th>\n",
              "      <td>0.555894</td>\n",
              "      <td>0.555894</td>\n",
              "      <td>0.649464</td>\n",
              "      <td>0.365056</td>\n",
              "      <td>0.005643</td>\n",
              "      <td>0.164282</td>\n",
              "    </tr>\n",
              "    <tr>\n",
              "      <th>Логистическая регрессия</th>\n",
              "      <td>0.921523</td>\n",
              "      <td>0.921523</td>\n",
              "      <td>0.955518</td>\n",
              "      <td>0.935962</td>\n",
              "      <td>0.521656</td>\n",
              "      <td>0.008052</td>\n",
              "    </tr>\n",
              "    <tr>\n",
              "      <th>Наивный Байес: модель Бернулли</th>\n",
              "      <td>0.663606</td>\n",
              "      <td>0.663606</td>\n",
              "      <td>0.814551</td>\n",
              "      <td>0.677904</td>\n",
              "      <td>0.011403</td>\n",
              "      <td>0.011104</td>\n",
              "    </tr>\n",
              "    <tr>\n",
              "      <th>Наивный Байес: полиномиальная модель</th>\n",
              "      <td>0.775191</td>\n",
              "      <td>0.775191</td>\n",
              "      <td>0.911538</td>\n",
              "      <td>0.807091</td>\n",
              "      <td>0.014886</td>\n",
              "      <td>0.005891</td>\n",
              "    </tr>\n",
              "  </tbody>\n",
              "</table>\n",
              "</div>\n",
              "      <button class=\"colab-df-convert\" onclick=\"convertToInteractive('df-e23aa74f-961a-4c61-b0c3-9f41c2c8623b')\"\n",
              "              title=\"Convert this dataframe to an interactive table.\"\n",
              "              style=\"display:none;\">\n",
              "        \n",
              "  <svg xmlns=\"http://www.w3.org/2000/svg\" height=\"24px\"viewBox=\"0 0 24 24\"\n",
              "       width=\"24px\">\n",
              "    <path d=\"M0 0h24v24H0V0z\" fill=\"none\"/>\n",
              "    <path d=\"M18.56 5.44l.94 2.06.94-2.06 2.06-.94-2.06-.94-.94-2.06-.94 2.06-2.06.94zm-11 1L8.5 8.5l.94-2.06 2.06-.94-2.06-.94L8.5 2.5l-.94 2.06-2.06.94zm10 10l.94 2.06.94-2.06 2.06-.94-2.06-.94-.94-2.06-.94 2.06-2.06.94z\"/><path d=\"M17.41 7.96l-1.37-1.37c-.4-.4-.92-.59-1.43-.59-.52 0-1.04.2-1.43.59L10.3 9.45l-7.72 7.72c-.78.78-.78 2.05 0 2.83L4 21.41c.39.39.9.59 1.41.59.51 0 1.02-.2 1.41-.59l7.78-7.78 2.81-2.81c.8-.78.8-2.07 0-2.86zM5.41 20L4 18.59l7.72-7.72 1.47 1.35L5.41 20z\"/>\n",
              "  </svg>\n",
              "      </button>\n",
              "      \n",
              "  <style>\n",
              "    .colab-df-container {\n",
              "      display:flex;\n",
              "      flex-wrap:wrap;\n",
              "      gap: 12px;\n",
              "    }\n",
              "\n",
              "    .colab-df-convert {\n",
              "      background-color: #E8F0FE;\n",
              "      border: none;\n",
              "      border-radius: 50%;\n",
              "      cursor: pointer;\n",
              "      display: none;\n",
              "      fill: #1967D2;\n",
              "      height: 32px;\n",
              "      padding: 0 0 0 0;\n",
              "      width: 32px;\n",
              "    }\n",
              "\n",
              "    .colab-df-convert:hover {\n",
              "      background-color: #E2EBFA;\n",
              "      box-shadow: 0px 1px 2px rgba(60, 64, 67, 0.3), 0px 1px 3px 1px rgba(60, 64, 67, 0.15);\n",
              "      fill: #174EA6;\n",
              "    }\n",
              "\n",
              "    [theme=dark] .colab-df-convert {\n",
              "      background-color: #3B4455;\n",
              "      fill: #D2E3FC;\n",
              "    }\n",
              "\n",
              "    [theme=dark] .colab-df-convert:hover {\n",
              "      background-color: #434B5C;\n",
              "      box-shadow: 0px 1px 3px 1px rgba(0, 0, 0, 0.15);\n",
              "      filter: drop-shadow(0px 1px 2px rgba(0, 0, 0, 0.3));\n",
              "      fill: #FFFFFF;\n",
              "    }\n",
              "  </style>\n",
              "\n",
              "      <script>\n",
              "        const buttonEl =\n",
              "          document.querySelector('#df-e23aa74f-961a-4c61-b0c3-9f41c2c8623b button.colab-df-convert');\n",
              "        buttonEl.style.display =\n",
              "          google.colab.kernel.accessAllowed ? 'block' : 'none';\n",
              "\n",
              "        async function convertToInteractive(key) {\n",
              "          const element = document.querySelector('#df-e23aa74f-961a-4c61-b0c3-9f41c2c8623b');\n",
              "          const dataTable =\n",
              "            await google.colab.kernel.invokeFunction('convertToInteractive',\n",
              "                                                     [key], {});\n",
              "          if (!dataTable) return;\n",
              "\n",
              "          const docLinkHtml = 'Like what you see? Visit the ' +\n",
              "            '<a target=\"_blank\" href=https://colab.research.google.com/notebooks/data_table.ipynb>data table notebook</a>'\n",
              "            + ' to learn more about interactive tables.';\n",
              "          element.innerHTML = '';\n",
              "          dataTable['output_type'] = 'display_data';\n",
              "          await google.colab.output.renderOutput(dataTable, element);\n",
              "          const docLink = document.createElement('div');\n",
              "          docLink.innerHTML = docLinkHtml;\n",
              "          element.appendChild(docLink);\n",
              "        }\n",
              "      </script>\n",
              "    </div>\n",
              "  </div>\n",
              "  "
            ]
          },
          "metadata": {},
          "execution_count": 236
        }
      ],
      "source": [
        "print(\"Представление результатов в виде таблицы:\")\n",
        "df_2"
      ]
    },
    {
      "cell_type": "markdown",
      "metadata": {
        "id": "5tLy9z62D65q"
      },
      "source": [
        "# Задание 3. Выбор модели (4 баллов)"
      ]
    },
    {
      "cell_type": "markdown",
      "metadata": {
        "id": "3IHZTMHh6-s5"
      },
      "source": [
        "<p style=\"padding-left:15px;\">1. Используя данные из задачи 1, разбейте обучающее подмножество (train) с использованием k-folds (k=4) <br>\n",
        "2. Обучите и протестируйте на разбитом обучающем подмножестве классификаторы со следующими параметрами: </p>"
      ]
    },
    {
      "cell_type": "markdown",
      "metadata": {
        "id": "JxY4AaY26-s5"
      },
      "source": [
        "<p>K-ближайших соседей</p>"
      ]
    },
    {
      "cell_type": "code",
      "execution_count": 237,
      "metadata": {
        "collapsed": true,
        "id": "Jr4tiOJj6-s5"
      },
      "outputs": [],
      "source": [
        "ns = np.arange(1, 150, 20)  # количество соседей"
      ]
    },
    {
      "cell_type": "markdown",
      "metadata": {
        "id": "sq1FUw8O6-s5"
      },
      "source": [
        "<p>Логистическая регрессия</p>"
      ]
    },
    {
      "cell_type": "code",
      "execution_count": 238,
      "metadata": {
        "collapsed": true,
        "id": "ZNrsvZ_Y6-s6"
      },
      "outputs": [],
      "source": [
        "cs = np.logspace(-2, 10, 8, base=10)  # параметр регуляризации"
      ]
    },
    {
      "cell_type": "markdown",
      "metadata": {
        "id": "C75vit_M6-s6"
      },
      "source": [
        "Наивный Байес: модель Бернулли"
      ]
    },
    {
      "cell_type": "code",
      "execution_count": 239,
      "metadata": {
        "id": "RiZ1YjLv6-s6"
      },
      "outputs": [],
      "source": [
        "alphas = np.logspace(-4, 1, 8, base=10)  # сглаживающий параметр"
      ]
    },
    {
      "cell_type": "markdown",
      "metadata": {
        "id": "AXGWO_VM6-s6"
      },
      "source": [
        "<p>Наивный Байес: полиномиальная модель </p>"
      ]
    },
    {
      "cell_type": "code",
      "execution_count": 240,
      "metadata": {
        "collapsed": true,
        "id": "L1wR2MAg6-s6"
      },
      "outputs": [],
      "source": [
        "alphas = np.logspace(-4, 1, 8, base=10)  # сглаживающий параметр"
      ]
    },
    {
      "cell_type": "markdown",
      "metadata": {
        "id": "eweyp8TB6-s6"
      },
      "source": [
        "<p style=\"padding-left:15px;\">3. Постройте графики (параметры модели)-(Balanced-Accuracy) при обучении и валидации <br>\n",
        "4. Выберите лучшую модель для каждого метода, используя значение качества классификации (использовать Balanced-Accuracy)<br>\n",
        "5. Выбранные модели обучите на обучающем подмножестве (train) и протестируйте на тестовом (test). Определите время обучения и предсказания (см. задачу 1 п. 6)<br>\n",
        "6. Повторите шаги 2-4 для n-gram=2 и n-gram=(1,2)<br>\n",
        "7. Выведите в виде таблицы итоговые данные по всем методам для лучших моделей (метод, n-gram, значение параметра модели, время обучения, время предсказания, метрики (Balanced-Accuracy, R, P, F1))<br>\n",
        "8. Сделайте выводы по полученным результатам (преимущества и недостатки методов)\n",
        "</p>"
      ]
    },
    {
      "cell_type": "markdown",
      "metadata": {
        "id": "9Vla9WUTTkuU"
      },
      "source": [
        "\n",
        "\n",
        "---\n",
        "\n"
      ]
    },
    {
      "cell_type": "code",
      "execution_count": 241,
      "metadata": {
        "collapsed": true,
        "id": "UK9A_9UB6-s7"
      },
      "outputs": [],
      "source": [
        "random_state = 123  # для всех объектов/методов/моделей"
      ]
    },
    {
      "cell_type": "markdown",
      "metadata": {
        "id": "I-hpvjhZTPTS"
      },
      "source": [
        "⚠️ Замечание - т.к. в задании написано \"разбейте обучающее подмножество (train) с использованием k-folds (k=4)\", то разбивается подмножество (train) из задания №1 на подмножества train и test"
      ]
    },
    {
      "cell_type": "code",
      "execution_count": 242,
      "metadata": {
        "id": "UOU1-FUew1eX"
      },
      "outputs": [],
      "source": [
        "#В первую очередь создам датафрейм и его представление в виде таблицы\n",
        "index = range(0,12)\n",
        "columns = [\"method\",\"n-gram\", \"Value_best\",  \"Time fit\", \"Time predict\", \"Balanced-Accuracy\", \"R\", \"P\", \"F1\"]\n",
        "df_3 = pd.DataFrame(index=index, columns=columns)"
      ]
    },
    {
      "cell_type": "code",
      "execution_count": 243,
      "metadata": {
        "collapsed": true,
        "id": "zlv0RD1f6-s7"
      },
      "outputs": [],
      "source": [
        "# Изменение метода разделения исходных данных, под \"(k=4)\" подразумевается n_splits=4\n",
        "kf = StratifiedKFold(n_splits=4, random_state=random_state,shuffle = True)\n",
        "for train_index, test_index in kf.split(X_train,y_train):\n",
        "  X3_train, X3_test = X_train[train_index], X_train[test_index]\n",
        "  y3_train, y3_test = y_train[train_index], y_train[test_index]\n",
        "#Передаем набор документов, на основе которых будут строиться векторы\n",
        "vectorizer = vectorizer.fit(X3_train)\n",
        "# Преобразование текстовых документов в векторы\n",
        "train_vectors3 = vectorizer.fit_transform(X3_train)\n",
        "test_vectors3 = vectorizer.transform(X3_test.astype('U'))"
      ]
    },
    {
      "cell_type": "markdown",
      "metadata": {
        "id": "PE1Q-XTSSv9G"
      },
      "source": [
        "# Модели классификаций"
      ]
    },
    {
      "cell_type": "markdown",
      "metadata": {
        "id": "au-x1XEcSyR4"
      },
      "source": [
        "> K-ближайших соседей"
      ]
    },
    {
      "cell_type": "code",
      "execution_count": 244,
      "metadata": {
        "colab": {
          "base_uri": "https://localhost:8080/",
          "height": 0
        },
        "id": "p1fEWnHXeVBX",
        "outputId": "469235a2-d9de-4a93-a8f3-77365c2e1e44"
      },
      "outputs": [
        {
          "output_type": "stream",
          "name": "stdout",
          "text": [
            "K-ближайших соседей\n",
            "balanced_accuracy на тестовом подмножестве - 0.6451067454477546, при n_neighbors - 1\n",
            "balanced_accuracy на тестовом подмножестве - 0.698782205235572, при n_neighbors - 21\n",
            "balanced_accuracy на тестовом подмножестве - 0.9145424347839479, при n_neighbors - 41\n",
            "balanced_accuracy на тестовом подмножестве - 0.9091841969622981, при n_neighbors - 61\n",
            "balanced_accuracy на тестовом подмножестве - 0.9072752933026828, при n_neighbors - 81\n",
            "balanced_accuracy на тестовом подмножестве - 0.9023760398121563, при n_neighbors - 101\n",
            "balanced_accuracy на тестовом подмножестве - 0.9007029257947288, при n_neighbors - 121\n",
            "balanced_accuracy на тестовом подмножестве - 0.8876817069484374, при n_neighbors - 141\n",
            "Best n_neighbors : 41\n"
          ]
        }
      ],
      "source": [
        "from sklearn.pipeline import Pipeline\n",
        "\n",
        "def knn(train_vectors3, y3_train):\n",
        "  global scores_test_knn,best_n\n",
        "  best_acc = 0\n",
        "  print(\"K-ближайших соседей\")\n",
        "  pipeline = Pipeline([\n",
        "      (\"knn_model\", KNeighborsClassifier(n_neighbors=None, p=2))\n",
        "  ])\n",
        "  for n in ns:\n",
        "      pipeline.named_steps[\"knn_model\"]. n_neighbors = n\n",
        "      score = cross_validate(pipeline, train_vectors3, y3_train, cv=kf, scoring=['balanced_accuracy'])\n",
        "      balanced_accuracy_model = score['test_balanced_accuracy'].mean()\n",
        "      scores_test_knn.append(balanced_accuracy_model)\n",
        "      if best_acc < balanced_accuracy_model:\n",
        "          best_acc = balanced_accuracy_model\n",
        "          best_n = n\n",
        "      print('balanced_accuracy на тестовом подмножестве - {}, при n_neighbors - {}'.format(balanced_accuracy_model,n))\n",
        "  print(\"Best n_neighbors :\", best_n)\n",
        "scores_test_knn=[] \n",
        "best_n = 0\n",
        "knn(train_vectors3, y3_train)"
      ]
    },
    {
      "cell_type": "markdown",
      "metadata": {
        "id": "6U_Wx5RKiihg"
      },
      "source": [
        "\n",
        "> Логистическая регрессия\n",
        "\n"
      ]
    },
    {
      "cell_type": "code",
      "execution_count": 245,
      "metadata": {
        "colab": {
          "base_uri": "https://localhost:8080/",
          "height": 0
        },
        "id": "eRooC4-7SyBn",
        "outputId": "cee597a3-9da6-471e-994c-7b080e77cd18"
      },
      "outputs": [
        {
          "output_type": "stream",
          "name": "stdout",
          "text": [
            "Логистическая регрессия\n",
            "balanced_accuracy на тестовом подмножестве - 0.5, при C - 0.01\n",
            "balanced_accuracy на тестовом подмножестве - 0.8698112289643423, при C - 0.517947467923121\n",
            "balanced_accuracy на тестовом подмножестве - 0.968480069116572, при C - 26.826957952797247\n",
            "balanced_accuracy на тестовом подмножестве - 0.9689422352482497, при C - 1389.4954943731361\n",
            "balanced_accuracy на тестовом подмножестве - 0.9683804432079023, при C - 71968.56730011514\n",
            "balanced_accuracy на тестовом подмножестве - 0.9658497217070031, при C - 3727593.720314938\n",
            "balanced_accuracy на тестовом подмножестве - 0.9583549739171813, при C - 193069772.88832456\n",
            "balanced_accuracy на тестовом подмножестве - 0.9561507880239709, при C - 10000000000.0\n",
            "Best C : 1389.4954943731361\n"
          ]
        }
      ],
      "source": [
        "def logreg(train_vectors3, y3_train):\n",
        "  global scores_test_logreg, best_c\n",
        "  best_acc = 0\n",
        "  print(\"Логистическая регрессия\")\n",
        "  pipeline = Pipeline([\n",
        "      (\"logreg_model\", LogisticRegression(penalty=\"l2\", fit_intercept=True, max_iter=100, C=None, solver=\"lbfgs\", random_state=12345))\n",
        "  ])\n",
        "  for c in cs:\n",
        "      pipeline.named_steps[\"logreg_model\"]. C = c\n",
        "      score = cross_validate(pipeline, train_vectors3, y3_train, cv=kf, scoring=['balanced_accuracy'])\n",
        "      #scores = cross_val_score(pipeline, train_vectors3, y3_train, cv=kf)\n",
        "      balanced_accuracy_model = score['test_balanced_accuracy'].mean()\n",
        "      scores_test_logreg.append(balanced_accuracy_model)\n",
        "      if best_acc < balanced_accuracy_model:\n",
        "          best_acc = balanced_accuracy_model\n",
        "          best_c = c\n",
        "      print('balanced_accuracy на тестовом подмножестве - {}, при C - {}'.format(balanced_accuracy_model,c))\n",
        "  print(\"Best C :\", best_c)\n",
        "scores_test_logreg=[]  \n",
        "best_c  = 0\n",
        "logreg(train_vectors3, y3_train)"
      ]
    },
    {
      "cell_type": "markdown",
      "metadata": {
        "id": "baX_WZVFlWIQ"
      },
      "source": [
        "\n",
        "> Наивный Байес: полиномиальная модель\n",
        "\n"
      ]
    },
    {
      "cell_type": "code",
      "execution_count": 246,
      "metadata": {
        "colab": {
          "base_uri": "https://localhost:8080/",
          "height": 0
        },
        "id": "2ql_kD7vlWT5",
        "outputId": "316d4e73-74d7-4ff8-d241-1bb6c9ca743a"
      },
      "outputs": [
        {
          "output_type": "stream",
          "name": "stdout",
          "text": [
            "Наивный Байес: полиномиальная модель\n",
            "balanced_accuracy на тестовом подмножестве - 0.9507525519030057, при alpha - 0.0001\n",
            "balanced_accuracy на тестовом подмножестве - 0.9526732997306108, при alpha - 0.0005179474679231213\n",
            "balanced_accuracy на тестовом подмножестве - 0.9540728110145211, при alpha - 0.002682695795279727\n",
            "balanced_accuracy на тестовом подмножестве - 0.9573972030717453, при alpha - 0.013894954943731374\n",
            "balanced_accuracy на тестовом подмножестве - 0.9500971562179293, при alpha - 0.07196856730011521\n",
            "balanced_accuracy на тестовом подмножестве - 0.8985944092365634, при alpha - 0.3727593720314942\n",
            "balanced_accuracy на тестовом подмножестве - 0.6945651414497613, при alpha - 1.9306977288832496\n",
            "balanced_accuracy на тестовом подмножестве - 0.5255801562869997, при alpha - 10.0\n",
            "Best alpha : 0.013894954943731374\n"
          ]
        }
      ],
      "source": [
        "def multNB(train_vectors3, y3_train,test_vectors3,y3_test):\n",
        "  global scores_test_multNB, best_alpha_multNB\n",
        "  best_acc = 0\n",
        "  print(\"Наивный Байес: полиномиальная модель\")\n",
        "  pipeline = Pipeline([\n",
        "      (\"m_multNB\", MultinomialNB(alpha=None))\n",
        "  ])\n",
        "  for alpha in alphas:\n",
        "      pipeline.named_steps[\"m_multNB\"].alpha = alpha\n",
        "      score = cross_validate(pipeline, train_vectors3, y3_train, cv=kf, scoring=['balanced_accuracy'])\n",
        "      #scores = cross_val_score(pipeline, train_vectors3, y3_train, cv=kf)\n",
        "      balanced_accuracy_model = score['test_balanced_accuracy'].mean()     \n",
        "      scores_test_multNB.append(balanced_accuracy_model)\n",
        "      if best_acc < balanced_accuracy_model:\n",
        "          best_acc = balanced_accuracy_model\n",
        "          best_alpha_multNB = alpha\n",
        "      print('balanced_accuracy на тестовом подмножестве - {}, при alpha - {}'.format(balanced_accuracy_model,alpha))\n",
        "  print(\"Best alpha :\", best_alpha_multNB)\n",
        "scores_test_multNB=[] \n",
        "best_alpha_multNB = 0\n",
        "multNB(train_vectors3, y3_train,test_vectors3,y3_test)"
      ]
    },
    {
      "cell_type": "markdown",
      "metadata": {
        "id": "QwBNr8FXdupZ"
      },
      "source": [
        "> Наивный Байес: модель Бернулли"
      ]
    },
    {
      "cell_type": "code",
      "execution_count": 247,
      "metadata": {
        "colab": {
          "base_uri": "https://localhost:8080/",
          "height": 0
        },
        "id": "VpYrF76kVpH5",
        "outputId": "1af1e48d-ec05-494c-a1d6-5f75d2c6d622"
      },
      "outputs": [
        {
          "output_type": "stream",
          "name": "stdout",
          "text": [
            "Наивный Байес: модель Бернулли\n",
            "balanced_accuracy на тестовом подмножестве - 0.8704732567213451, при alpha - 0.0001\n",
            "balanced_accuracy на тестовом подмножестве - 0.8699125181279803, при alpha - 0.0005179474679231213\n",
            "balanced_accuracy на тестовом подмножестве - 0.8675225112419327, при alpha - 0.002682695795279727\n",
            "balanced_accuracy на тестовом подмножестве - 0.86212978139122, при alpha - 0.013894954943731374\n",
            "balanced_accuracy на тестовом подмножестве - 0.8458170147620763, при alpha - 0.07196856730011521\n",
            "balanced_accuracy на тестовом подмножестве - 0.7860369797771743, при alpha - 0.3727593720314942\n",
            "balanced_accuracy на тестовом подмножестве - 0.5978748013514594, при alpha - 1.9306977288832496\n",
            "balanced_accuracy на тестовом подмножестве - 0.5208432400569882, при alpha - 10.0\n",
            "Best alpha : 0.0001\n"
          ]
        }
      ],
      "source": [
        "def bernNB(y3_train,y3_test):\n",
        "  global train_binary_vectors33, test_binary_vectors33, scores_test_bernNB, best_alpha_bernNB\n",
        "  best_acc = 0\n",
        "  print(\"Наивный Байес: модель Бернулли\")\n",
        "  pipeline = Pipeline([\n",
        "      (\"m_bernNB\", BernoulliNB(alpha=None, binarize=None))\n",
        "  ])\n",
        "  for alpha in alphas:\n",
        "      pipeline.named_steps[\"m_bernNB\"]. alpha = alpha\n",
        "      score = cross_validate(pipeline, train_binary_vectors33, y3_train, cv=kf, scoring=['balanced_accuracy'])\n",
        "      #scores = cross_val_score(pipeline, train_vectors3, y3_train, cv=kf)\n",
        "      balanced_accuracy_model = score['test_balanced_accuracy'].mean() \n",
        "      scores_test_bernNB.append(balanced_accuracy_model)\n",
        "      if best_acc < balanced_accuracy_model:\n",
        "          best_acc = balanced_accuracy_model\n",
        "          best_alpha_bernNB = alpha\n",
        "      print('balanced_accuracy на тестовом подмножестве - {}, при alpha - {}'.format(balanced_accuracy_model,alpha))\n",
        "  print(\"Best alpha :\", best_alpha_bernNB)\n",
        "\n",
        "\n",
        "train_binary_vectors33 = count_vectorizer.fit_transform(X3_train.astype('U'))\n",
        "test_binary_vectors33 = count_vectorizer.transform(X3_test.astype('U'))\n",
        "scores_test_bernNB=[] \n",
        "best_alpha_bernNB = 0\n",
        "bernNB(y3_train,y3_test)"
      ]
    },
    {
      "cell_type": "markdown",
      "metadata": {
        "id": "aGWZ0cxunDND"
      },
      "source": [
        "# Графики"
      ]
    },
    {
      "cell_type": "code",
      "execution_count": 248,
      "metadata": {
        "colab": {
          "base_uri": "https://localhost:8080/",
          "height": 897
        },
        "id": "-uhS9HGsnZvq",
        "outputId": "a22eb34e-dd2a-4672-afd7-d39b0a49c35c"
      },
      "outputs": [
        {
          "output_type": "display_data",
          "data": {
            "text/plain": [
              "<Figure size 1800x1080 with 4 Axes>"
            ],
            "image/png": "[encoded data removed]"
          },
          "metadata": {
            "needs_background": "light"
          }
        }
      ],
      "source": [
        "#Постройте графики (параметры модели)-(Balanced-Accuracy) при обучении и валидации\n",
        "plt.figure(1, figsize=[25, 15])\n",
        "plt.subplot(2,2,1)\n",
        "plt.plot(ns, scores_test_knn, color=\"red\", label = 'K-ближайших соседей', ls = 'dashed')\n",
        "plt.xlabel(\"n_neighbors\")\n",
        "plt.ylabel(\"balanced_accuracy\")\n",
        "plt.title('График зависимости balanced_accuracy от n_neighbors для K-ближайших соседей')\n",
        "plt.grid(True)\n",
        "plt.legend(loc=4, shadow=True, fontsize='xx-large')\n",
        "\n",
        "plt.subplot(2,2,2)\n",
        "plt.plot(cs, scores_test_logreg, color=\"red\", label = 'Логистическая регрессия', ls = 'dashed')\n",
        "plt.xlabel(\"C\")\n",
        "plt.ylabel(\"balanced_accuracy\")\n",
        "plt.title('График зависимости balanced_accuracy от C для Логистическая регрессия')\n",
        "plt.grid(True)\n",
        "plt.xscale('log')\n",
        "plt.legend(loc=4, shadow=True, fontsize='xx-large')\n",
        "\n",
        "plt.subplot(2,2,3)\n",
        "plt.plot(alphas, scores_test_bernNB, color=\"red\", label = 'Наивный Байес: модель Бернулли', ls = 'dashed')\n",
        "plt.xlabel(\"alpha\")\n",
        "plt.ylabel(\"balanced_accuracy\")\n",
        "plt.title('График зависимости balanced_accuracy от alpha для Наивный Байес: модель Бернулли')\n",
        "plt.grid(True)\n",
        "plt.xscale('log')\n",
        "plt.legend(loc=1, shadow=True, fontsize='xx-large')\n",
        "\n",
        "plt.subplot(2,2,4)\n",
        "plt.plot(alphas, scores_test_multNB, color=\"red\", label = 'Наивный Байес: полиномиальная модель', ls = 'dashed')\n",
        "plt.xlabel(\"alpha\")\n",
        "plt.ylabel(\"balanced_accuracy\")\n",
        "plt.title('График зависимости balanced_accuracy от alpha для Наивный Байес: полиномиальная модель')\n",
        "plt.grid(True)\n",
        "plt.xscale('log')\n",
        "plt.legend(loc=1, shadow=True, fontsize='xx-large')\n",
        "\n",
        "plt.show()"
      ]
    },
    {
      "cell_type": "markdown",
      "metadata": {
        "id": "0D-DraDksBGD"
      },
      "source": [
        "# Лучшие модели\n",
        "\n"
      ]
    },
    {
      "cell_type": "code",
      "execution_count": 249,
      "metadata": {
        "colab": {
          "base_uri": "https://localhost:8080/",
          "height": 0
        },
        "id": "FQmoCOPOroJE",
        "outputId": "5bbce663-7d9d-4d7e-cc96-0e7d34d8a346"
      },
      "outputs": [
        {
          "output_type": "stream",
          "name": "stdout",
          "text": [
            "Best models:\n",
            "Best K-ближайших соседей n_neighbors -  41\n",
            "Best Логистическая регрессия C -  1389.4954943731361\n",
            "Best Наивный Байес: полиномиальная модель alpha -  0.013894954943731374\n",
            "Best Наивный Байес: модель Бернулли alpha -  0.0001\n"
          ]
        }
      ],
      "source": [
        "#Выберите лучшую модель для каждого метода, используя значение качества классификации (использовать Balanced-Accuracy)\n",
        "print(\"Best models:\")\n",
        "print(\"Best K-ближайших соседей n_neighbors - \", best_n)\n",
        "print(\"Best Логистическая регрессия C - \", best_c)\n",
        "print(\"Best Наивный Байес: полиномиальная модель alpha - \", best_alpha_multNB)\n",
        "print(\"Best Наивный Байес: модель Бернулли alpha - \", best_alpha_bernNB)"
      ]
    },
    {
      "cell_type": "code",
      "execution_count": 250,
      "metadata": {
        "colab": {
          "base_uri": "https://localhost:8080/",
          "height": 0
        },
        "id": "VKIi2U8ksv37",
        "outputId": "1b3c93c1-0e4a-4bac-bff8-e175043c599b"
      },
      "outputs": [
        {
          "output_type": "stream",
          "name": "stdout",
          "text": [
            "K-ближайших соседей\n",
            "Time fit = 0.0037189126014709473\n",
            "Time predict = 0.11257272958755493\n",
            "Test balanced accuracy = 0.9145424347839479\n",
            "Test recall score = 0.9145424347839479\n",
            "Test precision score = 0.8846552255283217\n",
            "Test f1 score = 0.8957747251589554\n"
          ]
        }
      ],
      "source": [
        "#Выбранные модели обучите на обучающем подмножестве (train) и протестируйте на тестовом (test). Определите время обучения и предсказания (см. задачу 1 п. 6)\n",
        "\n",
        "def best_knn(df,index,train_vectors3, y3_train,test_vectors3,y3_test):\n",
        "  global best_n,gram\n",
        "  #K-ближайших соседей\n",
        "  print(\"K-ближайших соседей\")\n",
        "  # Создание и обучение модели\n",
        "  knn_model = KNeighborsClassifier(n_neighbors=best_n, p=2,)\n",
        "  score = cross_validate(knn_model, train_vectors3, y3_train, cv=kf, scoring=['f1_macro','recall_macro','precision_macro','balanced_accuracy'])\n",
        "  time1 = score['fit_time'].mean()\n",
        "  print(f\"Time fit = {time1}\")\n",
        "  time2 = score['score_time'].mean()\n",
        "  print(f\"Time predict = {time2}\")\n",
        "  # Определите качество классификации на тестовом подмножестве (Balanced-Accuracy, R, P, F1)\n",
        "  balanced_accuracy_model = score['test_balanced_accuracy'].mean()\n",
        "  recall_score_model = score['test_recall_macro'].mean()\n",
        "  precision_score_model = score['test_precision_macro'].mean()\n",
        "  f1_score_model = score['test_f1_macro'].mean()\n",
        "  print(f\"Test balanced accuracy = {balanced_accuracy_model}\")\n",
        "  print(f\"Test recall score = {recall_score_model}\")\n",
        "  print(f\"Test precision score = {precision_score_model}\")\n",
        "  print(f\"Test f1 score = {f1_score_model}\")\n",
        "  df.loc[index,'Time fit'] = time1\n",
        "  df.loc[index,'Time predict'] = time2\n",
        "  df.loc[index,'Value_best'] = best_n\n",
        "  df.loc[index,'n-gram'] = gram\n",
        "  df.loc[index,'method'] = 'K-ближайших соседей'\n",
        "  df.loc[index,'Balanced-Accuracy'] = balanced_accuracy_model\n",
        "  df.loc[index,'R'] = recall_score_model\n",
        "  df.loc[index,'P'] = precision_score_model\n",
        "  df.loc[index,'F1'] = f1_score_model\n",
        "gram = 1 \n",
        "best_knn(df_3,0,train_vectors3, y3_train,test_vectors3,y3_test)"
      ]
    },
    {
      "cell_type": "code",
      "execution_count": 251,
      "metadata": {
        "colab": {
          "base_uri": "https://localhost:8080/",
          "height": 0
        },
        "id": "H419uE_uttsg",
        "outputId": "cd9309ad-4c08-43dc-ae59-75a8c30311df"
      },
      "outputs": [
        {
          "output_type": "stream",
          "name": "stdout",
          "text": [
            "Логистическая регрессия\n",
            "Time fit = 1.444276750087738\n",
            "Time predict = 0.008858680725097656\n",
            "Test balanced accuracy = 0.9689422352482497\n",
            "Test recall score = 0.9689422352482497\n",
            "Test precision score = 0.9663420913323375\n",
            "Test f1 score = 0.9675776372038534\n"
          ]
        }
      ],
      "source": [
        "def best_logreg(df,index,train_vectors3, y3_train,test_vectors3,y3_test):\n",
        "  global best_c,gram\n",
        "  #Логистическая регрессия\n",
        "  print(\"Логистическая регрессия\")\n",
        "  # Создание и обучение модели\n",
        "  logreg_model = LogisticRegression(penalty=\"l2\", fit_intercept=True, max_iter=100, C=best_c, solver=\"lbfgs\", random_state=12345)\n",
        "  score = cross_validate(logreg_model, train_vectors3, y3_train, cv=kf, scoring=['f1_macro','recall_macro','precision_macro','balanced_accuracy'])\n",
        "  time1 = score['fit_time'].mean()\n",
        "  print(f\"Time fit = {time1}\")\n",
        "  time2 = score['score_time'].mean()\n",
        "  print(f\"Time predict = {time2}\")\n",
        "  # Определите качество классификации на тестовом подмножестве (Balanced-Accuracy, R, P, F1)\n",
        "  balanced_accuracy_model = score['test_balanced_accuracy'].mean()\n",
        "  recall_score_model = score['test_recall_macro'].mean()\n",
        "  precision_score_model = score['test_precision_macro'].mean()\n",
        "  f1_score_model = score['test_f1_macro'].mean()\n",
        "  print(f\"Test balanced accuracy = {balanced_accuracy_model}\")\n",
        "  print(f\"Test recall score = {recall_score_model}\")\n",
        "  print(f\"Test precision score = {precision_score_model}\")\n",
        "  print(f\"Test f1 score = {f1_score_model}\")\n",
        "  df.loc[index,'Time fit'] = time1\n",
        "  df.loc[index,'Time predict'] = time2\n",
        "  df.loc[index,'Value_best'] = best_c\n",
        "  df.loc[index,'n-gram'] = gram\n",
        "  df.loc[index,'method'] = 'Логистическая регрессия'\n",
        "  df.loc[index,'Balanced-Accuracy'] = balanced_accuracy_model\n",
        "  df.loc[index,'R'] = recall_score_model\n",
        "  df.loc[index,'P'] = precision_score_model\n",
        "  df.loc[index,'F1'] = f1_score_model\n",
        "best_logreg(df_3,3,train_vectors3, y3_train,test_vectors3,y3_test)"
      ]
    },
    {
      "cell_type": "code",
      "execution_count": 252,
      "metadata": {
        "colab": {
          "base_uri": "https://localhost:8080/",
          "height": 0
        },
        "id": "rMDUaZe7uCxk",
        "outputId": "7a380249-b1e7-4a2c-f7b0-8fcb212b63c1"
      },
      "outputs": [
        {
          "output_type": "stream",
          "name": "stdout",
          "text": [
            "Наивный Байес: полиномиальная модель\n",
            "Time fit = 0.008489251136779785\n",
            "Time predict = 0.004615426063537598\n",
            "Test balanced accuracy = 0.9573972030717453\n",
            "Test recall score = 0.9573972030717453\n",
            "Test precision score = 0.9486575892030349\n",
            "Test f1 score = 0.9527850209177651\n"
          ]
        }
      ],
      "source": [
        "def best_multNB(df,index,train_vectors3, y3_train,test_vectors3,y3_test):\n",
        "  global best_alpha_multNB,gram\n",
        "  #Наивный Байес: полиномиальная модель\n",
        "  print(\"Наивный Байес: полиномиальная модель\")\n",
        "  # Создание и обучение модели\n",
        "  m_multNB = MultinomialNB(alpha=best_alpha_multNB)\n",
        "  score = cross_validate(m_multNB, train_vectors3, y3_train, cv=kf, scoring=['f1_macro','recall_macro','precision_macro','balanced_accuracy'])\n",
        "  time1 = score['fit_time'].mean()\n",
        "  print(f\"Time fit = {time1}\")\n",
        "  time2 = score['score_time'].mean()\n",
        "  print(f\"Time predict = {time2}\")\n",
        "  # Определите качество классификации на тестовом подмножестве (Balanced-Accuracy, R, P, F1)\n",
        "  balanced_accuracy_model = score['test_balanced_accuracy'].mean()\n",
        "  recall_score_model = score['test_recall_macro'].mean()\n",
        "  precision_score_model = score['test_precision_macro'].mean()\n",
        "  f1_score_model = score['test_f1_macro'].mean()\n",
        "  print(f\"Test balanced accuracy = {balanced_accuracy_model}\")\n",
        "  print(f\"Test recall score = {recall_score_model}\")\n",
        "  print(f\"Test precision score = {precision_score_model}\")\n",
        "  print(f\"Test f1 score = {f1_score_model}\")\n",
        "  df.loc[index,'Time fit'] = time1\n",
        "  df.loc[index,'Time predict'] = time2\n",
        "  df.loc[index,'Value_best'] = best_alpha_multNB\n",
        "  df.loc[index,'n-gram'] = gram\n",
        "  df.loc[index,'method'] = 'Наивный Байес: полиномиальная модель'\n",
        "  df.loc[index,'Balanced-Accuracy'] = balanced_accuracy_model\n",
        "  df.loc[index,'R'] = recall_score_model\n",
        "  df.loc[index,'P'] = precision_score_model\n",
        "  df.loc[index,'F1'] = f1_score_model\n",
        "best_multNB(df_3,6,train_vectors3, y3_train,test_vectors3,y3_test)"
      ]
    },
    {
      "cell_type": "code",
      "execution_count": 253,
      "metadata": {
        "colab": {
          "base_uri": "https://localhost:8080/",
          "height": 0
        },
        "id": "ka2z_GF6vyAm",
        "outputId": "be70e2d6-c747-4714-a3f4-99ce32cb9959"
      },
      "outputs": [
        {
          "output_type": "stream",
          "name": "stdout",
          "text": [
            "Наивный Байес: модель Бернулли\n",
            "Time fit = 0.008928060531616211\n",
            "Time predict = 0.009302914142608643\n",
            "Test balanced accuracy = 0.8704732567213451\n",
            "Test recall score = 0.8704732567213451\n",
            "Test precision score = 0.914590172768948\n",
            "Test f1 score = 0.8879739293780001\n"
          ]
        }
      ],
      "source": [
        "def best_bernNB(df,index,y3_train,y3_test):\n",
        "  global best_alpha_bernNB,train_binary_vectors33, test_binary_vectors33,gram\n",
        "  #Наивный Байес: модель Бернулли\n",
        "  print(\"Наивный Байес: модель Бернулли\")\n",
        "  # Создание и обучение модели\n",
        "  m_bernNB = BernoulliNB(alpha=best_alpha_bernNB, binarize=None)\n",
        "  score = cross_validate(m_bernNB, train_binary_vectors33, y3_train, cv=kf, scoring=['f1_macro','recall_macro','precision_macro','balanced_accuracy'])\n",
        "  time1 = score['fit_time'].mean()\n",
        "  print(f\"Time fit = {time1}\")\n",
        "  time2 = score['score_time'].mean()\n",
        "  print(f\"Time predict = {time2}\")\n",
        "  # Определите качество классификации на тестовом подмножестве (Balanced-Accuracy, R, P, F1)\n",
        "  balanced_accuracy_model = score['test_balanced_accuracy'].mean()\n",
        "  recall_score_model = score['test_recall_macro'].mean()\n",
        "  precision_score_model = score['test_precision_macro'].mean()\n",
        "  f1_score_model = score['test_f1_macro'].mean()\n",
        "  print(f\"Test balanced accuracy = {balanced_accuracy_model}\")\n",
        "  print(f\"Test recall score = {recall_score_model}\")\n",
        "  print(f\"Test precision score = {precision_score_model}\")\n",
        "  print(f\"Test f1 score = {f1_score_model}\")\n",
        "  df.loc[index,'Time fit'] = time1\n",
        "  df.loc[index,'Time predict'] = time2\n",
        "  df.loc[index,'Value_best'] = best_alpha_bernNB\n",
        "  df.loc[index,'n-gram'] = gram\n",
        "  df.loc[index,'method'] = 'Наивный Байес: модель Бернулли'\n",
        "  df.loc[index,'Balanced-Accuracy'] = balanced_accuracy_model\n",
        "  df.loc[index,'R'] = recall_score_model\n",
        "  df.loc[index,'P'] = precision_score_model\n",
        "  df.loc[index,'F1'] = f1_score_model\n",
        "best_bernNB(df_3,9,y3_train,y3_test)"
      ]
    },
    {
      "cell_type": "code",
      "execution_count": 254,
      "metadata": {
        "colab": {
          "base_uri": "https://localhost:8080/",
          "height": 426
        },
        "id": "Gst5LZPi--pp",
        "outputId": "92a9e0a4-1b1e-47c5-da1e-da18e599aee6"
      },
      "outputs": [
        {
          "output_type": "execute_result",
          "data": {
            "text/plain": [
              "                                  method n-gram   Value_best  Time fit  \\\n",
              "0                    K-ближайших соседей      1           41  0.003719   \n",
              "1                                    NaN    NaN          NaN       NaN   \n",
              "2                                    NaN    NaN          NaN       NaN   \n",
              "3                Логистическая регрессия      1  1389.495494  1.444277   \n",
              "4                                    NaN    NaN          NaN       NaN   \n",
              "5                                    NaN    NaN          NaN       NaN   \n",
              "6   Наивный Байес: полиномиальная модель      1     0.013895  0.008489   \n",
              "7                                    NaN    NaN          NaN       NaN   \n",
              "8                                    NaN    NaN          NaN       NaN   \n",
              "9         Наивный Байес: модель Бернулли      1       0.0001  0.008928   \n",
              "10                                   NaN    NaN          NaN       NaN   \n",
              "11                                   NaN    NaN          NaN       NaN   \n",
              "\n",
              "   Time predict Balanced-Accuracy         R         P        F1  \n",
              "0      0.112573          0.914542  0.914542  0.884655  0.895775  \n",
              "1           NaN               NaN       NaN       NaN       NaN  \n",
              "2           NaN               NaN       NaN       NaN       NaN  \n",
              "3      0.008859          0.968942  0.968942  0.966342  0.967578  \n",
              "4           NaN               NaN       NaN       NaN       NaN  \n",
              "5           NaN               NaN       NaN       NaN       NaN  \n",
              "6      0.004615          0.957397  0.957397  0.948658  0.952785  \n",
              "7           NaN               NaN       NaN       NaN       NaN  \n",
              "8           NaN               NaN       NaN       NaN       NaN  \n",
              "9      0.009303          0.870473  0.870473   0.91459  0.887974  \n",
              "10          NaN               NaN       NaN       NaN       NaN  \n",
              "11          NaN               NaN       NaN       NaN       NaN  "
            ],
            "text/html": [
              "\n",
              "  <div id=\"df-17b86340-fb64-4380-aab9-1f2dca44f62d\">\n",
              "    <div class=\"colab-df-container\">\n",
              "      <div>\n",
              "<style scoped>\n",
              "    .dataframe tbody tr th:only-of-type {\n",
              "        vertical-align: middle;\n",
              "    }\n",
              "\n",
              "    .dataframe tbody tr th {\n",
              "        vertical-align: top;\n",
              "    }\n",
              "\n",
              "    .dataframe thead th {\n",
              "        text-align: right;\n",
              "    }\n",
              "</style>\n",
              "<table border=\"1\" class=\"dataframe\">\n",
              "  <thead>\n",
              "    <tr style=\"text-align: right;\">\n",
              "      <th></th>\n",
              "      <th>method</th>\n",
              "      <th>n-gram</th>\n",
              "      <th>Value_best</th>\n",
              "      <th>Time fit</th>\n",
              "      <th>Time predict</th>\n",
              "      <th>Balanced-Accuracy</th>\n",
              "      <th>R</th>\n",
              "      <th>P</th>\n",
              "      <th>F1</th>\n",
              "    </tr>\n",
              "  </thead>\n",
              "  <tbody>\n",
              "    <tr>\n",
              "      <th>0</th>\n",
              "      <td>K-ближайших соседей</td>\n",
              "      <td>1</td>\n",
              "      <td>41</td>\n",
              "      <td>0.003719</td>\n",
              "      <td>0.112573</td>\n",
              "      <td>0.914542</td>\n",
              "      <td>0.914542</td>\n",
              "      <td>0.884655</td>\n",
              "      <td>0.895775</td>\n",
              "    </tr>\n",
              "    <tr>\n",
              "      <th>1</th>\n",
              "      <td>NaN</td>\n",
              "      <td>NaN</td>\n",
              "      <td>NaN</td>\n",
              "      <td>NaN</td>\n",
              "      <td>NaN</td>\n",
              "      <td>NaN</td>\n",
              "      <td>NaN</td>\n",
              "      <td>NaN</td>\n",
              "      <td>NaN</td>\n",
              "    </tr>\n",
              "    <tr>\n",
              "      <th>2</th>\n",
              "      <td>NaN</td>\n",
              "      <td>NaN</td>\n",
              "      <td>NaN</td>\n",
              "      <td>NaN</td>\n",
              "      <td>NaN</td>\n",
              "      <td>NaN</td>\n",
              "      <td>NaN</td>\n",
              "      <td>NaN</td>\n",
              "      <td>NaN</td>\n",
              "    </tr>\n",
              "    <tr>\n",
              "      <th>3</th>\n",
              "      <td>Логистическая регрессия</td>\n",
              "      <td>1</td>\n",
              "      <td>1389.495494</td>\n",
              "      <td>1.444277</td>\n",
              "      <td>0.008859</td>\n",
              "      <td>0.968942</td>\n",
              "      <td>0.968942</td>\n",
              "      <td>0.966342</td>\n",
              "      <td>0.967578</td>\n",
              "    </tr>\n",
              "    <tr>\n",
              "      <th>4</th>\n",
              "      <td>NaN</td>\n",
              "      <td>NaN</td>\n",
              "      <td>NaN</td>\n",
              "      <td>NaN</td>\n",
              "      <td>NaN</td>\n",
              "      <td>NaN</td>\n",
              "      <td>NaN</td>\n",
              "      <td>NaN</td>\n",
              "      <td>NaN</td>\n",
              "    </tr>\n",
              "    <tr>\n",
              "      <th>5</th>\n",
              "      <td>NaN</td>\n",
              "      <td>NaN</td>\n",
              "      <td>NaN</td>\n",
              "      <td>NaN</td>\n",
              "      <td>NaN</td>\n",
              "      <td>NaN</td>\n",
              "      <td>NaN</td>\n",
              "      <td>NaN</td>\n",
              "      <td>NaN</td>\n",
              "    </tr>\n",
              "    <tr>\n",
              "      <th>6</th>\n",
              "      <td>Наивный Байес: полиномиальная модель</td>\n",
              "      <td>1</td>\n",
              "      <td>0.013895</td>\n",
              "      <td>0.008489</td>\n",
              "      <td>0.004615</td>\n",
              "      <td>0.957397</td>\n",
              "      <td>0.957397</td>\n",
              "      <td>0.948658</td>\n",
              "      <td>0.952785</td>\n",
              "    </tr>\n",
              "    <tr>\n",
              "      <th>7</th>\n",
              "      <td>NaN</td>\n",
              "      <td>NaN</td>\n",
              "      <td>NaN</td>\n",
              "      <td>NaN</td>\n",
              "      <td>NaN</td>\n",
              "      <td>NaN</td>\n",
              "      <td>NaN</td>\n",
              "      <td>NaN</td>\n",
              "      <td>NaN</td>\n",
              "    </tr>\n",
              "    <tr>\n",
              "      <th>8</th>\n",
              "      <td>NaN</td>\n",
              "      <td>NaN</td>\n",
              "      <td>NaN</td>\n",
              "      <td>NaN</td>\n",
              "      <td>NaN</td>\n",
              "      <td>NaN</td>\n",
              "      <td>NaN</td>\n",
              "      <td>NaN</td>\n",
              "      <td>NaN</td>\n",
              "    </tr>\n",
              "    <tr>\n",
              "      <th>9</th>\n",
              "      <td>Наивный Байес: модель Бернулли</td>\n",
              "      <td>1</td>\n",
              "      <td>0.0001</td>\n",
              "      <td>0.008928</td>\n",
              "      <td>0.009303</td>\n",
              "      <td>0.870473</td>\n",
              "      <td>0.870473</td>\n",
              "      <td>0.91459</td>\n",
              "      <td>0.887974</td>\n",
              "    </tr>\n",
              "    <tr>\n",
              "      <th>10</th>\n",
              "      <td>NaN</td>\n",
              "      <td>NaN</td>\n",
              "      <td>NaN</td>\n",
              "      <td>NaN</td>\n",
              "      <td>NaN</td>\n",
              "      <td>NaN</td>\n",
              "      <td>NaN</td>\n",
              "      <td>NaN</td>\n",
              "      <td>NaN</td>\n",
              "    </tr>\n",
              "    <tr>\n",
              "      <th>11</th>\n",
              "      <td>NaN</td>\n",
              "      <td>NaN</td>\n",
              "      <td>NaN</td>\n",
              "      <td>NaN</td>\n",
              "      <td>NaN</td>\n",
              "      <td>NaN</td>\n",
              "      <td>NaN</td>\n",
              "      <td>NaN</td>\n",
              "      <td>NaN</td>\n",
              "    </tr>\n",
              "  </tbody>\n",
              "</table>\n",
              "</div>\n",
              "      <button class=\"colab-df-convert\" onclick=\"convertToInteractive('df-17b86340-fb64-4380-aab9-1f2dca44f62d')\"\n",
              "              title=\"Convert this dataframe to an interactive table.\"\n",
              "              style=\"display:none;\">\n",
              "        \n",
              "  <svg xmlns=\"http://www.w3.org/2000/svg\" height=\"24px\"viewBox=\"0 0 24 24\"\n",
              "       width=\"24px\">\n",
              "    <path d=\"M0 0h24v24H0V0z\" fill=\"none\"/>\n",
              "    <path d=\"M18.56 5.44l.94 2.06.94-2.06 2.06-.94-2.06-.94-.94-2.06-.94 2.06-2.06.94zm-11 1L8.5 8.5l.94-2.06 2.06-.94-2.06-.94L8.5 2.5l-.94 2.06-2.06.94zm10 10l.94 2.06.94-2.06 2.06-.94-2.06-.94-.94-2.06-.94 2.06-2.06.94z\"/><path d=\"M17.41 7.96l-1.37-1.37c-.4-.4-.92-.59-1.43-.59-.52 0-1.04.2-1.43.59L10.3 9.45l-7.72 7.72c-.78.78-.78 2.05 0 2.83L4 21.41c.39.39.9.59 1.41.59.51 0 1.02-.2 1.41-.59l7.78-7.78 2.81-2.81c.8-.78.8-2.07 0-2.86zM5.41 20L4 18.59l7.72-7.72 1.47 1.35L5.41 20z\"/>\n",
              "  </svg>\n",
              "      </button>\n",
              "      \n",
              "  <style>\n",
              "    .colab-df-container {\n",
              "      display:flex;\n",
              "      flex-wrap:wrap;\n",
              "      gap: 12px;\n",
              "    }\n",
              "\n",
              "    .colab-df-convert {\n",
              "      background-color: #E8F0FE;\n",
              "      border: none;\n",
              "      border-radius: 50%;\n",
              "      cursor: pointer;\n",
              "      display: none;\n",
              "      fill: #1967D2;\n",
              "      height: 32px;\n",
              "      padding: 0 0 0 0;\n",
              "      width: 32px;\n",
              "    }\n",
              "\n",
              "    .colab-df-convert:hover {\n",
              "      background-color: #E2EBFA;\n",
              "      box-shadow: 0px 1px 2px rgba(60, 64, 67, 0.3), 0px 1px 3px 1px rgba(60, 64, 67, 0.15);\n",
              "      fill: #174EA6;\n",
              "    }\n",
              "\n",
              "    [theme=dark] .colab-df-convert {\n",
              "      background-color: #3B4455;\n",
              "      fill: #D2E3FC;\n",
              "    }\n",
              "\n",
              "    [theme=dark] .colab-df-convert:hover {\n",
              "      background-color: #434B5C;\n",
              "      box-shadow: 0px 1px 3px 1px rgba(0, 0, 0, 0.15);\n",
              "      filter: drop-shadow(0px 1px 2px rgba(0, 0, 0, 0.3));\n",
              "      fill: #FFFFFF;\n",
              "    }\n",
              "  </style>\n",
              "\n",
              "      <script>\n",
              "        const buttonEl =\n",
              "          document.querySelector('#df-17b86340-fb64-4380-aab9-1f2dca44f62d button.colab-df-convert');\n",
              "        buttonEl.style.display =\n",
              "          google.colab.kernel.accessAllowed ? 'block' : 'none';\n",
              "\n",
              "        async function convertToInteractive(key) {\n",
              "          const element = document.querySelector('#df-17b86340-fb64-4380-aab9-1f2dca44f62d');\n",
              "          const dataTable =\n",
              "            await google.colab.kernel.invokeFunction('convertToInteractive',\n",
              "                                                     [key], {});\n",
              "          if (!dataTable) return;\n",
              "\n",
              "          const docLinkHtml = 'Like what you see? Visit the ' +\n",
              "            '<a target=\"_blank\" href=https://colab.research.google.com/notebooks/data_table.ipynb>data table notebook</a>'\n",
              "            + ' to learn more about interactive tables.';\n",
              "          element.innerHTML = '';\n",
              "          dataTable['output_type'] = 'display_data';\n",
              "          await google.colab.output.renderOutput(dataTable, element);\n",
              "          const docLink = document.createElement('div');\n",
              "          docLink.innerHTML = docLinkHtml;\n",
              "          element.appendChild(docLink);\n",
              "        }\n",
              "      </script>\n",
              "    </div>\n",
              "  </div>\n",
              "  "
            ]
          },
          "metadata": {},
          "execution_count": 254
        }
      ],
      "source": [
        "#Выведите в виде таблицы итоговые данные по всем методам для лучших моделей (метод, n-gram, значение параметра модели, время обучения, время предсказания, метрики (Balanced-Accuracy, R, P, F1))\n",
        "df_3"
      ]
    },
    {
      "cell_type": "markdown",
      "metadata": {
        "id": "Ysq00ZXD0OFL"
      },
      "source": [
        "\n",
        "\n",
        "# n-gram=2\n",
        "\n"
      ]
    },
    {
      "cell_type": "code",
      "execution_count": 255,
      "metadata": {
        "id": "_z0xjjpcwnud"
      },
      "outputs": [],
      "source": [
        "vectorizer = TfidfVectorizer(lowercase=True, stop_words=\"english\",#None, \n",
        "                             use_idf=True, ngram_range=(2,2),\n",
        "                             smooth_idf=False)\n",
        "\n",
        "#Передаем набор документов, на основе которых будут строиться векторы\n",
        "vectorizer32 = vectorizer.fit(X3_train)\n",
        "# Преобразование текстовых документов в векторы\n",
        "train_vectors32 = vectorizer32.fit_transform(X3_train)\n",
        "test_vectors32 = vectorizer32.transform(X3_test.astype('U'))"
      ]
    },
    {
      "cell_type": "code",
      "execution_count": 256,
      "metadata": {
        "colab": {
          "base_uri": "https://localhost:8080/",
          "height": 0
        },
        "id": "ZoPJz3bf3xTx",
        "outputId": "ed7b5abb-2be1-4271-efc2-5cf0a5ef3530"
      },
      "outputs": [
        {
          "output_type": "stream",
          "name": "stdout",
          "text": [
            "K-ближайших соседей\n",
            "balanced_accuracy на тестовом подмножестве - 0.5822072413078166, при n_neighbors - 1\n",
            "balanced_accuracy на тестовом подмножестве - 0.600979378803458, при n_neighbors - 21\n",
            "balanced_accuracy на тестовом подмножестве - 0.895258226795806, при n_neighbors - 41\n",
            "balanced_accuracy на тестовом подмножестве - 0.8702457059128095, при n_neighbors - 61\n",
            "balanced_accuracy на тестовом подмножестве - 0.8257176216826163, при n_neighbors - 81\n",
            "balanced_accuracy на тестовом подмножестве - 0.806090298328336, при n_neighbors - 101\n",
            "balanced_accuracy на тестовом подмножестве - 0.7923663724669544, при n_neighbors - 121\n",
            "balanced_accuracy на тестовом подмножестве - 0.7825917145432, при n_neighbors - 141\n",
            "Best n_neighbors : 41\n",
            "----------------------------\n",
            "Логистическая регрессия\n",
            "balanced_accuracy на тестовом подмножестве - 0.5, при C - 0.01\n",
            "balanced_accuracy на тестовом подмножестве - 0.6217913805351646, при C - 0.517947467923121\n",
            "balanced_accuracy на тестовом подмножестве - 0.9019293390442542, при C - 26.826957952797247\n",
            "balanced_accuracy на тестовом подмножестве - 0.9415022752131286, при C - 1389.4954943731361\n",
            "balanced_accuracy на тестовом подмножестве - 0.9419271657067715, при C - 71968.56730011514\n",
            "balanced_accuracy на тестовом подмножестве - 0.946394509847146, при C - 3727593.720314938\n",
            "balanced_accuracy на тестовом подмножестве - 0.9501529922187429, при C - 193069772.88832456\n",
            "balanced_accuracy на тестовом подмножестве - 0.9537566439484494, при C - 10000000000.0\n",
            "Best C : 10000000000.0\n",
            "----------------------------\n",
            "Наивный Байес: полиномиальная модель\n",
            "balanced_accuracy на тестовом подмножестве - 0.9358526945156671, при alpha - 0.0001\n",
            "balanced_accuracy на тестовом подмножестве - 0.9228438942505441, при alpha - 0.0005179474679231213\n",
            "balanced_accuracy на тестовом подмножестве - 0.9084232053239916, при alpha - 0.002682695795279727\n",
            "balanced_accuracy на тестовом подмножестве - 0.9033025896083475, при alpha - 0.013894954943731374\n",
            "balanced_accuracy на тестовом подмножестве - 0.9197342108869044, при alpha - 0.07196856730011521\n",
            "balanced_accuracy на тестовом подмножестве - 0.8768644778792303, при alpha - 0.3727593720314942\n",
            "balanced_accuracy на тестовом подмножестве - 0.6516220696187545, при alpha - 1.9306977288832496\n",
            "balanced_accuracy на тестовом подмножестве - 0.5091374615202463, при alpha - 10.0\n",
            "Best alpha : 0.0001\n",
            "----------------------------\n",
            "Наивный Байес: модель Бернулли\n",
            "balanced_accuracy на тестовом подмножестве - 0.8941419845191394, при alpha - 0.0001\n",
            "balanced_accuracy на тестовом подмножестве - 0.883051980100134, при alpha - 0.0005179474679231213\n",
            "balanced_accuracy на тестовом подмножестве - 0.8759651945451026, при alpha - 0.002682695795279727\n",
            "balanced_accuracy на тестовом подмножестве - 0.8629798780123021, при alpha - 0.013894954943731374\n",
            "balanced_accuracy на тестовом подмножестве - 0.817857100612976, при alpha - 0.07196856730011521\n",
            "balanced_accuracy на тестовом подмножестве - 0.7016869505278207, при alpha - 0.3727593720314942\n",
            "balanced_accuracy на тестовом подмножестве - 0.5390462973723199, при alpha - 1.9306977288832496\n",
            "balanced_accuracy на тестовом подмножестве - 0.500655813620701, при alpha - 10.0\n",
            "Best alpha : 0.0001\n"
          ]
        }
      ],
      "source": [
        "# Повторите шаги 2-4 для n-gram=2 и n-gram=(1,2)\n",
        "#Шаг 2\n",
        "scores_test_knn=[] \n",
        "best_n = 0\n",
        "knn(train_vectors32, y3_train)\n",
        "print('----------------------------')\n",
        "scores_test_logreg=[]  \n",
        "best_c  = 0\n",
        "logreg(train_vectors32, y3_train)\n",
        "print('----------------------------')\n",
        "scores_test_multNB=[] \n",
        "best_alpha_multNB = 0\n",
        "multNB(train_vectors32, y3_train,test_vectors32,y3_test)\n",
        "print('----------------------------')\n",
        "count_vectorizer2 = CountVectorizer(analyzer=\"word\", ngram_range=(2,2),\n",
        "                                   stop_words=None, lowercase=True,\n",
        "                                   binary=True, strip_accents=None)\n",
        "train_binary_vectors33 = count_vectorizer2.fit_transform(X3_train.astype('U'))\n",
        "test_binary_vectors33 = count_vectorizer2.transform(X3_test.astype('U'))\n",
        "scores_test_bernNB=[] \n",
        "best_alpha_bernNB = 0\n",
        "bernNB(y3_train,y3_test)"
      ]
    },
    {
      "cell_type": "code",
      "execution_count": 257,
      "metadata": {
        "colab": {
          "base_uri": "https://localhost:8080/",
          "height": 0
        },
        "id": "cMJ7vqXynmlQ",
        "outputId": "9e86e953-1748-4633-c52e-5120f43da12a"
      },
      "outputs": [
        {
          "output_type": "stream",
          "name": "stdout",
          "text": [
            "Best models:\n",
            "Best K-ближайших соседей n_neighbors -  41\n",
            "Best Логистическая регрессия C -  10000000000.0\n",
            "Best Наивный Байес: полиномиальная модель alpha -  0.0001\n",
            "Best Наивный Байес: модель Бернулли alpha -  0.0001\n"
          ]
        }
      ],
      "source": [
        "#Выберите лучшую модель для каждого метода, используя значение качества классификации (использовать Balanced-Accuracy)\n",
        "print(\"Best models:\")\n",
        "print(\"Best K-ближайших соседей n_neighbors - \", best_n)\n",
        "print(\"Best Логистическая регрессия C - \", best_c)\n",
        "print(\"Best Наивный Байес: полиномиальная модель alpha - \", best_alpha_multNB)\n",
        "print(\"Best Наивный Байес: модель Бернулли alpha - \", best_alpha_bernNB)"
      ]
    },
    {
      "cell_type": "code",
      "execution_count": 258,
      "metadata": {
        "id": "m4ZHPRpOmkWr",
        "colab": {
          "base_uri": "https://localhost:8080/",
          "height": 897
        },
        "outputId": "457b4b47-0aa0-4bf8-b810-92295236ed59"
      },
      "outputs": [
        {
          "output_type": "display_data",
          "data": {
            "text/plain": [
              "<Figure size 1800x1080 with 4 Axes>"
            ],
            "image/png": "[encoded data removed]"
          },
          "metadata": {
            "needs_background": "light"
          }
        }
      ],
      "source": [
        "#Постройте графики (параметры модели)-(Balanced-Accuracy) при обучении и валидации\n",
        "plt.figure(1, figsize=[25, 15])\n",
        "plt.subplot(2,2,1)\n",
        "plt.plot(ns, scores_test_knn, color=\"red\", label = 'K-ближайших соседей', ls = 'dashed')\n",
        "plt.xlabel(\"n_neighbors\")\n",
        "plt.ylabel(\"balanced_accuracy\")\n",
        "plt.title('График зависимости balanced_accuracy от n_neighbors для K-ближайших соседей')\n",
        "plt.grid(True)\n",
        "plt.legend(loc=4, shadow=True, fontsize='xx-large')\n",
        "\n",
        "plt.subplot(2,2,2)\n",
        "plt.plot(cs, scores_test_logreg, color=\"red\", label = 'Логистическая регрессия', ls = 'dashed')\n",
        "plt.xlabel(\"C\")\n",
        "plt.ylabel(\"balanced_accuracy\")\n",
        "plt.title('График зависимости balanced_accuracy от C для Логистическая регрессия')\n",
        "plt.grid(True)\n",
        "plt.xscale('log')\n",
        "plt.legend(loc=4, shadow=True, fontsize='xx-large')\n",
        "\n",
        "plt.subplot(2,2,3)\n",
        "plt.plot(alphas, scores_test_bernNB, color=\"red\", label = 'Наивный Байес: модель Бернулли', ls = 'dashed')\n",
        "plt.xlabel(\"alpha\")\n",
        "plt.ylabel(\"balanced_accuracy\")\n",
        "plt.title('График зависимости balanced_accuracy от alpha для Наивный Байес: модель Бернулли')\n",
        "plt.grid(True)\n",
        "plt.xscale('log')\n",
        "plt.legend(loc=1, shadow=True, fontsize='xx-large')\n",
        "\n",
        "plt.subplot(2,2,4)\n",
        "plt.plot(alphas, scores_test_multNB, color=\"red\", label = 'Наивный Байес: полиномиальная модель', ls = 'dashed')\n",
        "plt.xlabel(\"alpha\")\n",
        "plt.ylabel(\"balanced_accuracy\")\n",
        "plt.title('График зависимости balanced_accuracy от alpha для Наивный Байес: полиномиальная модель')\n",
        "plt.grid(True)\n",
        "plt.xscale('log')\n",
        "plt.legend(loc=1, shadow=True, fontsize='xx-large')\n",
        "\n",
        "plt.show()"
      ]
    },
    {
      "cell_type": "code",
      "execution_count": 259,
      "metadata": {
        "id": "bioV3E9K3xNM",
        "colab": {
          "base_uri": "https://localhost:8080/",
          "height": 0
        },
        "outputId": "ca777322-a105-4579-aa8a-1874f67bd469"
      },
      "outputs": [
        {
          "output_type": "stream",
          "name": "stdout",
          "text": [
            "K-ближайших соседей\n",
            "Time fit = 0.004318416118621826\n",
            "Time predict = 0.12294411659240723\n",
            "Test balanced accuracy = 0.9145424347839479\n",
            "Test recall score = 0.9145424347839479\n",
            "Test precision score = 0.8846552255283217\n",
            "Test f1 score = 0.8957747251589554\n",
            "----------------------------\n",
            "Логистическая регрессия\n",
            "Time fit = 0.5116226673126221\n",
            "Time predict = 0.009075820446014404\n",
            "Test balanced accuracy = 0.9561507880239709\n",
            "Test recall score = 0.9561507880239709\n",
            "Test precision score = 0.9662552190732623\n",
            "Test f1 score = 0.960762413074542\n",
            "----------------------------\n",
            "Наивный Байес: полиномиальная модель\n",
            "Time fit = 0.014602959156036377\n",
            "Time predict = 0.008481740951538086\n",
            "Test balanced accuracy = 0.9507525519030057\n",
            "Test recall score = 0.9507525519030057\n",
            "Test precision score = 0.9496947825198288\n",
            "Test f1 score = 0.9501582651848614\n",
            "----------------------------\n",
            "Наивный Байес: модель Бернулли\n",
            "Time fit = 0.03297626972198486\n",
            "Time predict = 0.03208303451538086\n",
            "Test balanced accuracy = 0.8941419845191394\n",
            "Test recall score = 0.8941419845191394\n",
            "Test precision score = 0.9428802982028639\n",
            "Test f1 score = 0.9134369356335373\n"
          ]
        }
      ],
      "source": [
        "#Шаг \n",
        "gram = 2\n",
        "best_knn(df_3,1,train_vectors3, y3_train,test_vectors3,y3_test)\n",
        "print('----------------------------')\n",
        "best_logreg(df_3,4,train_vectors3, y3_train,test_vectors3,y3_test)\n",
        "print('----------------------------')\n",
        "best_multNB(df_3,7,train_vectors3, y3_train,test_vectors3,y3_test)\n",
        "print('----------------------------')\n",
        "\n",
        "count_vectorizer2 = CountVectorizer(analyzer=\"word\", ngram_range=(2,2),\n",
        "                                   stop_words=None, lowercase=True,\n",
        "                                   binary=True, strip_accents=None)\n",
        "train_binary_vectors33 = count_vectorizer2.fit_transform(X3_train.astype('U'))\n",
        "test_binary_vectors33 = count_vectorizer2.transform(X3_test.astype('U'))\n",
        "best_bernNB(df_3,10,y3_train,y3_test)"
      ]
    },
    {
      "cell_type": "markdown",
      "metadata": {
        "id": "rMrE4W2jwoTy"
      },
      "source": [
        "\n",
        "\n",
        "# n-gram=(1,2)\n",
        "\n"
      ]
    },
    {
      "cell_type": "code",
      "execution_count": 260,
      "metadata": {
        "id": "mPDb8xLW01g0"
      },
      "outputs": [],
      "source": [
        "vectorizer = TfidfVectorizer(lowercase=True, stop_words=\"english\",#None, \n",
        "                             use_idf=True, ngram_range=(1,2),\n",
        "                             smooth_idf=False)\n",
        "\n",
        "#Передаем набор документов, на основе которых будут строиться векторы\n",
        "vectorizer33 = vectorizer.fit(X3_train)\n",
        "# Преобразование текстовых документов в векторы\n",
        "train_vectors33 = vectorizer33.fit_transform(X3_train)\n",
        "test_vectors33 = vectorizer33.transform(X3_test.astype('U'))"
      ]
    },
    {
      "cell_type": "code",
      "source": [
        "# Повторите шаги 2-4 для n-gram=2 и n-gram=(1,2)\n",
        "#Шаг 2\n",
        "scores_test_knn=[] \n",
        "best_n = 0\n",
        "knn(train_vectors33, y3_train)\n",
        "print('----------------------------')\n",
        "scores_test_logreg=[]  \n",
        "best_c  = 0\n",
        "logreg(train_vectors33, y3_train)\n",
        "print('----------------------------')\n",
        "scores_test_multNB=[] \n",
        "best_alpha_multNB = 0\n",
        "multNB(train_vectors33, y3_train,test_vectors33,y3_test)\n",
        "print('----------------------------')\n",
        "count_vectorizer2 = CountVectorizer(analyzer=\"word\", ngram_range=(1,2),\n",
        "                                   stop_words=None, lowercase=True,\n",
        "                                   binary=True, strip_accents=None)\n",
        "train_binary_vectors33 = count_vectorizer2.fit_transform(X3_train.astype('U'))\n",
        "test_binary_vectors33 = count_vectorizer2.transform(X3_test.astype('U'))\n",
        "scores_test_bernNB=[] \n",
        "best_alpha_bernNB = 0\n",
        "bernNB(y3_train,y3_test)"
      ],
      "metadata": {
        "colab": {
          "base_uri": "https://localhost:8080/",
          "height": 0
        },
        "id": "4PHK51XlqeUo",
        "outputId": "04b94344-c47b-484e-b66c-f8b2d1c5be7d"
      },
      "execution_count": 261,
      "outputs": [
        {
          "output_type": "stream",
          "name": "stdout",
          "text": [
            "K-ближайших соседей\n",
            "balanced_accuracy на тестовом подмножестве - 0.6005233141526706, при n_neighbors - 1\n",
            "balanced_accuracy на тестовом подмножестве - 0.7016473911421746, при n_neighbors - 21\n",
            "balanced_accuracy на тестовом подмножестве - 0.9092783620481292, при n_neighbors - 41\n",
            "balanced_accuracy на тестовом подмножестве - 0.8970575868073661, при n_neighbors - 61\n",
            "balanced_accuracy на тестовом подмножестве - 0.8901362748659898, при n_neighbors - 81\n",
            "balanced_accuracy на тестовом подмножестве - 0.8879718612088316, при n_neighbors - 101\n",
            "balanced_accuracy на тестовом подмножестве - 0.8859314385113294, при n_neighbors - 121\n",
            "balanced_accuracy на тестовом подмножестве - 0.8827571827091849, при n_neighbors - 141\n",
            "Best n_neighbors : 41\n",
            "----------------------------\n",
            "Логистическая регрессия\n",
            "balanced_accuracy на тестовом подмножестве - 0.5, при C - 0.01\n",
            "balanced_accuracy на тестовом подмножестве - 0.7646065376694005, при C - 0.517947467923121\n",
            "balanced_accuracy на тестовом подмножестве - 0.9604611248019992, при C - 26.826957952797247\n",
            "balanced_accuracy на тестовом подмножестве - 0.97114642114146, при C - 1389.4954943731361\n",
            "balanced_accuracy на тестовом подмножестве - 0.9719946112284685, при C - 71968.56730011514\n",
            "balanced_accuracy на тестовом подмножестве - 0.967963063576649, при C - 3727593.720314938\n",
            "balanced_accuracy на тестовом подмножестве - 0.9628127811434227, при C - 193069772.88832456\n",
            "balanced_accuracy на тестовом подмножестве - 0.95593011392086, при C - 10000000000.0\n",
            "Best C : 71968.56730011514\n",
            "----------------------------\n",
            "Наивный Байес: полиномиальная модель\n",
            "balanced_accuracy на тестовом подмножестве - 0.9579845288839661, при alpha - 0.0001\n",
            "balanced_accuracy на тестовом подмножестве - 0.9529556102789776, при alpha - 0.0005179474679231213\n",
            "balanced_accuracy на тестовом подмножестве - 0.9488222103068533, при alpha - 0.002682695795279727\n",
            "balanced_accuracy на тестовом подмножестве - 0.9493375268884359, при alpha - 0.013894954943731374\n",
            "balanced_accuracy на тестовом подмножестве - 0.9504648828336288, при alpha - 0.07196856730011521\n",
            "balanced_accuracy на тестовом подмножестве - 0.8731109188771771, при alpha - 0.3727593720314942\n",
            "balanced_accuracy на тестовом подмножестве - 0.6412680558844424, при alpha - 1.9306977288832496\n",
            "balanced_accuracy на тестовом подмножестве - 0.5073170731707317, при alpha - 10.0\n",
            "Best alpha : 0.0001\n",
            "----------------------------\n",
            "Наивный Байес: модель Бернулли\n",
            "balanced_accuracy на тестовом подмножестве - 0.8921799261658541, при alpha - 0.0001\n",
            "balanced_accuracy на тестовом подмножестве - 0.8867931162772538, при alpha - 0.0005179474679231213\n",
            "balanced_accuracy на тестовом подмножестве - 0.8799927287688836, при alpha - 0.002682695795279727\n",
            "balanced_accuracy на тестовом подмножестве - 0.8639520762748081, при alpha - 0.013894954943731374\n",
            "balanced_accuracy на тестовом подмножестве - 0.8371541948090899, при alpha - 0.07196856730011521\n",
            "balanced_accuracy на тестовом подмножестве - 0.7227172826003619, при alpha - 0.3727593720314942\n",
            "balanced_accuracy на тестовом подмножестве - 0.557972385094117, при alpha - 1.9306977288832496\n",
            "balanced_accuracy на тестовом подмножестве - 0.501265569718262, при alpha - 10.0\n",
            "Best alpha : 0.0001\n"
          ]
        }
      ]
    },
    {
      "cell_type": "code",
      "source": [
        "#Выберите лучшую модель для каждого метода, используя значение качества классификации (использовать Balanced-Accuracy)\n",
        "print(\"Best models:\")\n",
        "print(\"Best K-ближайших соседей n_neighbors - \", best_n)\n",
        "print(\"Best Логистическая регрессия C - \", best_c)\n",
        "print(\"Best Наивный Байес: полиномиальная модель alpha - \", best_alpha_multNB)\n",
        "print(\"Best Наивный Байес: модель Бернулли alpha - \", best_alpha_bernNB)"
      ],
      "metadata": {
        "colab": {
          "base_uri": "https://localhost:8080/",
          "height": 0
        },
        "id": "0-eAMwearuZl",
        "outputId": "213cffee-f7c0-4f7f-995f-d4c4203a2f32"
      },
      "execution_count": 262,
      "outputs": [
        {
          "output_type": "stream",
          "name": "stdout",
          "text": [
            "Best models:\n",
            "Best K-ближайших соседей n_neighbors -  41\n",
            "Best Логистическая регрессия C -  71968.56730011514\n",
            "Best Наивный Байес: полиномиальная модель alpha -  0.0001\n",
            "Best Наивный Байес: модель Бернулли alpha -  0.0001\n"
          ]
        }
      ]
    },
    {
      "cell_type": "code",
      "source": [
        "#Постройте графики (параметры модели)-(Balanced-Accuracy) при обучении и валидации\n",
        "plt.figure(1, figsize=[25, 15])\n",
        "plt.subplot(2,2,1)\n",
        "plt.plot(ns, scores_test_knn, color=\"red\", label = 'K-ближайших соседей', ls = 'dashed')\n",
        "plt.xlabel(\"n_neighbors\")\n",
        "plt.ylabel(\"balanced_accuracy\")\n",
        "plt.title('График зависимости balanced_accuracy от n_neighbors для K-ближайших соседей')\n",
        "plt.grid(True)\n",
        "plt.legend(loc=4, shadow=True, fontsize='xx-large')\n",
        "\n",
        "plt.subplot(2,2,2)\n",
        "plt.plot(cs, scores_test_logreg, color=\"red\", label = 'Логистическая регрессия', ls = 'dashed')\n",
        "plt.xlabel(\"C\")\n",
        "plt.ylabel(\"balanced_accuracy\")\n",
        "plt.title('График зависимости balanced_accuracy от C для Логистическая регрессия')\n",
        "plt.grid(True)\n",
        "plt.xscale('log')\n",
        "plt.legend(loc=4, shadow=True, fontsize='xx-large')\n",
        "\n",
        "plt.subplot(2,2,3)\n",
        "plt.plot(alphas, scores_test_bernNB, color=\"red\", label = 'Наивный Байес: модель Бернулли', ls = 'dashed')\n",
        "plt.xlabel(\"alpha\")\n",
        "plt.ylabel(\"balanced_accuracy\")\n",
        "plt.title('График зависимости balanced_accuracy от alpha для Наивный Байес: модель Бернулли')\n",
        "plt.grid(True)\n",
        "plt.xscale('log')\n",
        "plt.legend(loc=1, shadow=True, fontsize='xx-large')\n",
        "\n",
        "plt.subplot(2,2,4)\n",
        "plt.plot(alphas, scores_test_multNB, color=\"red\", label = 'Наивный Байес: полиномиальная модель', ls = 'dashed')\n",
        "plt.xlabel(\"alpha\")\n",
        "plt.ylabel(\"balanced_accuracy\")\n",
        "plt.title('График зависимости balanced_accuracy от alpha для Наивный Байес: полиномиальная модель')\n",
        "plt.grid(True)\n",
        "plt.xscale('log')\n",
        "plt.legend(loc=1, shadow=True, fontsize='xx-large')\n",
        "\n",
        "plt.show()"
      ],
      "metadata": {
        "colab": {
          "base_uri": "https://localhost:8080/",
          "height": 897
        },
        "id": "TIdsWbqPrvQf",
        "outputId": "99b0c8af-ac86-4795-be61-67a50654a5bd"
      },
      "execution_count": 263,
      "outputs": [
        {
          "output_type": "display_data",
          "data": {
            "text/plain": [
              "<Figure size 1800x1080 with 4 Axes>"
            ],
            "image/png": "[encoded data removed]"
          },
          "metadata": {
            "needs_background": "light"
          }
        }
      ]
    },
    {
      "cell_type": "code",
      "source": [
        "#Шаг \n",
        "gram = \"1,2\"\n",
        "best_knn(df_3,2,train_vectors3, y3_train,test_vectors3,y3_test)\n",
        "print('----------------------------')\n",
        "best_logreg(df_3,5,train_vectors3, y3_train,test_vectors3,y3_test)\n",
        "print('----------------------------')\n",
        "best_multNB(df_3,8,train_vectors3, y3_train,test_vectors3,y3_test)\n",
        "print('----------------------------')\n",
        "best_bernNB(df_3,11,y3_train,y3_test)"
      ],
      "metadata": {
        "colab": {
          "base_uri": "https://localhost:8080/",
          "height": 0
        },
        "id": "Fty6tvqYr6p7",
        "outputId": "3bf6c1d0-55aa-4afa-8b40-71e6f56433bf"
      },
      "execution_count": 264,
      "outputs": [
        {
          "output_type": "stream",
          "name": "stdout",
          "text": [
            "K-ближайших соседей\n",
            "Time fit = 0.0035492777824401855\n",
            "Time predict = 0.11496144533157349\n",
            "Test balanced accuracy = 0.9145424347839479\n",
            "Test recall score = 0.9145424347839479\n",
            "Test precision score = 0.8846552255283217\n",
            "Test f1 score = 0.8957747251589554\n",
            "----------------------------\n",
            "Логистическая регрессия\n",
            "Time fit = 1.3902071118354797\n",
            "Time predict = 0.008358180522918701\n",
            "Test balanced accuracy = 0.9683804432079023\n",
            "Test recall score = 0.9683804432079023\n",
            "Test precision score = 0.9651426288263218\n",
            "Test f1 score = 0.9667085198235521\n",
            "----------------------------\n",
            "Наивный Байес: полиномиальная модель\n",
            "Time fit = 0.016542494297027588\n",
            "Time predict = 0.01034015417098999\n",
            "Test balanced accuracy = 0.9507525519030057\n",
            "Test recall score = 0.9507525519030057\n",
            "Test precision score = 0.9496947825198288\n",
            "Test f1 score = 0.9501582651848614\n",
            "----------------------------\n",
            "Наивный Байес: модель Бернулли\n",
            "Time fit = 0.038012027740478516\n",
            "Time predict = 0.04575979709625244\n",
            "Test balanced accuracy = 0.8921799261658541\n",
            "Test recall score = 0.8921799261658541\n",
            "Test precision score = 0.9379526978450565\n",
            "Test f1 score = 0.9104950110685077\n"
          ]
        }
      ]
    },
    {
      "cell_type": "code",
      "execution_count": 265,
      "metadata": {
        "colab": {
          "base_uri": "https://localhost:8080/",
          "height": 426
        },
        "id": "BvFMUn9xwp0q",
        "outputId": "d7d0ce9e-382d-4361-bd0d-a847064fff33"
      },
      "outputs": [
        {
          "output_type": "execute_result",
          "data": {
            "text/plain": [
              "                                  method n-gram     Value_best  Time fit  \\\n",
              "0                    K-ближайших соседей      1             41  0.003719   \n",
              "1                    K-ближайших соседей      2             41  0.004318   \n",
              "2                    K-ближайших соседей    1,2             41  0.003549   \n",
              "3                Логистическая регрессия      1    1389.495494  1.444277   \n",
              "4                Логистическая регрессия      2  10000000000.0  0.511623   \n",
              "5                Логистическая регрессия    1,2     71968.5673  1.390207   \n",
              "6   Наивный Байес: полиномиальная модель      1       0.013895  0.008489   \n",
              "7   Наивный Байес: полиномиальная модель      2         0.0001  0.014603   \n",
              "8   Наивный Байес: полиномиальная модель    1,2         0.0001  0.016542   \n",
              "9         Наивный Байес: модель Бернулли      1         0.0001  0.008928   \n",
              "10        Наивный Байес: модель Бернулли      2         0.0001  0.032976   \n",
              "11        Наивный Байес: модель Бернулли    1,2         0.0001  0.038012   \n",
              "\n",
              "   Time predict Balanced-Accuracy         R         P        F1  \n",
              "0      0.112573          0.914542  0.914542  0.884655  0.895775  \n",
              "1      0.122944          0.914542  0.914542  0.884655  0.895775  \n",
              "2      0.114961          0.914542  0.914542  0.884655  0.895775  \n",
              "3      0.008859          0.968942  0.968942  0.966342  0.967578  \n",
              "4      0.009076          0.956151  0.956151  0.966255  0.960762  \n",
              "5      0.008358           0.96838   0.96838  0.965143  0.966709  \n",
              "6      0.004615          0.957397  0.957397  0.948658  0.952785  \n",
              "7      0.008482          0.950753  0.950753  0.949695  0.950158  \n",
              "8       0.01034          0.950753  0.950753  0.949695  0.950158  \n",
              "9      0.009303          0.870473  0.870473   0.91459  0.887974  \n",
              "10     0.032083          0.894142  0.894142   0.94288  0.913437  \n",
              "11      0.04576           0.89218   0.89218  0.937953  0.910495  "
            ],
            "text/html": [
              "\n",
              "  <div id=\"df-50971769-eaa6-4048-a070-47d679daa66d\">\n",
              "    <div class=\"colab-df-container\">\n",
              "      <div>\n",
              "<style scoped>\n",
              "    .dataframe tbody tr th:only-of-type {\n",
              "        vertical-align: middle;\n",
              "    }\n",
              "\n",
              "    .dataframe tbody tr th {\n",
              "        vertical-align: top;\n",
              "    }\n",
              "\n",
              "    .dataframe thead th {\n",
              "        text-align: right;\n",
              "    }\n",
              "</style>\n",
              "<table border=\"1\" class=\"dataframe\">\n",
              "  <thead>\n",
              "    <tr style=\"text-align: right;\">\n",
              "      <th></th>\n",
              "      <th>method</th>\n",
              "      <th>n-gram</th>\n",
              "      <th>Value_best</th>\n",
              "      <th>Time fit</th>\n",
              "      <th>Time predict</th>\n",
              "      <th>Balanced-Accuracy</th>\n",
              "      <th>R</th>\n",
              "      <th>P</th>\n",
              "      <th>F1</th>\n",
              "    </tr>\n",
              "  </thead>\n",
              "  <tbody>\n",
              "    <tr>\n",
              "      <th>0</th>\n",
              "      <td>K-ближайших соседей</td>\n",
              "      <td>1</td>\n",
              "      <td>41</td>\n",
              "      <td>0.003719</td>\n",
              "      <td>0.112573</td>\n",
              "      <td>0.914542</td>\n",
              "      <td>0.914542</td>\n",
              "      <td>0.884655</td>\n",
              "      <td>0.895775</td>\n",
              "    </tr>\n",
              "    <tr>\n",
              "      <th>1</th>\n",
              "      <td>K-ближайших соседей</td>\n",
              "      <td>2</td>\n",
              "      <td>41</td>\n",
              "      <td>0.004318</td>\n",
              "      <td>0.122944</td>\n",
              "      <td>0.914542</td>\n",
              "      <td>0.914542</td>\n",
              "      <td>0.884655</td>\n",
              "      <td>0.895775</td>\n",
              "    </tr>\n",
              "    <tr>\n",
              "      <th>2</th>\n",
              "      <td>K-ближайших соседей</td>\n",
              "      <td>1,2</td>\n",
              "      <td>41</td>\n",
              "      <td>0.003549</td>\n",
              "      <td>0.114961</td>\n",
              "      <td>0.914542</td>\n",
              "      <td>0.914542</td>\n",
              "      <td>0.884655</td>\n",
              "      <td>0.895775</td>\n",
              "    </tr>\n",
              "    <tr>\n",
              "      <th>3</th>\n",
              "      <td>Логистическая регрессия</td>\n",
              "      <td>1</td>\n",
              "      <td>1389.495494</td>\n",
              "      <td>1.444277</td>\n",
              "      <td>0.008859</td>\n",
              "      <td>0.968942</td>\n",
              "      <td>0.968942</td>\n",
              "      <td>0.966342</td>\n",
              "      <td>0.967578</td>\n",
              "    </tr>\n",
              "    <tr>\n",
              "      <th>4</th>\n",
              "      <td>Логистическая регрессия</td>\n",
              "      <td>2</td>\n",
              "      <td>10000000000.0</td>\n",
              "      <td>0.511623</td>\n",
              "      <td>0.009076</td>\n",
              "      <td>0.956151</td>\n",
              "      <td>0.956151</td>\n",
              "      <td>0.966255</td>\n",
              "      <td>0.960762</td>\n",
              "    </tr>\n",
              "    <tr>\n",
              "      <th>5</th>\n",
              "      <td>Логистическая регрессия</td>\n",
              "      <td>1,2</td>\n",
              "      <td>71968.5673</td>\n",
              "      <td>1.390207</td>\n",
              "      <td>0.008358</td>\n",
              "      <td>0.96838</td>\n",
              "      <td>0.96838</td>\n",
              "      <td>0.965143</td>\n",
              "      <td>0.966709</td>\n",
              "    </tr>\n",
              "    <tr>\n",
              "      <th>6</th>\n",
              "      <td>Наивный Байес: полиномиальная модель</td>\n",
              "      <td>1</td>\n",
              "      <td>0.013895</td>\n",
              "      <td>0.008489</td>\n",
              "      <td>0.004615</td>\n",
              "      <td>0.957397</td>\n",
              "      <td>0.957397</td>\n",
              "      <td>0.948658</td>\n",
              "      <td>0.952785</td>\n",
              "    </tr>\n",
              "    <tr>\n",
              "      <th>7</th>\n",
              "      <td>Наивный Байес: полиномиальная модель</td>\n",
              "      <td>2</td>\n",
              "      <td>0.0001</td>\n",
              "      <td>0.014603</td>\n",
              "      <td>0.008482</td>\n",
              "      <td>0.950753</td>\n",
              "      <td>0.950753</td>\n",
              "      <td>0.949695</td>\n",
              "      <td>0.950158</td>\n",
              "    </tr>\n",
              "    <tr>\n",
              "      <th>8</th>\n",
              "      <td>Наивный Байес: полиномиальная модель</td>\n",
              "      <td>1,2</td>\n",
              "      <td>0.0001</td>\n",
              "      <td>0.016542</td>\n",
              "      <td>0.01034</td>\n",
              "      <td>0.950753</td>\n",
              "      <td>0.950753</td>\n",
              "      <td>0.949695</td>\n",
              "      <td>0.950158</td>\n",
              "    </tr>\n",
              "    <tr>\n",
              "      <th>9</th>\n",
              "      <td>Наивный Байес: модель Бернулли</td>\n",
              "      <td>1</td>\n",
              "      <td>0.0001</td>\n",
              "      <td>0.008928</td>\n",
              "      <td>0.009303</td>\n",
              "      <td>0.870473</td>\n",
              "      <td>0.870473</td>\n",
              "      <td>0.91459</td>\n",
              "      <td>0.887974</td>\n",
              "    </tr>\n",
              "    <tr>\n",
              "      <th>10</th>\n",
              "      <td>Наивный Байес: модель Бернулли</td>\n",
              "      <td>2</td>\n",
              "      <td>0.0001</td>\n",
              "      <td>0.032976</td>\n",
              "      <td>0.032083</td>\n",
              "      <td>0.894142</td>\n",
              "      <td>0.894142</td>\n",
              "      <td>0.94288</td>\n",
              "      <td>0.913437</td>\n",
              "    </tr>\n",
              "    <tr>\n",
              "      <th>11</th>\n",
              "      <td>Наивный Байес: модель Бернулли</td>\n",
              "      <td>1,2</td>\n",
              "      <td>0.0001</td>\n",
              "      <td>0.038012</td>\n",
              "      <td>0.04576</td>\n",
              "      <td>0.89218</td>\n",
              "      <td>0.89218</td>\n",
              "      <td>0.937953</td>\n",
              "      <td>0.910495</td>\n",
              "    </tr>\n",
              "  </tbody>\n",
              "</table>\n",
              "</div>\n",
              "      <button class=\"colab-df-convert\" onclick=\"convertToInteractive('df-50971769-eaa6-4048-a070-47d679daa66d')\"\n",
              "              title=\"Convert this dataframe to an interactive table.\"\n",
              "              style=\"display:none;\">\n",
              "        \n",
              "  <svg xmlns=\"http://www.w3.org/2000/svg\" height=\"24px\"viewBox=\"0 0 24 24\"\n",
              "       width=\"24px\">\n",
              "    <path d=\"M0 0h24v24H0V0z\" fill=\"none\"/>\n",
              "    <path d=\"M18.56 5.44l.94 2.06.94-2.06 2.06-.94-2.06-.94-.94-2.06-.94 2.06-2.06.94zm-11 1L8.5 8.5l.94-2.06 2.06-.94-2.06-.94L8.5 2.5l-.94 2.06-2.06.94zm10 10l.94 2.06.94-2.06 2.06-.94-2.06-.94-.94-2.06-.94 2.06-2.06.94z\"/><path d=\"M17.41 7.96l-1.37-1.37c-.4-.4-.92-.59-1.43-.59-.52 0-1.04.2-1.43.59L10.3 9.45l-7.72 7.72c-.78.78-.78 2.05 0 2.83L4 21.41c.39.39.9.59 1.41.59.51 0 1.02-.2 1.41-.59l7.78-7.78 2.81-2.81c.8-.78.8-2.07 0-2.86zM5.41 20L4 18.59l7.72-7.72 1.47 1.35L5.41 20z\"/>\n",
              "  </svg>\n",
              "      </button>\n",
              "      \n",
              "  <style>\n",
              "    .colab-df-container {\n",
              "      display:flex;\n",
              "      flex-wrap:wrap;\n",
              "      gap: 12px;\n",
              "    }\n",
              "\n",
              "    .colab-df-convert {\n",
              "      background-color: #E8F0FE;\n",
              "      border: none;\n",
              "      border-radius: 50%;\n",
              "      cursor: pointer;\n",
              "      display: none;\n",
              "      fill: #1967D2;\n",
              "      height: 32px;\n",
              "      padding: 0 0 0 0;\n",
              "      width: 32px;\n",
              "    }\n",
              "\n",
              "    .colab-df-convert:hover {\n",
              "      background-color: #E2EBFA;\n",
              "      box-shadow: 0px 1px 2px rgba(60, 64, 67, 0.3), 0px 1px 3px 1px rgba(60, 64, 67, 0.15);\n",
              "      fill: #174EA6;\n",
              "    }\n",
              "\n",
              "    [theme=dark] .colab-df-convert {\n",
              "      background-color: #3B4455;\n",
              "      fill: #D2E3FC;\n",
              "    }\n",
              "\n",
              "    [theme=dark] .colab-df-convert:hover {\n",
              "      background-color: #434B5C;\n",
              "      box-shadow: 0px 1px 3px 1px rgba(0, 0, 0, 0.15);\n",
              "      filter: drop-shadow(0px 1px 2px rgba(0, 0, 0, 0.3));\n",
              "      fill: #FFFFFF;\n",
              "    }\n",
              "  </style>\n",
              "\n",
              "      <script>\n",
              "        const buttonEl =\n",
              "          document.querySelector('#df-50971769-eaa6-4048-a070-47d679daa66d button.colab-df-convert');\n",
              "        buttonEl.style.display =\n",
              "          google.colab.kernel.accessAllowed ? 'block' : 'none';\n",
              "\n",
              "        async function convertToInteractive(key) {\n",
              "          const element = document.querySelector('#df-50971769-eaa6-4048-a070-47d679daa66d');\n",
              "          const dataTable =\n",
              "            await google.colab.kernel.invokeFunction('convertToInteractive',\n",
              "                                                     [key], {});\n",
              "          if (!dataTable) return;\n",
              "\n",
              "          const docLinkHtml = 'Like what you see? Visit the ' +\n",
              "            '<a target=\"_blank\" href=https://colab.research.google.com/notebooks/data_table.ipynb>data table notebook</a>'\n",
              "            + ' to learn more about interactive tables.';\n",
              "          element.innerHTML = '';\n",
              "          dataTable['output_type'] = 'display_data';\n",
              "          await google.colab.output.renderOutput(dataTable, element);\n",
              "          const docLink = document.createElement('div');\n",
              "          docLink.innerHTML = docLinkHtml;\n",
              "          element.appendChild(docLink);\n",
              "        }\n",
              "      </script>\n",
              "    </div>\n",
              "  </div>\n",
              "  "
            ]
          },
          "metadata": {},
          "execution_count": 265
        }
      ],
      "source": [
        "#Выведите в виде таблицы итоговые данные по всем методам для лучших моделей (метод, n-gram, значение параметра модели, время обучения, время предсказания, метрики (Balanced-Accuracy, R, P, F1))\n",
        "df_3"
      ]
    },
    {
      "cell_type": "markdown",
      "source": [
        "Сделайте выводы по полученным результатам (преимущества и недостатки методов).\n",
        "\n",
        "K-ближайших соседей. + Простота реализации. Примерно одинаковое время для разных параметров.\n",
        "\n",
        "Логистическая регрессия. -Занимает больше времени.Общая точность не очень высокая\n",
        "\n",
        "Наивный Байес: модель Бернулли. + стабильную эффективность классификации.\n",
        "\n",
        "Наивный Байес: полиномиальная модель.   -менее стабильная эффективность классификации (по сравнению с моделью бернулии).+самая быстрая\n",
        "\n",
        "\n",
        "\n"
      ],
      "metadata": {
        "id": "bA6Up-2Auqx9"
      }
    },
    {
      "cell_type": "markdown",
      "metadata": {
        "id": "BDtK6p5K6-s7"
      },
      "source": [
        "# Задание 4. Оценка влияния количества признаков FeatureHasher на качество классификации (2 баллов)"
      ]
    },
    {
      "cell_type": "markdown",
      "metadata": {
        "id": "Z4fvPBBb6-s7"
      },
      "source": [
        "<p>Как будет меняться качество классификации для обозначенных ранее методов при использовании FeatureHasher (или HashingVectorizer) из пакета sklearn перед TF-IDF преобразованием, если</p>"
      ]
    },
    {
      "cell_type": "code",
      "execution_count": 266,
      "metadata": {
        "collapsed": true,
        "id": "d5dkudSS6-s7"
      },
      "outputs": [],
      "source": [
        "n_features = np.logspace(1, 5, 5, base=10)  # количество признаков\n",
        "non_negative=True"
      ]
    },
    {
      "cell_type": "markdown",
      "metadata": {
        "id": "meodRSEhEqzU"
      },
      "source": [
        "⚠️ Замечания\n",
        "*   Используйте лучшие модели из задания 3 при 1-gram\n",
        "*   Для FeatureHasher/HashingVectorizer установите следующие параметры: norm=None и alternate_sign=False"
      ]
    },
    {
      "cell_type": "markdown",
      "metadata": {
        "id": "zbIckx7c6-s8"
      },
      "source": [
        "<p>Можно воспользоваться GridSearchCV</p>"
      ]
    },
    {
      "cell_type": "code",
      "execution_count": 267,
      "metadata": {
        "collapsed": true,
        "id": "3cVR-3K96-s8",
        "colab": {
          "base_uri": "https://localhost:8080/",
          "height": 911
        },
        "outputId": "1db1eccd-1410-4d70-8ea6-74d09774a9fc"
      },
      "outputs": [
        {
          "output_type": "execute_result",
          "data": {
            "text/plain": [
              "<matplotlib.legend.Legend at 0x7f3d5025a290>"
            ]
          },
          "metadata": {},
          "execution_count": 267
        },
        {
          "output_type": "display_data",
          "data": {
            "text/plain": [
              "<Figure size 1800x1080 with 1 Axes>"
            ],
            "image/png": "[encoded data removed]"
          },
          "metadata": {
            "needs_background": "light"
          }
        }
      ],
      "source": [
        "from sklearn.feature_extraction.text import HashingVectorizer\n",
        "from sklearn.feature_extraction.text import  TfidfTransformer\n",
        "scores_test_knn=[]\n",
        "\n",
        "for n in n_features:\n",
        "  pipeline = Pipeline([\n",
        "                        (\"hashing\", HashingVectorizer(norm=None,alternate_sign=False,n_features =int(n), ngram_range=(1,1))),\n",
        "                       (\"transformer\", TfidfTransformer()),\n",
        "                        (\"knn_model\", KNeighborsClassifier(n_neighbors=df_3.iloc[0]['Value_best']))\n",
        "  ])\n",
        "  score = cross_validate(pipeline, X_train, y_train, cv=kf, scoring=['balanced_accuracy'])\n",
        "  balanced_accuracy_model = score['test_balanced_accuracy'].mean()\n",
        "  scores_test_knn.append(balanced_accuracy_model)\n",
        "\n",
        "plt.figure(1, figsize=[25, 15])\n",
        "plt.plot(n_features, scores_test_knn, color=\"red\", label = 'K-ближайших соседей', ls = 'dashed')\n",
        "plt.xlabel(\"n_features\")\n",
        "plt.ylabel(\"balanced_accuracy\")\n",
        "plt.title('График зависимости balanced_accuracy от n_features для K-ближайших соседей')\n",
        "plt.grid(True)\n",
        "plt.legend(loc=4, shadow=True, fontsize='xx-large')"
      ]
    },
    {
      "cell_type": "code",
      "source": [
        "scores_test_logreg=[]\n",
        "for c in  n_features:\n",
        "  pipeline = Pipeline([\n",
        "                        (\"hashing\", HashingVectorizer(norm=None,alternate_sign=False,n_features =int(c), ngram_range=(1,1))),\n",
        "                       (\"transformer\", TfidfTransformer()),\n",
        "                        (\"knn_model\", LogisticRegression(penalty=\"l2\", fit_intercept=True, max_iter=100, C=df_3.iloc[3]['Value_best'], solver=\"lbfgs\", random_state=12345))\n",
        "  ])\n",
        "  score = cross_validate(pipeline, X_train, y_train, cv=kf, scoring=['balanced_accuracy'])\n",
        "  balanced_accuracy_model = score['test_balanced_accuracy'].mean()\n",
        "  scores_test_logreg.append(balanced_accuracy_model)\n",
        "plt.figure(1, figsize=[25, 15])\n",
        "plt.plot( n_features, scores_test_logreg, color=\"red\", label = 'Логистическая регрессия', ls = 'dashed')\n",
        "plt.xlabel(\" n_features\")\n",
        "plt.ylabel(\"balanced_accuracy\")\n",
        "plt.title('График зависимости balanced_accuracy от  n_features для Логистическая регрессия')\n",
        "plt.grid(True)\n",
        "plt.xscale('log')\n",
        "plt.legend(loc=4, shadow=True, fontsize='xx-large')"
      ],
      "metadata": {
        "colab": {
          "base_uri": "https://localhost:8080/",
          "height": 915
        },
        "id": "jbg5-w8l521z",
        "outputId": "56a29fde-d38e-4f75-c729-8b360ec4d07e"
      },
      "execution_count": 268,
      "outputs": [
        {
          "output_type": "execute_result",
          "data": {
            "text/plain": [
              "<matplotlib.legend.Legend at 0x7f3d3b708cd0>"
            ]
          },
          "metadata": {},
          "execution_count": 268
        },
        {
          "output_type": "display_data",
          "data": {
            "text/plain": [
              "<Figure size 1800x1080 with 1 Axes>"
            ],
            "image/png": "[encoded data removed]"
          },
          "metadata": {
            "needs_background": "light"
          }
        }
      ]
    },
    {
      "cell_type": "code",
      "source": [
        "scores_test_multNB = []\n",
        "for alpha in  n_features:\n",
        "  pipeline = Pipeline([\n",
        "                        (\"hashing\", HashingVectorizer(norm=None,alternate_sign=False,n_features =int(alpha), ngram_range=(1,1))),\n",
        "                       (\"transformer\", TfidfTransformer()),\n",
        "                        (\"knn_model\",  MultinomialNB(alpha=df_3.iloc[6]['Value_best']))\n",
        "  ])\n",
        "  score = cross_validate(pipeline, X_train, y_train, cv=kf, scoring=['balanced_accuracy'])\n",
        "  balanced_accuracy_model = score['test_balanced_accuracy'].mean()\n",
        "  scores_test_multNB.append(balanced_accuracy_model)\n",
        "\n",
        "\n",
        "\n",
        "\n",
        "plt.figure(1, figsize=[25, 15])\n",
        "plt.plot( n_features, scores_test_multNB, color=\"red\", label = 'Наивный Байес: полиномиальная модель', ls = 'dashed')\n",
        "plt.xlabel(\" n_features\")\n",
        "plt.ylabel(\"balanced_accuracy\")\n",
        "plt.title('График зависимости balanced_accuracy от  n_features для Наивный Байес: полиномиальная модель')\n",
        "plt.grid(True)\n",
        "plt.xscale('log')\n",
        "plt.legend(loc=1, shadow=True, fontsize='xx-large')"
      ],
      "metadata": {
        "colab": {
          "base_uri": "https://localhost:8080/",
          "height": 915
        },
        "id": "XgzB_QHF6kqR",
        "outputId": "1d6cf48e-e202-465e-8b35-f9e308c56cc5"
      },
      "execution_count": 269,
      "outputs": [
        {
          "output_type": "execute_result",
          "data": {
            "text/plain": [
              "<matplotlib.legend.Legend at 0x7f3d489c9b90>"
            ]
          },
          "metadata": {},
          "execution_count": 269
        },
        {
          "output_type": "display_data",
          "data": {
            "text/plain": [
              "<Figure size 1800x1080 with 1 Axes>"
            ],
            "image/png": "[encoded data removed]"
          },
          "metadata": {
            "needs_background": "light"
          }
        }
      ]
    },
    {
      "cell_type": "code",
      "source": [
        "scores_test_bernNB=[]\n",
        "for n in n_features:\n",
        "  pipeline = Pipeline([\n",
        "                        (\"hashing\", HashingVectorizer(norm=None,alternate_sign=False,n_features =int(n), ngram_range=(1,1))),\n",
        "                       (\"transformer\", TfidfTransformer()),\n",
        "                        (\"knn_model\",  BernoulliNB(alpha=df_3.iloc[9]['Value_best'], binarize=None))\n",
        "  ])\n",
        "  score = cross_validate(pipeline, X_train, y_train, cv=kf, scoring=['balanced_accuracy'])\n",
        "  balanced_accuracy_model = score['test_balanced_accuracy'].mean()\n",
        "  scores_test_bernNB.append(balanced_accuracy_model)\n",
        "plt.figure(1, figsize=[25, 15])\n",
        "plt.plot( n_features, scores_test_bernNB, color=\"red\", label = 'Наивный Байес: полиномиальная модель', ls = 'dashed')\n",
        "plt.xlabel(\" n_features\")\n",
        "plt.ylabel(\"balanced_accuracy\")\n",
        "plt.title('График зависимости balanced_accuracy от  n_features для Наивный Байес: полиномиальная модель')\n",
        "plt.grid(True)\n",
        "plt.xscale('log')\n",
        "plt.legend(loc=1, shadow=True, fontsize='xx-large')"
      ],
      "metadata": {
        "colab": {
          "base_uri": "https://localhost:8080/",
          "height": 915
        },
        "id": "2B4cz0y47Uje",
        "outputId": "a2fa68b9-71fd-4bb4-fc3e-10ae830104b6"
      },
      "execution_count": 270,
      "outputs": [
        {
          "output_type": "execute_result",
          "data": {
            "text/plain": [
              "<matplotlib.legend.Legend at 0x7f3d4b315750>"
            ]
          },
          "metadata": {},
          "execution_count": 270
        },
        {
          "output_type": "display_data",
          "data": {
            "text/plain": [
              "<Figure size 1800x1080 with 1 Axes>"
            ],
            "image/png": "[encoded data removed]"
          },
          "metadata": {
            "needs_background": "light"
          }
        }
      ]
    }
  ],
  "metadata": {
    "colab": {
      "collapsed_sections": [],
      "name": "A3_IU23_Malkina_1(3).ipynb",
      "provenance": []
    },
    "kernelspec": {
      "display_name": "Python 3",
      "language": "python",
      "name": "python3"
    },
    "language_info": {
      "codemirror_mode": {
        "name": "ipython",
        "version": 3
      },
      "file_extension": ".py",
      "mimetype": "text/x-python",
      "name": "python",
      "nbconvert_exporter": "python",
      "pygments_lexer": "ipython3",
      "version": "3.7.4"
    }
  },
  "nbformat": 4,
  "nbformat_minor": 0
}