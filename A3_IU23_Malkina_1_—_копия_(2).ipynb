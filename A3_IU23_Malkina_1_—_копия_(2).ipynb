{
  "cells": [
    {
      "cell_type": "markdown",
      "metadata": {
        "id": "AnST6ImK6-su"
      },
      "source": [
        "<div style=\"font-size:18pt; padding-top:20px; text-align:center\"><b>ДОМАШНЕЕ ЗАДАНИЕ 3. Классификация текстовых документов</b> </div><hr>\n",
        "<div style=\"text-align:right;\">Папулин С.Ю. <span style=\"font-style: italic;font-weight: bold;\">(papulin.study@yandex.ru)</span></div>"
      ]
    },
    {
      "cell_type": "markdown",
      "metadata": {
        "id": "a6jgPst3Ca0a"
      },
      "source": [
        "# Цель работы"
      ]
    },
    {
      "cell_type": "markdown",
      "metadata": {
        "id": "-PM8Dwr8CdkP"
      },
      "source": [
        "Получение опыта решения практических задач по машинному обучению, таких как анализ и визуализация исходных данных, обучение, выбор и оценка качества моделей предсказания с помощью языка программирования Python."
      ]
    },
    {
      "cell_type": "markdown",
      "metadata": {
        "id": "CS8HkV_x6-sy"
      },
      "source": [
        "<p>Подключение стилей оформления</p>"
      ]
    },
    {
      "cell_type": "code",
      "execution_count": 3,
      "metadata": {
        "colab": {
          "base_uri": "https://localhost:8080/",
          "resources": {
            "http://localhost:8080/css/style.css": {
              "data": "CjwhRE9DVFlQRSBodG1sPgo8aHRtbCBsYW5nPWVuPgogIDxtZXRhIGNoYXJzZXQ9dXRmLTg+CiAgPG1ldGEgbmFtZT12aWV3cG9ydCBjb250ZW50PSJpbml0aWFsLXNjYWxlPTEsIG1pbmltdW0tc2NhbGU9MSwgd2lkdGg9ZGV2aWNlLXdpZHRoIj4KICA8dGl0bGU+RXJyb3IgNDA0IChOb3QgRm91bmQpISExPC90aXRsZT4KICA8c3R5bGU+CiAgICAqe21hcmdpbjowO3BhZGRpbmc6MH1odG1sLGNvZGV7Zm9udDoxNXB4LzIycHggYXJpYWwsc2Fucy1zZXJpZn1odG1se2JhY2tncm91bmQ6I2ZmZjtjb2xvcjojMjIyO3BhZGRpbmc6MTVweH1ib2R5e21hcmdpbjo3JSBhdXRvIDA7bWF4LXdpZHRoOjM5MHB4O21pbi1oZWlnaHQ6MTgwcHg7cGFkZGluZzozMHB4IDAgMTVweH0qID4gYm9keXtiYWNrZ3JvdW5kOnVybCgvL3d3dy5nb29nbGUuY29tL2ltYWdlcy9lcnJvcnMvcm9ib3QucG5nKSAxMDAlIDVweCBuby1yZXBlYXQ7cGFkZGluZy1yaWdodDoyMDVweH1we21hcmdpbjoxMXB4IDAgMjJweDtvdmVyZmxvdzpoaWRkZW59aW5ze2NvbG9yOiM3Nzc7dGV4dC1kZWNvcmF0aW9uOm5vbmV9YSBpbWd7Ym9yZGVyOjB9QG1lZGlhIHNjcmVlbiBhbmQgKG1heC13aWR0aDo3NzJweCl7Ym9keXtiYWNrZ3JvdW5kOm5vbmU7bWFyZ2luLXRvcDowO21heC13aWR0aDpub25lO3BhZGRpbmctcmlnaHQ6MH19I2xvZ297YmFja2dyb3VuZDp1cmwoLy93d3cuZ29vZ2xlLmNvbS9pbWFnZXMvbG9nb3MvZXJyb3JwYWdlL2Vycm9yX2xvZ28tMTUweDU0LnBuZykgbm8tcmVwZWF0O21hcmdpbi1sZWZ0Oi01cHh9QG1lZGlhIG9ubHkgc2NyZWVuIGFuZCAobWluLXJlc29sdXRpb246MTkyZHBpKXsjbG9nb3tiYWNrZ3JvdW5kOnVybCgvL3d3dy5nb29nbGUuY29tL2ltYWdlcy9sb2dvcy9lcnJvcnBhZ2UvZXJyb3JfbG9nby0xNTB4NTQtMngucG5nKSBuby1yZXBlYXQgMCUgMCUvMTAwJSAxMDAlOy1tb3otYm9yZGVyLWltYWdlOnVybCgvL3d3dy5nb29nbGUuY29tL2ltYWdlcy9sb2dvcy9lcnJvcnBhZ2UvZXJyb3JfbG9nby0xNTB4NTQtMngucG5nKSAwfX1AbWVkaWEgb25seSBzY3JlZW4gYW5kICgtd2Via2l0LW1pbi1kZXZpY2UtcGl4ZWwtcmF0aW86Mil7I2xvZ297YmFja2dyb3VuZDp1cmwoLy93d3cuZ29vZ2xlLmNvbS9pbWFnZXMvbG9nb3MvZXJyb3JwYWdlL2Vycm9yX2xvZ28tMTUweDU0LTJ4LnBuZykgbm8tcmVwZWF0Oy13ZWJraXQtYmFja2dyb3VuZC1zaXplOjEwMCUgMTAwJX19I2xvZ297ZGlzcGxheTppbmxpbmUtYmxvY2s7aGVpZ2h0OjU0cHg7d2lkdGg6MTUwcHh9CiAgPC9zdHlsZT4KICA8YSBocmVmPS8vd3d3Lmdvb2dsZS5jb20vPjxzcGFuIGlkPWxvZ28gYXJpYS1sYWJlbD1Hb29nbGU+PC9zcGFuPjwvYT4KICA8cD48Yj40MDQuPC9iPiA8aW5zPlRoYXTigJlzIGFuIGVycm9yLjwvaW5zPgogIDxwPiAgPGlucz5UaGF04oCZcyBhbGwgd2Uga25vdy48L2lucz4K",
              "headers": [
                [
                  "content-length",
                  "1449"
                ],
                [
                  "content-type",
                  "text/html; charset=utf-8"
                ]
              ],
              "ok": false,
              "status": 404,
              "status_text": ""
            }
          },
          "height": 0
        },
        "id": "exHE9G9a6-sy",
        "outputId": "89463265-d5d4-4b04-ac71-50ee01034e30"
      },
      "outputs": [
        {
          "output_type": "display_data",
          "data": {
            "text/plain": [
              "<IPython.core.display.HTML object>"
            ],
            "text/html": [
              "<link href=\"css/style.css\" rel=\"stylesheet\" type=\"text/css\">"
            ]
          },
          "metadata": {}
        }
      ],
      "source": [
        "%%html\n",
        "<link href=\"css/style.css\" rel=\"stylesheet\" type=\"text/css\">"
      ]
    },
    {
      "cell_type": "markdown",
      "metadata": {
        "id": "RU-wtzwi6-s0"
      },
      "source": [
        "# Вариант"
      ]
    },
    {
      "cell_type": "markdown",
      "metadata": {
        "id": "n4CTrLta6-s0"
      },
      "source": [
        "<p>Чтобы узнать свой вариант, введите Вашу фамилию в соответвующее поле ниже и запустите ячейку:</p>"
      ]
    },
    {
      "cell_type": "code",
      "execution_count": 4,
      "metadata": {
        "colab": {
          "base_uri": "https://localhost:8080/"
        },
        "id": "hqTe97qI6-s0",
        "outputId": "dff5fec1-3ef1-45e1-b811-11a84627cde3"
      },
      "outputs": [
        {
          "output_type": "stream",
          "name": "stdout",
          "text": [
            "Ваш вариант -  1\n"
          ]
        }
      ],
      "source": [
        "surname = \"Малкина\" # Ваша фамилия\n",
        "\n",
        "alp = 'абвгдеёжзийклмнопрстуфхцчшщъыьэюя'\n",
        "w = [4, 42, 21, 21, 34,  1, 44, 26, 18, 43, 38, 26, 18, 43,  3, 49, 45,\n",
        "        7, 42, 25,  4,  9, 36, 33, 31, 29,  5, 31,  4, 19, 24, 27, 33]\n",
        "d = dict(zip(alp, w))\n",
        "variant =  sum([d[el] for el in surname.lower()]) % 3 + 1\n",
        "print(\"Ваш вариант - \", variant)"
      ]
    },
    {
      "cell_type": "markdown",
      "metadata": {
        "id": "h3RCHqIR6-s1"
      },
      "source": [
        "<div class=\"msg-block msg-warning\">\n",
        "  <p class=\"msg-text-warn\">Варианты могут не совпадать с последующими ДЗ</p>\n",
        "</div>"
      ]
    },
    {
      "cell_type": "markdown",
      "metadata": {
        "id": "tnvR_7Br6-s2"
      },
      "source": [
        "<ol>\n",
        "    <li>\n",
        "        Набор электронных сообщений (emails) - <b>спам/не спам</b> - <a href=\"http://csmining.org/index.php/spam-email-datasets-.html\">источник</a> - файл c данными: <b>data/emails.tsv</b>\n",
        "    </li>\n",
        "    <li>\n",
        "        Набор SMS сообщений (sms) - <b>спам/не спам</b> - <a href=\"https://archive.ics.uci.edu/ml/datasets/SMS+Spam+Collection\">источник</a> - файл c данными: <b>data/SMSSpamCollection</b>\n",
        "    </li>\n",
        "    <li>Набор рецензий на фильмы (reviews) - <b>positive/negative</b> - <a href=\"http://www.cs.cornell.edu/people/pabo/movie-review-data/\">источник</a> - файл c данными: <b>data/reviews.tsv</b></li>\n",
        "</ol>"
      ]
    },
    {
      "cell_type": "markdown",
      "metadata": {
        "id": "2--eUg2CDC0p"
      },
      "source": [
        "⚠️ Замечание.\n",
        "\n",
        "Для всех объектов/методов/моделей random_state = 123"
      ]
    },
    {
      "cell_type": "markdown",
      "metadata": {
        "id": "AOfOtMG-GK96"
      },
      "source": [
        "# Import"
      ]
    },
    {
      "cell_type": "code",
      "execution_count": 5,
      "metadata": {
        "id": "qJ0rg1e8GJ58"
      },
      "outputs": [],
      "source": [
        "import numpy as np\n",
        "import pandas as pd\n",
        "import matplotlib.pyplot as plt\n",
        "%matplotlib inline\n",
        "from sklearn.metrics import classification_report, confusion_matrix\n",
        "%load_ext autoreload\n",
        "%autoreload 2\n",
        "\n",
        "# import sys\n",
        "# sys.path.insert(0, \"../lib/\")\n",
        "# from plot_confusion_matrix import plot_confusion_matrix\n",
        "\n",
        "\n",
        "import warnings\n",
        "warnings.filterwarnings('ignore')\n",
        "\n",
        "from sklearn.model_selection import GridSearchCV\n",
        "\n",
        "\n",
        "import time\n",
        "from sklearn.feature_extraction.text import TfidfVectorizer\n",
        "from sklearn.metrics import balanced_accuracy_score,recall_score,precision_score,f1_score\n",
        "\n",
        "from sklearn.model_selection import (\n",
        "    train_test_split,\n",
        "    StratifiedKFold,\n",
        "        cross_val_score, \n",
        "    cross_validate\n",
        "\n",
        ")"
      ]
    },
    {
      "cell_type": "markdown",
      "metadata": {
        "id": "MIdC2LmXDKFN"
      },
      "source": [
        "# Задание 1. Оценка качества фильтрации текстовых данных (2 балла)"
      ]
    },
    {
      "cell_type": "markdown",
      "metadata": {
        "id": "TyRtQlNo6-s2"
      },
      "source": [
        "<ol>\n",
        "    <li>Загрузите исходные данные</li>\n",
        "    <li>Разбейте загруженные данные на обучающее (train, 80%) и тестовое подмножества (test, 20%)</li>\n",
        "    <li>Переведите текстовые данные в векторный вид. Для этого воспользуйтесь средствами sklearn для конвертации текста в векторы TF-IDF (настроить на обучающем подмножестве, n-gram=1, слова в нижний регистр). Примечание: для модели Бернулли используйте бинарный вектор.</li>\n",
        "    <li>Постройте на обучающем подмножестве следующие модели классификации:\n",
        "        <ul>\n",
        "            <li>K-ближайших соседей ($n=5$)</li>\n",
        "            <li>Логистическая регрессия ($C=1$)</li>\n",
        "            <li>Наивный Байес: модель Бернулли ($\\alpha=1$)</li> \n",
        "            <li>Наивный Байес: полиномиальная модель ($\\alpha=1$)</li> \n",
        "        </ul>\n",
        "    </li>\n",
        "    <li>Определите качество классификации на тестовом подмножестве (Balanced-Accuracy, R, P, F1)</li>\n",
        "    <li>Определите с время обучения и предсказания (на тестовом подмножестве)</li>\n",
        "    <li>Свести все значения в один датафрейм и представить результат в виде таблицы</li>\n",
        "</ol>"
      ]
    },
    {
      "cell_type": "markdown",
      "metadata": {
        "id": "Is5qBVMxTpJl"
      },
      "source": [
        "\n",
        "\n",
        "---\n",
        "\n"
      ]
    },
    {
      "cell_type": "code",
      "execution_count": 6,
      "metadata": {
        "collapsed": true,
        "id": "HMKxm6Sk6-s3"
      },
      "outputs": [],
      "source": [
        "random_state = 123  # для всех объектов/методов/моделей\n",
        "# Параметры логистической регрессии\n",
        "# penalty=\"l2\" , fit_intercept=True, max_iter=100, C=1, solver=\"lbfgs\", random_state=123"
      ]
    },
    {
      "cell_type": "code",
      "execution_count": 7,
      "metadata": {
        "id": "f3UAI65Py8iM"
      },
      "outputs": [],
      "source": [
        "#В первую очередь создам датафрейм и его представление в виде таблицы\n",
        "index = [\"K-ближайших соседей\", \"Логистическая регрессия\", \"Наивный Байес: модель Бернулли\", \"Наивный Байес: полиномиальная модель\"]\n",
        "columns = [\"Balanced-Accuracy\", \"R\", \"P\", \"F1\", \"Time fit\", \"Time predict\"]\n",
        "df = pd.DataFrame(index=index, columns=columns)"
      ]
    },
    {
      "cell_type": "markdown",
      "metadata": {
        "id": "Tg8HCqOwAlxm"
      },
      "source": [
        "⚠️ Замечание (к коду выше) - DataFrame заполняется в процессе взаимодействия с моделями"
      ]
    },
    {
      "cell_type": "code",
      "execution_count": 8,
      "metadata": {
        "collapsed": true,
        "id": "kwW_jgzw6-s4"
      },
      "outputs": [],
      "source": [
        "# Загрузите исходные данные\n",
        "data = pd.read_csv(\"https://raw.githubusercontent.com/Carpediem2026/ML/main/Dz3/emails.tsv\", sep='\\t')"
      ]
    },
    {
      "cell_type": "code",
      "execution_count": 9,
      "metadata": {
        "id": "oS2sD5K4KOG4"
      },
      "outputs": [],
      "source": [
        "#Разбейте загруженные данные на обучающее (train, 80%) и тестовое подмножества (test, 20%)\n",
        "x = np.array(data['emails'])\n",
        "y = np.array(data['type'])\n",
        "X_train, X_test, y_train, y_test = train_test_split(x, y, test_size=0.2, random_state=random_state)"
      ]
    },
    {
      "cell_type": "code",
      "execution_count": 10,
      "metadata": {
        "id": "NZ6cNyUpLCi5"
      },
      "outputs": [],
      "source": [
        "#Переведите текстовые данные в векторный вид. \n",
        "#Для этого воспользуйтесь средствами sklearn для конвертации текста в векторы TF-IDF (настроить на обучающем подмножестве, n-gram=1, слова в нижний регистр). \n",
        "#Примечание: для модели Бернулли используйте бинарный вектор.\n",
        "vectorizer = TfidfVectorizer(lowercase=True, stop_words=\"english\",#None, \n",
        "                             use_idf=True, ngram_range=(1,1),\n",
        "                             smooth_idf=False)\n",
        "\n",
        "#Передаем набор документов, на основе которых будут строиться векторы\n",
        "vectorizer = vectorizer.fit(X_train)\n",
        "# Преобразование текстовых документов в векторы\n",
        "train_vectors = vectorizer.transform(X_train)\n",
        "test_vectors = vectorizer.transform(X_test.astype('U'))"
      ]
    },
    {
      "cell_type": "markdown",
      "metadata": {
        "id": "_gwV4scxRcE9"
      },
      "source": [
        "**Модели классификаций**"
      ]
    },
    {
      "cell_type": "markdown",
      "metadata": {
        "id": "d18rLZdH_0x9"
      },
      "source": [
        "> K-ближайших соседей ($n=5$)\n",
        "\n",
        "\n",
        "\n"
      ]
    },
    {
      "cell_type": "code",
      "execution_count": 11,
      "metadata": {
        "colab": {
          "base_uri": "https://localhost:8080/"
        },
        "id": "wHxUdophR2z1",
        "outputId": "ac8cfe2b-aff7-4034-e980-85d48e459d05"
      },
      "outputs": [
        {
          "output_type": "stream",
          "name": "stdout",
          "text": [
            "Time fit = 0.003008604049682617\n",
            "Time predict = 0.23916339874267578\n",
            "Test balanced accuracy = 0.608816345332113\n",
            "Test recall score = 0.22469982847341338\n",
            "Test precision score = 0.9849624060150376\n",
            "Test f1 score = 0.36592178770949724\n"
          ]
        }
      ],
      "source": [
        "#K-ближайших соседей\n",
        "from sklearn.neighbors import KNeighborsClassifier\n",
        "# Создание и обучение модели\n",
        "knn_model = KNeighborsClassifier(n_neighbors=5, p=2,)\n",
        "start_time1 = time.time()\n",
        "knn_model.fit(train_vectors, y_train)\n",
        "time1 = time.time() - start_time1\n",
        "print(f\"Time fit = {time1}\")\n",
        "df.loc['K-ближайших соседей','Time fit'] = time1\n",
        "# Предсказания для тестового подмножества\n",
        "start_time2 = time.time()\n",
        "y_test_pred_knn = knn_model.predict(test_vectors)\n",
        "time2 = time.time() - start_time2\n",
        "print(f\"Time predict = {time2}\")\n",
        "df.loc['K-ближайших соседей','Time predict'] = time2\n",
        "# Определите качество классификации на тестовом подмножестве (Balanced-Accuracy, R, P, F1)\n",
        "balanced_accuracy_model = balanced_accuracy_score(y_test,y_test_pred_knn)\n",
        "recall_score_model = recall_score(y_test,y_test_pred_knn)\n",
        "precision_score_model = precision_score(y_test,y_test_pred_knn)\n",
        "f1_score_model = f1_score(y_test,y_test_pred_knn)\n",
        "print(f\"Test balanced accuracy = {balanced_accuracy_model}\")\n",
        "print(f\"Test recall score = {recall_score_model}\")\n",
        "print(f\"Test precision score = {precision_score_model}\")\n",
        "print(f\"Test f1 score = {f1_score_model}\")\n",
        "df.loc['K-ближайших соседей','Balanced-Accuracy'] = balanced_accuracy_model\n",
        "df.loc['K-ближайших соседей','R'] = recall_score_model\n",
        "df.loc['K-ближайших соседей','P'] = precision_score_model\n",
        "df.loc['K-ближайших соседей','F1'] = f1_score_model"
      ]
    },
    {
      "cell_type": "markdown",
      "metadata": {
        "id": "65oQdSq3__HV"
      },
      "source": [
        "\n",
        "\n",
        "> Логистическая регрессия ($C=1$)\n",
        "\n"
      ]
    },
    {
      "cell_type": "code",
      "execution_count": 12,
      "metadata": {
        "colab": {
          "base_uri": "https://localhost:8080/"
        },
        "id": "UmyBbTL55zSj",
        "outputId": "c477475c-8d0f-47c6-81d5-308d52d10c74"
      },
      "outputs": [
        {
          "output_type": "stream",
          "name": "stdout",
          "text": [
            "Time fit = 0.4393026828765869\n",
            "Time predict = 0.0009789466857910156\n",
            "Test balanced accuracy = 0.9542181599985453\n",
            "Test recall score = 0.9897084048027445\n",
            "Test precision score = 0.9616666666666667\n",
            "Test f1 score = 0.9754860524091294\n"
          ]
        }
      ],
      "source": [
        "#Логистическая регрессия\n",
        "from sklearn.linear_model import LogisticRegression\n",
        "# Создание и обучение модели\n",
        "logreg_model = LogisticRegression(penalty=\"l2\", fit_intercept=True, max_iter=100, C=1, solver=\"lbfgs\", random_state=12345)\n",
        "start_time1 = time.time()\n",
        "logreg_model.fit(train_vectors, y_train)\n",
        "time1 = time.time() - start_time1\n",
        "print(f\"Time fit = {time1}\")\n",
        "df.loc['Логистическая регрессия','Time fit'] = time1\n",
        "# Предсказания для тестового подмножества\n",
        "start_time2 = time.time()\n",
        "y_test_pred_loreg = logreg_model.predict(test_vectors)\n",
        "time2 = time.time() - start_time2\n",
        "print(f\"Time predict = {time2}\")\n",
        "df.loc['Логистическая регрессия','Time predict'] = time2\n",
        "# Определите качество классификации на тестовом подмножестве (Balanced-Accuracy, R, P, F1)\n",
        "balanced_accuracy_model = balanced_accuracy_score(y_test,y_test_pred_loreg)\n",
        "recall_score_model = recall_score(y_test,y_test_pred_loreg)\n",
        "precision_score_model = precision_score(y_test,y_test_pred_loreg)\n",
        "f1_score_model = f1_score(y_test,y_test_pred_loreg)\n",
        "print(f\"Test balanced accuracy = {balanced_accuracy_model}\")\n",
        "print(f\"Test recall score = {recall_score_model}\")\n",
        "print(f\"Test precision score = {precision_score_model}\")\n",
        "print(f\"Test f1 score = {f1_score_model}\")\n",
        "df.loc['Логистическая регрессия','Balanced-Accuracy'] = balanced_accuracy_model\n",
        "df.loc['Логистическая регрессия','R'] = recall_score_model\n",
        "df.loc['Логистическая регрессия','P'] = precision_score_model\n",
        "df.loc['Логистическая регрессия','F1'] = f1_score_model"
      ]
    },
    {
      "cell_type": "markdown",
      "metadata": {
        "id": "qjjCmptk-MER"
      },
      "source": [
        "\n",
        "> Наивный Байес: полиномиальная модель ($\\alpha=1$)\n",
        "\n"
      ]
    },
    {
      "cell_type": "code",
      "execution_count": 13,
      "metadata": {
        "colab": {
          "base_uri": "https://localhost:8080/"
        },
        "id": "w3L0FkcJ80a-",
        "outputId": "9374d0be-6fee-4473-ab86-454313ea6575"
      },
      "outputs": [
        {
          "output_type": "stream",
          "name": "stdout",
          "text": [
            "Time fit = 0.018871068954467773\n",
            "Time predict = 0.002025127410888672\n",
            "Test balanced accuracy = 0.8365981974555879\n",
            "Test recall score = 0.9982847341337907\n",
            "Test precision score = 0.8635014836795252\n",
            "Test f1 score = 0.9260143198090692\n"
          ]
        }
      ],
      "source": [
        "#Наивный Байес: полиномиальная модель\n",
        "from sklearn.naive_bayes import MultinomialNB\n",
        "# Создание и обучение модели\n",
        "m_multNB = MultinomialNB(alpha=1)\n",
        "start_time1 = time.time()\n",
        "m_multNB.fit(train_vectors, y_train)\n",
        "time1 = time.time() - start_time1\n",
        "print(f\"Time fit = {time1}\")\n",
        "df.loc['Наивный Байес: полиномиальная модель','Time fit'] = time1\n",
        "# Предсказания для тестового подмножества\n",
        "start_time2 = time.time()\n",
        "y_test_pred_multNB = m_multNB.predict(test_vectors)\n",
        "time2 = time.time() - start_time2\n",
        "print(f\"Time predict = {time2}\")\n",
        "df.loc['Наивный Байес: полиномиальная модель','Time predict'] = time2\n",
        "# Определите качество классификации на тестовом подмножестве (Balanced-Accuracy, R, P, F1)\n",
        "balanced_accuracy_model = balanced_accuracy_score(y_test,y_test_pred_multNB)\n",
        "recall_score_model = recall_score(y_test,y_test_pred_multNB)\n",
        "precision_score_model = precision_score(y_test,y_test_pred_multNB)\n",
        "f1_score_model = f1_score(y_test,y_test_pred_multNB)\n",
        "print(f\"Test balanced accuracy = {balanced_accuracy_model}\")\n",
        "print(f\"Test recall score = {recall_score_model}\")\n",
        "print(f\"Test precision score = {precision_score_model}\")\n",
        "print(f\"Test f1 score = {f1_score_model}\")\n",
        "df.loc['Наивный Байес: полиномиальная модель','Balanced-Accuracy'] = balanced_accuracy_model\n",
        "df.loc['Наивный Байес: полиномиальная модель','R'] = recall_score_model\n",
        "df.loc['Наивный Байес: полиномиальная модель','P'] = precision_score_model\n",
        "df.loc['Наивный Байес: полиномиальная модель','F1'] = f1_score_model"
      ]
    },
    {
      "cell_type": "markdown",
      "metadata": {
        "id": "FZSnsRO0ABzN"
      },
      "source": [
        "\n",
        "\n",
        "> Наивный Байес: модель Бернулли ($\\alpha=1$)\n",
        "\n"
      ]
    },
    {
      "cell_type": "code",
      "execution_count": 14,
      "metadata": {
        "colab": {
          "base_uri": "https://localhost:8080/"
        },
        "id": "hktn2bZg7Pra",
        "outputId": "c5195499-75c6-4001-a02a-27cdfadb660b"
      },
      "outputs": [
        {
          "output_type": "stream",
          "name": "stdout",
          "text": [
            "Time fit = 0.009045839309692383\n",
            "Time predict = 0.007051944732666016\n",
            "Test balanced accuracy = 0.6805726442368886\n",
            "Test recall score = 0.9759862778730704\n",
            "Test precision score = 0.765814266487214\n",
            "Test f1 score = 0.8582202111613875\n"
          ]
        }
      ],
      "source": [
        "#Наивный Байес: модель Бернулли\n",
        "from sklearn.feature_extraction.text import CountVectorizer\n",
        "from sklearn.naive_bayes import BernoulliNB\n",
        "# Создание преобразователя текстовых документов в бинарные векторы с указанием параметров\n",
        "count_vectorizer = CountVectorizer(analyzer=\"word\", ngram_range=(1,1),\n",
        "                                   stop_words=None, lowercase=True,\n",
        "                                   binary=True, strip_accents=None)\n",
        "\n",
        "# Преобразование текстовых документов в бинарные векторы\n",
        "train_binary_vectors = count_vectorizer.fit_transform(X_train)\n",
        "test_binary_vectors = count_vectorizer.transform(X_test.astype('U'))\n",
        "# Создание и обучение модели\n",
        "m_bernNB = BernoulliNB(alpha=1, binarize=None)\n",
        "start_time1 = time.time()\n",
        "m_bernNB.fit(train_binary_vectors, y_train)\n",
        "time1 = time.time() - start_time1\n",
        "print(f\"Time fit = {time1}\")\n",
        "df.loc['Наивный Байес: модель Бернулли','Time fit'] = time1\n",
        "# Предсказания для тестового подмножества\n",
        "start_time2 = time.time()\n",
        "y_test_pred_bernNB = m_bernNB.predict(test_binary_vectors)\n",
        "time2 = time.time() - start_time2\n",
        "print(f\"Time predict = {time2}\")\n",
        "df.loc['Наивный Байес: модель Бернулли','Time predict'] = time2\n",
        "# Определите качество классификации на тестовом подмножестве (Balanced-Accuracy, R, P, F1)\n",
        "balanced_accuracy_model = balanced_accuracy_score(y_test,y_test_pred_bernNB)\n",
        "recall_score_model = recall_score(y_test,y_test_pred_bernNB)\n",
        "precision_score_model = precision_score(y_test,y_test_pred_bernNB)\n",
        "f1_score_model = f1_score(y_test,y_test_pred_bernNB)\n",
        "print(f\"Test balanced accuracy = {balanced_accuracy_model}\")\n",
        "print(f\"Test recall score = {recall_score_model}\")\n",
        "print(f\"Test precision score = {precision_score_model}\")\n",
        "print(f\"Test f1 score = {f1_score_model}\")\n",
        "df.loc['Наивный Байес: модель Бернулли','Balanced-Accuracy'] = balanced_accuracy_model\n",
        "df.loc['Наивный Байес: модель Бернулли','R'] = recall_score_model\n",
        "df.loc['Наивный Байес: модель Бернулли','P'] = precision_score_model\n",
        "df.loc['Наивный Байес: модель Бернулли','F1'] = f1_score_model"
      ]
    },
    {
      "cell_type": "markdown",
      "metadata": {
        "id": "CGU8QLtkBR41"
      },
      "source": [
        "⚠️ Замечание - пункты 5-6 задания выполнялись в процессе взаимодействия с моделями"
      ]
    },
    {
      "cell_type": "markdown",
      "metadata": {
        "id": "wbbrvtEaBgfB"
      },
      "source": [
        "⚠️ Замечание - пункт 7 задания. Датафрейм создан и заполнен выше"
      ]
    },
    {
      "cell_type": "code",
      "execution_count": 15,
      "metadata": {
        "id": "4mgmihFlCBE-",
        "colab": {
          "base_uri": "https://localhost:8080/",
          "height": 0
        },
        "outputId": "46ea9392-5601-4ea0-f4d4-9e0512c3b49f"
      },
      "outputs": [
        {
          "output_type": "stream",
          "name": "stdout",
          "text": [
            "Представление результатов в виде таблицы:\n"
          ]
        },
        {
          "output_type": "execute_result",
          "data": {
            "text/plain": [
              "                                     Balanced-Accuracy         R         P  \\\n",
              "K-ближайших соседей                           0.608816    0.2247  0.984962   \n",
              "Логистическая регрессия                       0.954218  0.989708  0.961667   \n",
              "Наивный Байес: модель Бернулли                0.680573  0.975986  0.765814   \n",
              "Наивный Байес: полиномиальная модель          0.836598  0.998285  0.863501   \n",
              "\n",
              "                                            F1  Time fit Time predict  \n",
              "K-ближайших соседей                   0.365922  0.003009     0.239163  \n",
              "Логистическая регрессия               0.975486  0.439303     0.000979  \n",
              "Наивный Байес: модель Бернулли         0.85822  0.009046     0.007052  \n",
              "Наивный Байес: полиномиальная модель  0.926014  0.018871     0.002025  "
            ],
            "text/html": [
              "\n",
              "  <div id=\"df-3561423e-017a-4525-9566-aa0935988901\">\n",
              "    <div class=\"colab-df-container\">\n",
              "      <div>\n",
              "<style scoped>\n",
              "    .dataframe tbody tr th:only-of-type {\n",
              "        vertical-align: middle;\n",
              "    }\n",
              "\n",
              "    .dataframe tbody tr th {\n",
              "        vertical-align: top;\n",
              "    }\n",
              "\n",
              "    .dataframe thead th {\n",
              "        text-align: right;\n",
              "    }\n",
              "</style>\n",
              "<table border=\"1\" class=\"dataframe\">\n",
              "  <thead>\n",
              "    <tr style=\"text-align: right;\">\n",
              "      <th></th>\n",
              "      <th>Balanced-Accuracy</th>\n",
              "      <th>R</th>\n",
              "      <th>P</th>\n",
              "      <th>F1</th>\n",
              "      <th>Time fit</th>\n",
              "      <th>Time predict</th>\n",
              "    </tr>\n",
              "  </thead>\n",
              "  <tbody>\n",
              "    <tr>\n",
              "      <th>K-ближайших соседей</th>\n",
              "      <td>0.608816</td>\n",
              "      <td>0.2247</td>\n",
              "      <td>0.984962</td>\n",
              "      <td>0.365922</td>\n",
              "      <td>0.003009</td>\n",
              "      <td>0.239163</td>\n",
              "    </tr>\n",
              "    <tr>\n",
              "      <th>Логистическая регрессия</th>\n",
              "      <td>0.954218</td>\n",
              "      <td>0.989708</td>\n",
              "      <td>0.961667</td>\n",
              "      <td>0.975486</td>\n",
              "      <td>0.439303</td>\n",
              "      <td>0.000979</td>\n",
              "    </tr>\n",
              "    <tr>\n",
              "      <th>Наивный Байес: модель Бернулли</th>\n",
              "      <td>0.680573</td>\n",
              "      <td>0.975986</td>\n",
              "      <td>0.765814</td>\n",
              "      <td>0.85822</td>\n",
              "      <td>0.009046</td>\n",
              "      <td>0.007052</td>\n",
              "    </tr>\n",
              "    <tr>\n",
              "      <th>Наивный Байес: полиномиальная модель</th>\n",
              "      <td>0.836598</td>\n",
              "      <td>0.998285</td>\n",
              "      <td>0.863501</td>\n",
              "      <td>0.926014</td>\n",
              "      <td>0.018871</td>\n",
              "      <td>0.002025</td>\n",
              "    </tr>\n",
              "  </tbody>\n",
              "</table>\n",
              "</div>\n",
              "      <button class=\"colab-df-convert\" onclick=\"convertToInteractive('df-3561423e-017a-4525-9566-aa0935988901')\"\n",
              "              title=\"Convert this dataframe to an interactive table.\"\n",
              "              style=\"display:none;\">\n",
              "        \n",
              "  <svg xmlns=\"http://www.w3.org/2000/svg\" height=\"24px\"viewBox=\"0 0 24 24\"\n",
              "       width=\"24px\">\n",
              "    <path d=\"M0 0h24v24H0V0z\" fill=\"none\"/>\n",
              "    <path d=\"M18.56 5.44l.94 2.06.94-2.06 2.06-.94-2.06-.94-.94-2.06-.94 2.06-2.06.94zm-11 1L8.5 8.5l.94-2.06 2.06-.94-2.06-.94L8.5 2.5l-.94 2.06-2.06.94zm10 10l.94 2.06.94-2.06 2.06-.94-2.06-.94-.94-2.06-.94 2.06-2.06.94z\"/><path d=\"M17.41 7.96l-1.37-1.37c-.4-.4-.92-.59-1.43-.59-.52 0-1.04.2-1.43.59L10.3 9.45l-7.72 7.72c-.78.78-.78 2.05 0 2.83L4 21.41c.39.39.9.59 1.41.59.51 0 1.02-.2 1.41-.59l7.78-7.78 2.81-2.81c.8-.78.8-2.07 0-2.86zM5.41 20L4 18.59l7.72-7.72 1.47 1.35L5.41 20z\"/>\n",
              "  </svg>\n",
              "      </button>\n",
              "      \n",
              "  <style>\n",
              "    .colab-df-container {\n",
              "      display:flex;\n",
              "      flex-wrap:wrap;\n",
              "      gap: 12px;\n",
              "    }\n",
              "\n",
              "    .colab-df-convert {\n",
              "      background-color: #E8F0FE;\n",
              "      border: none;\n",
              "      border-radius: 50%;\n",
              "      cursor: pointer;\n",
              "      display: none;\n",
              "      fill: #1967D2;\n",
              "      height: 32px;\n",
              "      padding: 0 0 0 0;\n",
              "      width: 32px;\n",
              "    }\n",
              "\n",
              "    .colab-df-convert:hover {\n",
              "      background-color: #E2EBFA;\n",
              "      box-shadow: 0px 1px 2px rgba(60, 64, 67, 0.3), 0px 1px 3px 1px rgba(60, 64, 67, 0.15);\n",
              "      fill: #174EA6;\n",
              "    }\n",
              "\n",
              "    [theme=dark] .colab-df-convert {\n",
              "      background-color: #3B4455;\n",
              "      fill: #D2E3FC;\n",
              "    }\n",
              "\n",
              "    [theme=dark] .colab-df-convert:hover {\n",
              "      background-color: #434B5C;\n",
              "      box-shadow: 0px 1px 3px 1px rgba(0, 0, 0, 0.15);\n",
              "      filter: drop-shadow(0px 1px 2px rgba(0, 0, 0, 0.3));\n",
              "      fill: #FFFFFF;\n",
              "    }\n",
              "  </style>\n",
              "\n",
              "      <script>\n",
              "        const buttonEl =\n",
              "          document.querySelector('#df-3561423e-017a-4525-9566-aa0935988901 button.colab-df-convert');\n",
              "        buttonEl.style.display =\n",
              "          google.colab.kernel.accessAllowed ? 'block' : 'none';\n",
              "\n",
              "        async function convertToInteractive(key) {\n",
              "          const element = document.querySelector('#df-3561423e-017a-4525-9566-aa0935988901');\n",
              "          const dataTable =\n",
              "            await google.colab.kernel.invokeFunction('convertToInteractive',\n",
              "                                                     [key], {});\n",
              "          if (!dataTable) return;\n",
              "\n",
              "          const docLinkHtml = 'Like what you see? Visit the ' +\n",
              "            '<a target=\"_blank\" href=https://colab.research.google.com/notebooks/data_table.ipynb>data table notebook</a>'\n",
              "            + ' to learn more about interactive tables.';\n",
              "          element.innerHTML = '';\n",
              "          dataTable['output_type'] = 'display_data';\n",
              "          await google.colab.output.renderOutput(dataTable, element);\n",
              "          const docLink = document.createElement('div');\n",
              "          docLink.innerHTML = docLinkHtml;\n",
              "          element.appendChild(docLink);\n",
              "        }\n",
              "      </script>\n",
              "    </div>\n",
              "  </div>\n",
              "  "
            ]
          },
          "metadata": {},
          "execution_count": 15
        }
      ],
      "source": [
        "print(\"Представление результатов в виде таблицы:\")\n",
        "df"
      ]
    },
    {
      "cell_type": "markdown",
      "metadata": {
        "id": "ExDLNkCb6-s5"
      },
      "source": [
        "# Задание 2. Оценка качества классификации текстовых данных посредством кросс-валидации (2 балла)"
      ]
    },
    {
      "cell_type": "markdown",
      "metadata": {
        "id": "cQk513Tb6-s4"
      },
      "source": [
        "<p>Повторите решение задачи 1, но с использованием k-folds (k=4) для разделения исходных данных</p>\n",
        "\n",
        "\n",
        "---\n",
        "\n"
      ]
    },
    {
      "cell_type": "code",
      "execution_count": 16,
      "metadata": {
        "collapsed": true,
        "id": "Dbjp61y96-s4"
      },
      "outputs": [],
      "source": [
        "random_state = 123  # для всех объектов/методов/моделей"
      ]
    },
    {
      "cell_type": "code",
      "execution_count": 17,
      "metadata": {
        "id": "7VBYm1cBHFIs"
      },
      "outputs": [],
      "source": [
        "#Создан новый датафрейм\n",
        "df_2 = pd.DataFrame(index=index, columns=columns)\n",
        "# Изменение метода разделения исходных данных, под \"(k=4)\" подразумевается n_splits=4\n",
        "kf = StratifiedKFold(n_splits=4, random_state=random_state,shuffle = True)\n",
        "for train_index, test_index in kf.split(x,y):\n",
        "  X2_train, X2_test = x[train_index], x[test_index]\n",
        "  y2_train, y2_test = y[train_index], y[test_index]\n",
        "#Переведите текстовые данные в векторный вид. vectorizer используется из прошлого задания, так как он не зависит от способо разделения исходных данных\n",
        "#Передаем набор документов, на основе которых будут строиться векторы\n",
        "vectorizer = vectorizer.fit(X2_train.astype('U'))\n",
        "# Преобразование текстовых документов в векторы\n",
        "train_vectors2 = vectorizer.transform(X2_train.astype('U'))\n",
        "test_vectors2 = vectorizer.transform(X2_test.astype('U'))"
      ]
    },
    {
      "cell_type": "markdown",
      "metadata": {
        "id": "M9emnkVMKUmD"
      },
      "source": [
        "# Модели классификаций"
      ]
    },
    {
      "cell_type": "markdown",
      "metadata": {
        "id": "dzwrYpthMJlg"
      },
      "source": [
        "> K-ближайших соседей ($n=5$)\n"
      ]
    },
    {
      "cell_type": "code",
      "execution_count": 18,
      "metadata": {
        "colab": {
          "base_uri": "https://localhost:8080/"
        },
        "collapsed": true,
        "id": "uPUgrB146-s4",
        "outputId": "c753128e-5779-4881-e6d1-dba0701db050"
      },
      "outputs": [
        {
          "output_type": "stream",
          "name": "stdout",
          "text": [
            "Time fit = 0.0041901469230651855\n",
            "Time predict = 0.15736955404281616\n",
            "Test balanced accuracy = 0.557117719665436\n",
            "Test recall score = 0.557117719665436\n",
            "Test precision score = 0.6540870263232126\n",
            "Test f1 score = 0.36536057847251047\n"
          ]
        }
      ],
      "source": [
        "#K-ближайших соседей\n",
        "# Создание и обучение модели\n",
        "knn_model = KNeighborsClassifier(n_neighbors=5, p=2,)\n",
        "score = cross_validate(knn_model, train_vectors2, y2_train, cv=kf, scoring=['f1_macro','recall_macro','precision_macro','balanced_accuracy'])\n",
        "time1 = score['fit_time'].mean()\n",
        "print(f\"Time fit = {time1}\")\n",
        "df_2.loc['K-ближайших соседей','Time fit'] = time1\n",
        "time2 = score['score_time'].mean()\n",
        "print(f\"Time predict = {time2}\")\n",
        "df_2.loc['K-ближайших соседей','Time predict'] = time2\n",
        "# Определите качество классификации на тестовом подмножестве (Balanced-Accuracy, R, P, F1)\n",
        "balanced_accuracy_model = score['test_balanced_accuracy'].mean()\n",
        "recall_score_model = score['test_recall_macro'].mean()\n",
        "precision_score_model = score['test_precision_macro'].mean()\n",
        "f1_score_model = score['test_f1_macro'].mean()\n",
        "print(f\"Test balanced accuracy = {balanced_accuracy_model}\")\n",
        "print(f\"Test recall score = {recall_score_model}\")\n",
        "print(f\"Test precision score = {precision_score_model}\")\n",
        "print(f\"Test f1 score = {f1_score_model}\")\n",
        "df_2.loc['K-ближайших соседей','Balanced-Accuracy'] = balanced_accuracy_model\n",
        "df_2.loc['K-ближайших соседей','R'] = recall_score_model\n",
        "df_2.loc['K-ближайших соседей','P'] = precision_score_model\n",
        "df_2.loc['K-ближайших соседей','F1'] = f1_score_model"
      ]
    },
    {
      "cell_type": "markdown",
      "metadata": {
        "id": "PDpVDX78MQpk"
      },
      "source": [
        "> Логистическая регрессия ($C=1$)\n"
      ]
    },
    {
      "cell_type": "code",
      "execution_count": 19,
      "metadata": {
        "id": "4GzVQ37eMDDq",
        "colab": {
          "base_uri": "https://localhost:8080/"
        },
        "outputId": "b4672301-6c7f-4d06-bca3-ce9b2b4e8b1f"
      },
      "outputs": [
        {
          "output_type": "stream",
          "name": "stdout",
          "text": [
            "Time fit = 0.5514544248580933\n",
            "Time predict = 0.008679687976837158\n",
            "Test balanced accuracy = 0.921522606729183\n",
            "Test recall score = 0.921522606729183\n",
            "Test precision score = 0.9555179295473879\n",
            "Test f1 score = 0.9359615396960568\n"
          ]
        }
      ],
      "source": [
        "#Логистическая регрессия\n",
        "# Создание и обучение модели\n",
        "logreg_model = LogisticRegression(penalty=\"l2\", fit_intercept=True, max_iter=100, C=1, solver=\"lbfgs\", random_state=12345)\n",
        "score = cross_validate(logreg_model, train_vectors2, y2_train, cv=kf, scoring=['f1_macro','recall_macro','precision_macro','balanced_accuracy'])\n",
        "time1 = score['fit_time'].mean()\n",
        "print(f\"Time fit = {time1}\")\n",
        "df_2.loc['Логистическая регрессия','Time fit'] = time1\n",
        "time2 = score['score_time'].mean()\n",
        "print(f\"Time predict = {time2}\")\n",
        "df_2.loc['Логистическая регрессия','Time predict'] = time2\n",
        "# Определите качество классификации на тестовом подмножестве (Balanced-Accuracy, R, P, F1)\n",
        "balanced_accuracy_model = score['test_balanced_accuracy'].mean()\n",
        "recall_score_model = score['test_recall_macro'].mean()\n",
        "precision_score_model = score['test_precision_macro'].mean()\n",
        "f1_score_model = score['test_f1_macro'].mean()\n",
        "print(f\"Test balanced accuracy = {balanced_accuracy_model}\")\n",
        "print(f\"Test recall score = {recall_score_model}\")\n",
        "print(f\"Test precision score = {precision_score_model}\")\n",
        "print(f\"Test f1 score = {f1_score_model}\")\n",
        "df_2.loc['Логистическая регрессия','Balanced-Accuracy'] = balanced_accuracy_model\n",
        "df_2.loc['Логистическая регрессия','R'] = recall_score_model\n",
        "df_2.loc['Логистическая регрессия','P'] = precision_score_model\n",
        "df_2.loc['Логистическая регрессия','F1'] = f1_score_model"
      ]
    },
    {
      "cell_type": "markdown",
      "metadata": {
        "id": "D6VUUvvcNTo0"
      },
      "source": [
        "> Наивный Байес: полиномиальная модель ($\\alpha=1$)"
      ]
    },
    {
      "cell_type": "code",
      "execution_count": 20,
      "metadata": {
        "id": "-O_TmWOANbDm",
        "colab": {
          "base_uri": "https://localhost:8080/"
        },
        "outputId": "706d0c88-fca1-4f26-de9a-818d7ace0893"
      },
      "outputs": [
        {
          "output_type": "stream",
          "name": "stdout",
          "text": [
            "Time fit = 0.009451508522033691\n",
            "Time predict = 0.0054282546043396\n",
            "Test balanced accuracy = 0.7751906728209348\n",
            "Test recall score = 0.7751906728209348\n",
            "Test precision score = 0.9115378093776904\n",
            "Test f1 score = 0.8070908552324512\n"
          ]
        }
      ],
      "source": [
        "#Наивный Байес: полиномиальная модель\n",
        "# Создание и обучение модели\n",
        "m_multNB = MultinomialNB(alpha=1)\n",
        "score = cross_validate(m_multNB, train_vectors2, y2_train, cv=kf, scoring=['f1_macro','recall_macro','precision_macro','balanced_accuracy'])\n",
        "time1 = score['fit_time'].mean()\n",
        "print(f\"Time fit = {time1}\")\n",
        "time2 = score['score_time'].mean()\n",
        "print(f\"Time predict = {time2}\")\n",
        "# Определите качество классификации на тестовом подмножестве (Balanced-Accuracy, R, P, F1)\n",
        "balanced_accuracy_model = score['test_balanced_accuracy'].mean()\n",
        "recall_score_model = score['test_recall_macro'].mean()\n",
        "precision_score_model = score['test_precision_macro'].mean()\n",
        "f1_score_model = score['test_f1_macro'].mean()\n",
        "print(f\"Test balanced accuracy = {balanced_accuracy_model}\")\n",
        "print(f\"Test recall score = {recall_score_model}\")\n",
        "print(f\"Test precision score = {precision_score_model}\")\n",
        "print(f\"Test f1 score = {f1_score_model}\")\n",
        "df_2.loc['Наивный Байес: полиномиальная модель','Time fit'] = time1\n",
        "df_2.loc['Наивный Байес: полиномиальная модель','Time predict'] = time2\n",
        "df_2.loc['Наивный Байес: полиномиальная модель','Balanced-Accuracy'] = balanced_accuracy_model\n",
        "df_2.loc['Наивный Байес: полиномиальная модель','R'] = recall_score_model\n",
        "df_2.loc['Наивный Байес: полиномиальная модель','P'] = precision_score_model\n",
        "df_2.loc['Наивный Байес: полиномиальная модель','F1'] = f1_score_model"
      ]
    },
    {
      "cell_type": "markdown",
      "metadata": {
        "id": "CDp5pgkxMpEV"
      },
      "source": [
        "> Наивный Байес: модель Бернулли ($\\alpha=1$)\n"
      ]
    },
    {
      "cell_type": "code",
      "execution_count": 21,
      "metadata": {
        "id": "13XKUAPlMpeU",
        "colab": {
          "base_uri": "https://localhost:8080/"
        },
        "outputId": "4adb3ca5-2dff-43d7-86d1-726e0aa2a089"
      },
      "outputs": [
        {
          "output_type": "stream",
          "name": "stdout",
          "text": [
            "Time fit = 0.012708783149719238\n",
            "Time predict = 0.013851523399353027\n",
            "Test balanced accuracy = 0.663605861582057\n",
            "Test recall score = 0.663605861582057\n",
            "Test precision score = 0.8145506787893184\n",
            "Test f1 score = 0.6779037475926984\n"
          ]
        }
      ],
      "source": [
        "#Наивный Байес: модель Бернулли\n",
        "# Преобразование текстовых документов в бинарные векторы. count_vectorizer используется из прошлого задания, так как он не зависит от способa разделения исходных данных\n",
        "train_binary_vectors2 = count_vectorizer.fit_transform(X2_train.astype('U'))\n",
        "test_binary_vectors2 = count_vectorizer.transform(X2_test.astype('U'))\n",
        "# Создание и обучение модели\n",
        "m_bernNB = BernoulliNB(alpha=1, binarize=None)\n",
        "score = cross_validate(m_bernNB, train_binary_vectors2, y2_train, cv=kf, scoring=['f1_macro','recall_macro','precision_macro','balanced_accuracy'])\n",
        "time1 = score['fit_time'].mean()\n",
        "print(f\"Time fit = {time1}\")\n",
        "time2 = score['score_time'].mean()\n",
        "print(f\"Time predict = {time2}\")\n",
        "# Определите качество классификации на тестовом подмножестве (Balanced-Accuracy, R, P, F1)\n",
        "balanced_accuracy_model = score['test_balanced_accuracy'].mean()\n",
        "recall_score_model = score['test_recall_macro'].mean()\n",
        "precision_score_model = score['test_precision_macro'].mean()\n",
        "f1_score_model = score['test_f1_macro'].mean()\n",
        "print(f\"Test balanced accuracy = {balanced_accuracy_model}\")\n",
        "print(f\"Test recall score = {recall_score_model}\")\n",
        "print(f\"Test precision score = {precision_score_model}\")\n",
        "print(f\"Test f1 score = {f1_score_model}\")\n",
        "df_2.loc['Наивный Байес: модель Бернулли','Time fit'] = time1\n",
        "df_2.loc['Наивный Байес: модель Бернулли','Time predict'] = time2\n",
        "df_2.loc['Наивный Байес: модель Бернулли','Balanced-Accuracy'] = balanced_accuracy_model\n",
        "df_2.loc['Наивный Байес: модель Бернулли','R'] = recall_score_model\n",
        "df_2.loc['Наивный Байес: модель Бернулли','P'] = precision_score_model\n",
        "df_2.loc['Наивный Байес: модель Бернулли','F1'] = f1_score_model"
      ]
    },
    {
      "cell_type": "markdown",
      "metadata": {
        "id": "mNmTqxajOG71"
      },
      "source": [
        "⚠️ Замечание - пункты 5-6 задания выполнялись в процессе взаимодействия с моделями"
      ]
    },
    {
      "cell_type": "markdown",
      "metadata": {
        "id": "8a_uBNRnODPN"
      },
      "source": [
        "⚠️ Замечание - пункт 7 задания. Датафрейм создан и заполнен выше"
      ]
    },
    {
      "cell_type": "code",
      "execution_count": 22,
      "metadata": {
        "id": "zVheR7zbOLEO",
        "colab": {
          "base_uri": "https://localhost:8080/",
          "height": 193
        },
        "outputId": "8597f50e-03bb-4399-e64e-f1886643b500"
      },
      "outputs": [
        {
          "output_type": "stream",
          "name": "stdout",
          "text": [
            "Представление результатов в виде таблицы:\n"
          ]
        },
        {
          "output_type": "execute_result",
          "data": {
            "text/plain": [
              "                                     Balanced-Accuracy         R         P  \\\n",
              "K-ближайших соседей                           0.557118  0.557118  0.654087   \n",
              "Логистическая регрессия                       0.921523  0.921523  0.955518   \n",
              "Наивный Байес: модель Бернулли                0.663606  0.663606  0.814551   \n",
              "Наивный Байес: полиномиальная модель          0.775191  0.775191  0.911538   \n",
              "\n",
              "                                            F1  Time fit Time predict  \n",
              "K-ближайших соседей                   0.365361   0.00419      0.15737  \n",
              "Логистическая регрессия               0.935962  0.551454      0.00868  \n",
              "Наивный Байес: модель Бернулли        0.677904  0.012709     0.013852  \n",
              "Наивный Байес: полиномиальная модель  0.807091  0.009452     0.005428  "
            ],
            "text/html": [
              "\n",
              "  <div id=\"df-ebcb9af1-83b4-474e-ac02-a5bd468208c3\">\n",
              "    <div class=\"colab-df-container\">\n",
              "      <div>\n",
              "<style scoped>\n",
              "    .dataframe tbody tr th:only-of-type {\n",
              "        vertical-align: middle;\n",
              "    }\n",
              "\n",
              "    .dataframe tbody tr th {\n",
              "        vertical-align: top;\n",
              "    }\n",
              "\n",
              "    .dataframe thead th {\n",
              "        text-align: right;\n",
              "    }\n",
              "</style>\n",
              "<table border=\"1\" class=\"dataframe\">\n",
              "  <thead>\n",
              "    <tr style=\"text-align: right;\">\n",
              "      <th></th>\n",
              "      <th>Balanced-Accuracy</th>\n",
              "      <th>R</th>\n",
              "      <th>P</th>\n",
              "      <th>F1</th>\n",
              "      <th>Time fit</th>\n",
              "      <th>Time predict</th>\n",
              "    </tr>\n",
              "  </thead>\n",
              "  <tbody>\n",
              "    <tr>\n",
              "      <th>K-ближайших соседей</th>\n",
              "      <td>0.557118</td>\n",
              "      <td>0.557118</td>\n",
              "      <td>0.654087</td>\n",
              "      <td>0.365361</td>\n",
              "      <td>0.00419</td>\n",
              "      <td>0.15737</td>\n",
              "    </tr>\n",
              "    <tr>\n",
              "      <th>Логистическая регрессия</th>\n",
              "      <td>0.921523</td>\n",
              "      <td>0.921523</td>\n",
              "      <td>0.955518</td>\n",
              "      <td>0.935962</td>\n",
              "      <td>0.551454</td>\n",
              "      <td>0.00868</td>\n",
              "    </tr>\n",
              "    <tr>\n",
              "      <th>Наивный Байес: модель Бернулли</th>\n",
              "      <td>0.663606</td>\n",
              "      <td>0.663606</td>\n",
              "      <td>0.814551</td>\n",
              "      <td>0.677904</td>\n",
              "      <td>0.012709</td>\n",
              "      <td>0.013852</td>\n",
              "    </tr>\n",
              "    <tr>\n",
              "      <th>Наивный Байес: полиномиальная модель</th>\n",
              "      <td>0.775191</td>\n",
              "      <td>0.775191</td>\n",
              "      <td>0.911538</td>\n",
              "      <td>0.807091</td>\n",
              "      <td>0.009452</td>\n",
              "      <td>0.005428</td>\n",
              "    </tr>\n",
              "  </tbody>\n",
              "</table>\n",
              "</div>\n",
              "      <button class=\"colab-df-convert\" onclick=\"convertToInteractive('df-ebcb9af1-83b4-474e-ac02-a5bd468208c3')\"\n",
              "              title=\"Convert this dataframe to an interactive table.\"\n",
              "              style=\"display:none;\">\n",
              "        \n",
              "  <svg xmlns=\"http://www.w3.org/2000/svg\" height=\"24px\"viewBox=\"0 0 24 24\"\n",
              "       width=\"24px\">\n",
              "    <path d=\"M0 0h24v24H0V0z\" fill=\"none\"/>\n",
              "    <path d=\"M18.56 5.44l.94 2.06.94-2.06 2.06-.94-2.06-.94-.94-2.06-.94 2.06-2.06.94zm-11 1L8.5 8.5l.94-2.06 2.06-.94-2.06-.94L8.5 2.5l-.94 2.06-2.06.94zm10 10l.94 2.06.94-2.06 2.06-.94-2.06-.94-.94-2.06-.94 2.06-2.06.94z\"/><path d=\"M17.41 7.96l-1.37-1.37c-.4-.4-.92-.59-1.43-.59-.52 0-1.04.2-1.43.59L10.3 9.45l-7.72 7.72c-.78.78-.78 2.05 0 2.83L4 21.41c.39.39.9.59 1.41.59.51 0 1.02-.2 1.41-.59l7.78-7.78 2.81-2.81c.8-.78.8-2.07 0-2.86zM5.41 20L4 18.59l7.72-7.72 1.47 1.35L5.41 20z\"/>\n",
              "  </svg>\n",
              "      </button>\n",
              "      \n",
              "  <style>\n",
              "    .colab-df-container {\n",
              "      display:flex;\n",
              "      flex-wrap:wrap;\n",
              "      gap: 12px;\n",
              "    }\n",
              "\n",
              "    .colab-df-convert {\n",
              "      background-color: #E8F0FE;\n",
              "      border: none;\n",
              "      border-radius: 50%;\n",
              "      cursor: pointer;\n",
              "      display: none;\n",
              "      fill: #1967D2;\n",
              "      height: 32px;\n",
              "      padding: 0 0 0 0;\n",
              "      width: 32px;\n",
              "    }\n",
              "\n",
              "    .colab-df-convert:hover {\n",
              "      background-color: #E2EBFA;\n",
              "      box-shadow: 0px 1px 2px rgba(60, 64, 67, 0.3), 0px 1px 3px 1px rgba(60, 64, 67, 0.15);\n",
              "      fill: #174EA6;\n",
              "    }\n",
              "\n",
              "    [theme=dark] .colab-df-convert {\n",
              "      background-color: #3B4455;\n",
              "      fill: #D2E3FC;\n",
              "    }\n",
              "\n",
              "    [theme=dark] .colab-df-convert:hover {\n",
              "      background-color: #434B5C;\n",
              "      box-shadow: 0px 1px 3px 1px rgba(0, 0, 0, 0.15);\n",
              "      filter: drop-shadow(0px 1px 2px rgba(0, 0, 0, 0.3));\n",
              "      fill: #FFFFFF;\n",
              "    }\n",
              "  </style>\n",
              "\n",
              "      <script>\n",
              "        const buttonEl =\n",
              "          document.querySelector('#df-ebcb9af1-83b4-474e-ac02-a5bd468208c3 button.colab-df-convert');\n",
              "        buttonEl.style.display =\n",
              "          google.colab.kernel.accessAllowed ? 'block' : 'none';\n",
              "\n",
              "        async function convertToInteractive(key) {\n",
              "          const element = document.querySelector('#df-ebcb9af1-83b4-474e-ac02-a5bd468208c3');\n",
              "          const dataTable =\n",
              "            await google.colab.kernel.invokeFunction('convertToInteractive',\n",
              "                                                     [key], {});\n",
              "          if (!dataTable) return;\n",
              "\n",
              "          const docLinkHtml = 'Like what you see? Visit the ' +\n",
              "            '<a target=\"_blank\" href=https://colab.research.google.com/notebooks/data_table.ipynb>data table notebook</a>'\n",
              "            + ' to learn more about interactive tables.';\n",
              "          element.innerHTML = '';\n",
              "          dataTable['output_type'] = 'display_data';\n",
              "          await google.colab.output.renderOutput(dataTable, element);\n",
              "          const docLink = document.createElement('div');\n",
              "          docLink.innerHTML = docLinkHtml;\n",
              "          element.appendChild(docLink);\n",
              "        }\n",
              "      </script>\n",
              "    </div>\n",
              "  </div>\n",
              "  "
            ]
          },
          "metadata": {},
          "execution_count": 22
        }
      ],
      "source": [
        "print(\"Представление результатов в виде таблицы:\")\n",
        "df_2"
      ]
    },
    {
      "cell_type": "markdown",
      "metadata": {
        "id": "5tLy9z62D65q"
      },
      "source": [
        "# Задание 3. Выбор модели (4 баллов)"
      ]
    },
    {
      "cell_type": "markdown",
      "metadata": {
        "id": "3IHZTMHh6-s5"
      },
      "source": [
        "<p style=\"padding-left:15px;\">1. Используя данные из задачи 1, разбейте обучающее подмножество (train) с использованием k-folds (k=4) <br>\n",
        "2. Обучите и протестируйте на разбитом обучающем подмножестве классификаторы со следующими параметрами: </p>"
      ]
    },
    {
      "cell_type": "markdown",
      "metadata": {
        "id": "JxY4AaY26-s5"
      },
      "source": [
        "<p>K-ближайших соседей</p>"
      ]
    },
    {
      "cell_type": "code",
      "execution_count": 23,
      "metadata": {
        "collapsed": true,
        "id": "Jr4tiOJj6-s5"
      },
      "outputs": [],
      "source": [
        "ns = np.arange(1, 150, 20)  # количество соседей"
      ]
    },
    {
      "cell_type": "markdown",
      "metadata": {
        "id": "sq1FUw8O6-s5"
      },
      "source": [
        "<p>Логистическая регрессия</p>"
      ]
    },
    {
      "cell_type": "code",
      "execution_count": 24,
      "metadata": {
        "collapsed": true,
        "id": "ZNrsvZ_Y6-s6"
      },
      "outputs": [],
      "source": [
        "cs = np.logspace(-2, 10, 8, base=10)  # параметр регуляризации"
      ]
    },
    {
      "cell_type": "markdown",
      "metadata": {
        "id": "C75vit_M6-s6"
      },
      "source": [
        "Наивный Байес: модель Бернулли"
      ]
    },
    {
      "cell_type": "code",
      "execution_count": 25,
      "metadata": {
        "id": "RiZ1YjLv6-s6"
      },
      "outputs": [],
      "source": [
        "alphas = np.logspace(-4, 1, 8, base=10)  # сглаживающий параметр"
      ]
    },
    {
      "cell_type": "markdown",
      "metadata": {
        "id": "AXGWO_VM6-s6"
      },
      "source": [
        "<p>Наивный Байес: полиномиальная модель </p>"
      ]
    },
    {
      "cell_type": "code",
      "execution_count": 26,
      "metadata": {
        "collapsed": true,
        "id": "L1wR2MAg6-s6"
      },
      "outputs": [],
      "source": [
        "alphas = np.logspace(-4, 1, 8, base=10)  # сглаживающий параметр"
      ]
    },
    {
      "cell_type": "markdown",
      "metadata": {
        "id": "eweyp8TB6-s6"
      },
      "source": [
        "<p style=\"padding-left:15px;\">3. Постройте графики (параметры модели)-(Balanced-Accuracy) при обучении и валидации <br>\n",
        "4. Выберите лучшую модель для каждого метода, используя значение качества классификации (использовать Balanced-Accuracy)<br>\n",
        "5. Выбранные модели обучите на обучающем подмножестве (train) и протестируйте на тестовом (test). Определите время обучения и предсказания (см. задачу 1 п. 6)<br>\n",
        "6. Повторите шаги 2-4 для n-gram=2 и n-gram=(1,2)<br>\n",
        "7. Выведите в виде таблицы итоговые данные по всем методам для лучших моделей (метод, n-gram, значение параметра модели, время обучения, время предсказания, метрики (Balanced-Accuracy, R, P, F1))<br>\n",
        "8. Сделайте выводы по полученным результатам (преимущества и недостатки методов)\n",
        "</p>"
      ]
    },
    {
      "cell_type": "markdown",
      "metadata": {
        "id": "9Vla9WUTTkuU"
      },
      "source": [
        "\n",
        "\n",
        "---\n",
        "\n"
      ]
    },
    {
      "cell_type": "code",
      "execution_count": 27,
      "metadata": {
        "collapsed": true,
        "id": "UK9A_9UB6-s7"
      },
      "outputs": [],
      "source": [
        "random_state = 123  # для всех объектов/методов/моделей"
      ]
    },
    {
      "cell_type": "markdown",
      "metadata": {
        "id": "I-hpvjhZTPTS"
      },
      "source": [
        "⚠️ Замечание - т.к. в задании написано \"разбейте обучающее подмножество (train) с использованием k-folds (k=4)\", то разбивается подмножество (train) из задания №1 на подмножества train и test"
      ]
    },
    {
      "cell_type": "code",
      "execution_count": 28,
      "metadata": {
        "id": "UOU1-FUew1eX"
      },
      "outputs": [],
      "source": [
        "#В первую очередь создам датафрейм и его представление в виде таблицы\n",
        "index = range(0,12)\n",
        "columns = [\"method\",\"n-gram\", \"Value_best\",  \"Time fit\", \"Time predict\", \"Balanced-Accuracy\", \"R\", \"P\", \"F1\"]\n",
        "df_3 = pd.DataFrame(index=index, columns=columns)"
      ]
    },
    {
      "cell_type": "code",
      "execution_count": 29,
      "metadata": {
        "collapsed": true,
        "id": "zlv0RD1f6-s7"
      },
      "outputs": [],
      "source": [
        "# Изменение метода разделения исходных данных, под \"(k=4)\" подразумевается n_splits=4\n",
        "kf = StratifiedKFold(n_splits=4, random_state=random_state,shuffle = True)\n",
        "for train_index, test_index in kf.split(X_train,y_train):\n",
        "  X3_train, X3_test = X_train[train_index], X_train[test_index]\n",
        "  y3_train, y3_test = y_train[train_index], y_train[test_index]\n",
        "#Передаем набор документов, на основе которых будут строиться векторы\n",
        "vectorizer = vectorizer.fit(X3_train)\n",
        "# Преобразование текстовых документов в векторы\n",
        "train_vectors3 = vectorizer.transform(X3_train)\n",
        "test_vectors3 = vectorizer.transform(X3_test.astype('U'))"
      ]
    },
    {
      "cell_type": "markdown",
      "metadata": {
        "id": "PE1Q-XTSSv9G"
      },
      "source": [
        "# Модели классификаций"
      ]
    },
    {
      "cell_type": "markdown",
      "metadata": {
        "id": "au-x1XEcSyR4"
      },
      "source": [
        "> K-ближайших соседей"
      ]
    },
    {
      "cell_type": "code",
      "execution_count": 30,
      "metadata": {
        "colab": {
          "base_uri": "https://localhost:8080/"
        },
        "id": "p1fEWnHXeVBX",
        "outputId": "dcb69d80-00b2-4637-fab1-389b10d5fa44"
      },
      "outputs": [
        {
          "output_type": "stream",
          "name": "stdout",
          "text": [
            "K-ближайших соседей\n",
            "balanced_accuracy на тестовом подмножестве - 0.6451067454477546, при n_neighbors - 1\n",
            "balanced_accuracy на тестовом подмножестве - 0.698782205235572, при n_neighbors - 21\n",
            "balanced_accuracy на тестовом подмножестве - 0.9145424347839479, при n_neighbors - 41\n",
            "balanced_accuracy на тестовом подмножестве - 0.9137800786998966, при n_neighbors - 61\n",
            "balanced_accuracy на тестовом подмножестве - 0.9072752933026828, при n_neighbors - 81\n",
            "balanced_accuracy на тестовом подмножестве - 0.9020478152461269, при n_neighbors - 101\n",
            "balanced_accuracy на тестовом подмножестве - 0.9013097219112336, при n_neighbors - 121\n",
            "balanced_accuracy на тестовом подмножестве - 0.8882885030649423, при n_neighbors - 141\n",
            "Best n_neighbors : 41\n"
          ]
        }
      ],
      "source": [
        "from sklearn.pipeline import Pipeline\n",
        "\n",
        "def knn(train_vectors3, y3_train):\n",
        "  global scores_test_knn,best_n,scores_train_knn\n",
        "  best_acc = 0\n",
        "  print(\"K-ближайших соседей\")\n",
        "  pipeline = Pipeline([\n",
        "      (\"knn_model\", KNeighborsClassifier(n_neighbors=None, p=2))\n",
        "  ])\n",
        "  for n in ns:\n",
        "      pipeline.named_steps[\"knn_model\"]. n_neighbors = n\n",
        "      score = cross_validate(pipeline, train_vectors3, y3_train, cv=kf, scoring=['balanced_accuracy'])\n",
        "      balanced_accuracy_model = score['test_balanced_accuracy'].mean()\n",
        "      scores_test_knn.append(balanced_accuracy_model)\n",
        "      scores_train_knn.append(cross_val_score(pipeline, train_vectors3, y3_train, cv=kf).mean())\n",
        "      if best_acc < balanced_accuracy_model:\n",
        "          best_acc = balanced_accuracy_model\n",
        "          best_n = n\n",
        "      print('balanced_accuracy на тестовом подмножестве - {}, при n_neighbors - {}'.format(balanced_accuracy_model,n))\n",
        "  print(\"Best n_neighbors :\", best_n)\n",
        "scores_test_knn=[]\n",
        "scores_train_knn=[] \n",
        "best_n = 0\n",
        "knn(train_vectors3, y3_train)"
      ]
    },
    {
      "cell_type": "markdown",
      "metadata": {
        "id": "6U_Wx5RKiihg"
      },
      "source": [
        "\n",
        "> Логистическая регрессия\n",
        "\n"
      ]
    },
    {
      "cell_type": "code",
      "execution_count": 31,
      "metadata": {
        "colab": {
          "base_uri": "https://localhost:8080/"
        },
        "id": "eRooC4-7SyBn",
        "outputId": "f2628cce-7737-4bc2-aad7-194a8ad94101"
      },
      "outputs": [
        {
          "output_type": "stream",
          "name": "stdout",
          "text": [
            "Логистическая регрессия\n",
            "balanced_accuracy на тестовом подмножестве - 0.5, при C - 0.01\n",
            "balanced_accuracy на тестовом подмножестве - 0.8698112289643423, при C - 0.517947467923121\n",
            "balanced_accuracy на тестовом подмножестве - 0.968480069116572, при C - 26.826957952797247\n",
            "balanced_accuracy на тестовом подмножестве - 0.9689422352482497, при C - 1389.4954943731361\n",
            "balanced_accuracy на тестовом подмножестве - 0.9689435062709654, при C - 71968.56730011514\n",
            "balanced_accuracy на тестовом подмножестве - 0.9661312532385345, при C - 3727593.720314938\n",
            "balanced_accuracy на тестовом подмножестве - 0.9583549739171813, при C - 193069772.88832456\n",
            "balanced_accuracy на тестовом подмножестве - 0.9561507880239709, при C - 10000000000.0\n",
            "Best C : 71968.56730011514\n"
          ]
        }
      ],
      "source": [
        "def logreg(train_vectors3, y3_train):\n",
        "  global scores_test_logreg, best_c,scores_train_logreg\n",
        "  best_acc = 0\n",
        "  print(\"Логистическая регрессия\")\n",
        "  pipeline = Pipeline([\n",
        "      (\"logreg_model\", LogisticRegression(penalty=\"l2\", fit_intercept=True, max_iter=100, C=None, solver=\"lbfgs\", random_state=12345))\n",
        "  ])\n",
        "  for c in cs:\n",
        "      pipeline.named_steps[\"logreg_model\"]. C = c\n",
        "      score = cross_validate(pipeline, train_vectors3, y3_train, cv=kf, scoring=['balanced_accuracy'])\n",
        "      scores_train_logreg.append(cross_val_score(pipeline, train_vectors3, y3_train, cv=kf).mean())\n",
        "      balanced_accuracy_model = score['test_balanced_accuracy'].mean()\n",
        "      scores_test_logreg.append(balanced_accuracy_model)\n",
        "      if best_acc < balanced_accuracy_model:\n",
        "          best_acc = balanced_accuracy_model\n",
        "          best_c = c\n",
        "      print('balanced_accuracy на тестовом подмножестве - {}, при C - {}'.format(balanced_accuracy_model,c))\n",
        "  print(\"Best C :\", best_c)\n",
        "scores_test_logreg=[]  \n",
        "scores_train_logreg=[]  \n",
        "best_c  = 0\n",
        "logreg(train_vectors3, y3_train)"
      ]
    },
    {
      "cell_type": "markdown",
      "metadata": {
        "id": "baX_WZVFlWIQ"
      },
      "source": [
        "\n",
        "> Наивный Байес: полиномиальная модель\n",
        "\n"
      ]
    },
    {
      "cell_type": "code",
      "execution_count": 32,
      "metadata": {
        "colab": {
          "base_uri": "https://localhost:8080/"
        },
        "id": "2ql_kD7vlWT5",
        "outputId": "071eaa11-0139-43a7-8f72-384f9b50b2be"
      },
      "outputs": [
        {
          "output_type": "stream",
          "name": "stdout",
          "text": [
            "Наивный Байес: полиномиальная модель\n",
            "balanced_accuracy на тестовом подмножестве - 0.9507525519030057, при alpha - 0.0001\n",
            "balanced_accuracy на тестовом подмножестве - 0.9526732997306108, при alpha - 0.0005179474679231213\n",
            "balanced_accuracy на тестовом подмножестве - 0.9540728110145211, при alpha - 0.002682695795279727\n",
            "balanced_accuracy на тестовом подмножестве - 0.9573972030717453, при alpha - 0.013894954943731374\n",
            "balanced_accuracy на тестовом подмножестве - 0.9500971562179293, при alpha - 0.07196856730011521\n",
            "balanced_accuracy на тестовом подмножестве - 0.8985944092365634, при alpha - 0.3727593720314942\n",
            "balanced_accuracy на тестовом подмножестве - 0.6945651414497613, при alpha - 1.9306977288832496\n",
            "balanced_accuracy на тестовом подмножестве - 0.5255801562869997, при alpha - 10.0\n",
            "Best alpha : 0.013894954943731374\n"
          ]
        }
      ],
      "source": [
        "def multNB(train_vectors3, y3_train,test_vectors3,y3_test):\n",
        "  global scores_test_multNB, best_alpha_multNB,scores_train_multNB\n",
        "  best_acc = 0\n",
        "  print(\"Наивный Байес: полиномиальная модель\")\n",
        "  pipeline = Pipeline([\n",
        "      (\"m_multNB\", MultinomialNB(alpha=None))\n",
        "  ])\n",
        "  for alpha in alphas:\n",
        "      pipeline.named_steps[\"m_multNB\"].alpha = alpha\n",
        "      score = cross_validate(pipeline, train_vectors3, y3_train, cv=kf, scoring=['balanced_accuracy'])\n",
        "      balanced_accuracy_model = score['test_balanced_accuracy'].mean()     \n",
        "      scores_test_multNB.append(balanced_accuracy_model)\n",
        "      scores_train_multNB.append(cross_val_score(pipeline, train_vectors3, y3_train, cv=kf).mean())\n",
        "      if best_acc < balanced_accuracy_model:\n",
        "          best_acc = balanced_accuracy_model\n",
        "          best_alpha_multNB = alpha\n",
        "      print('balanced_accuracy на тестовом подмножестве - {}, при alpha - {}'.format(balanced_accuracy_model,alpha))\n",
        "  print(\"Best alpha :\", best_alpha_multNB)\n",
        "scores_test_multNB=[] \n",
        "scores_train_multNB=[] \n",
        "best_alpha_multNB = 0\n",
        "multNB(train_vectors3, y3_train,test_vectors3,y3_test)"
      ]
    },
    {
      "cell_type": "markdown",
      "metadata": {
        "id": "QwBNr8FXdupZ"
      },
      "source": [
        "> Наивный Байес: модель Бернулли"
      ]
    },
    {
      "cell_type": "code",
      "execution_count": 33,
      "metadata": {
        "colab": {
          "base_uri": "https://localhost:8080/"
        },
        "id": "VpYrF76kVpH5",
        "outputId": "01779af1-8376-4bcf-f68b-6e858676eb7b"
      },
      "outputs": [
        {
          "output_type": "stream",
          "name": "stdout",
          "text": [
            "Наивный Байес: модель Бернулли\n",
            "balanced_accuracy на тестовом подмножестве - 0.8704732567213451, при alpha - 0.0001\n",
            "balanced_accuracy на тестовом подмножестве - 0.8699125181279803, при alpha - 0.0005179474679231213\n",
            "balanced_accuracy на тестовом подмножестве - 0.8675225112419327, при alpha - 0.002682695795279727\n",
            "balanced_accuracy на тестовом подмножестве - 0.86212978139122, при alpha - 0.013894954943731374\n",
            "balanced_accuracy на тестовом подмножестве - 0.8458170147620763, при alpha - 0.07196856730011521\n",
            "balanced_accuracy на тестовом подмножестве - 0.7860369797771743, при alpha - 0.3727593720314942\n",
            "balanced_accuracy на тестовом подмножестве - 0.5978748013514594, при alpha - 1.9306977288832496\n",
            "balanced_accuracy на тестовом подмножестве - 0.5208432400569882, при alpha - 10.0\n",
            "Best alpha : 0.0001\n"
          ]
        }
      ],
      "source": [
        "def bernNB(y3_train,y3_test):\n",
        "  global train_binary_vectors33, test_binary_vectors33, scores_test_bernNB, best_alpha_bernNB,scores_train_bernNB\n",
        "  best_acc = 0\n",
        "  print(\"Наивный Байес: модель Бернулли\")\n",
        "  pipeline = Pipeline([\n",
        "      (\"m_bernNB\", BernoulliNB(alpha=None, binarize=None))\n",
        "  ])\n",
        "  for alpha in alphas:\n",
        "      pipeline.named_steps[\"m_bernNB\"]. alpha = alpha\n",
        "      score = cross_validate(pipeline, train_binary_vectors33, y3_train, cv=kf, scoring=['balanced_accuracy'])\n",
        "      scores_train_bernNB.append(cross_val_score(pipeline, train_binary_vectors33, y3_train, cv=kf).mean())\n",
        "      balanced_accuracy_model = score['test_balanced_accuracy'].mean() \n",
        "      scores_test_bernNB.append(balanced_accuracy_model)\n",
        "      if best_acc < balanced_accuracy_model:\n",
        "          best_acc = balanced_accuracy_model\n",
        "          best_alpha_bernNB = alpha\n",
        "      print('balanced_accuracy на тестовом подмножестве - {}, при alpha - {}'.format(balanced_accuracy_model,alpha))\n",
        "  print(\"Best alpha :\", best_alpha_bernNB)\n",
        "\n",
        "\n",
        "train_binary_vectors33 = count_vectorizer.fit_transform(X3_train.astype('U'))\n",
        "test_binary_vectors33 = count_vectorizer.transform(X3_test.astype('U'))\n",
        "scores_test_bernNB=[] \n",
        "scores_train_bernNB=[] \n",
        "best_alpha_bernNB = 0\n",
        "bernNB(y3_train,y3_test)"
      ]
    },
    {
      "cell_type": "markdown",
      "metadata": {
        "id": "aGWZ0cxunDND"
      },
      "source": [
        "# Графики"
      ]
    },
    {
      "cell_type": "code",
      "execution_count": 34,
      "metadata": {
        "colab": {
          "base_uri": "https://localhost:8080/",
          "height": 897
        },
        "id": "-uhS9HGsnZvq",
        "outputId": "32683c56-df2e-4100-e2f8-45a6758302d6"
      },
      "outputs": [
        {
          "output_type": "display_data",
          "data": {
            "text/plain": [
              "<Figure size 1800x1080 with 4 Axes>"
            ],
            "image/png": "[encoded data removed]"
          },
          "metadata": {
            "needs_background": "light"
          }
        }
      ],
      "source": [
        "#Постройте графики (параметры модели)-(Balanced-Accuracy) при обучении и валидации\n",
        "plt.figure(1, figsize=[25, 15])\n",
        "plt.subplot(2,2,1)\n",
        "plt.plot(ns, scores_test_knn, color=\"red\", label = 'test', ls = 'dashed')\n",
        "plt.plot(ns, scores_train_knn, color=\"blue\", label = 'train')\n",
        "plt.xlabel(\"n_neighbors\")\n",
        "plt.ylabel(\"balanced_accuracy\")\n",
        "plt.title('График зависимости balanced_accuracy от n_neighbors для K-ближайших соседей')\n",
        "plt.grid(True)\n",
        "plt.legend(loc=4, shadow=True, fontsize='xx-large')\n",
        "\n",
        "plt.subplot(2,2,2)\n",
        "plt.plot(cs, scores_test_logreg, color=\"red\", label = 'test', ls = 'dashed')\n",
        "plt.plot(cs, scores_train_logreg, color=\"blue\", label = 'train')\n",
        "plt.xlabel(\"C\")\n",
        "plt.ylabel(\"balanced_accuracy\")\n",
        "plt.title('График зависимости balanced_accuracy от C для Логистическая регрессия')\n",
        "plt.grid(True)\n",
        "plt.xscale('log')\n",
        "plt.legend(loc=4, shadow=True, fontsize='xx-large')\n",
        "\n",
        "plt.subplot(2,2,3)\n",
        "plt.plot(alphas, scores_test_bernNB, color=\"red\", label = 'test', ls = 'dashed')\n",
        "plt.plot(alphas, scores_train_bernNB, color=\"blue\", label = 'train')\n",
        "plt.xlabel(\"alpha\")\n",
        "plt.ylabel(\"balanced_accuracy\")\n",
        "plt.title('График зависимости balanced_accuracy от alpha для Наивный Байес: модель Бернулли')\n",
        "plt.grid(True)\n",
        "plt.xscale('log')\n",
        "plt.legend(loc=1, shadow=True, fontsize='xx-large')\n",
        "\n",
        "plt.subplot(2,2,4)\n",
        "plt.plot(alphas, scores_test_multNB, color=\"red\", label = 'test', ls = 'dashed')\n",
        "plt.plot(alphas, scores_train_multNB, color=\"blue\", label = 'train')\n",
        "plt.xlabel(\"alpha\")\n",
        "plt.ylabel(\"balanced_accuracy\")\n",
        "plt.title('График зависимости balanced_accuracy от alpha для Наивный Байес: полиномиальная модель')\n",
        "plt.grid(True)\n",
        "plt.xscale('log')\n",
        "plt.legend(loc=1, shadow=True, fontsize='xx-large')\n",
        "\n",
        "plt.show()"
      ]
    },
    {
      "cell_type": "markdown",
      "metadata": {
        "id": "0D-DraDksBGD"
      },
      "source": [
        "# Лучшие модели\n",
        "\n"
      ]
    },
    {
      "cell_type": "code",
      "execution_count": 35,
      "metadata": {
        "colab": {
          "base_uri": "https://localhost:8080/"
        },
        "id": "FQmoCOPOroJE",
        "outputId": "96003acf-789a-4209-a142-8c539b35bea1"
      },
      "outputs": [
        {
          "output_type": "stream",
          "name": "stdout",
          "text": [
            "Best models:\n",
            "Best K-ближайших соседей n_neighbors -  41\n",
            "Best Логистическая регрессия C -  71968.56730011514\n",
            "Best Наивный Байес: полиномиальная модель alpha -  0.013894954943731374\n",
            "Best Наивный Байес: модель Бернулли alpha -  0.0001\n"
          ]
        }
      ],
      "source": [
        "#Выберите лучшую модель для каждого метода, используя значение качества классификации (использовать Balanced-Accuracy)\n",
        "print(\"Best models:\")\n",
        "print(\"Best K-ближайших соседей n_neighbors - \", best_n)\n",
        "print(\"Best Логистическая регрессия C - \", best_c)\n",
        "print(\"Best Наивный Байес: полиномиальная модель alpha - \", best_alpha_multNB)\n",
        "print(\"Best Наивный Байес: модель Бернулли alpha - \", best_alpha_bernNB)"
      ]
    },
    {
      "cell_type": "code",
      "execution_count": 36,
      "metadata": {
        "colab": {
          "base_uri": "https://localhost:8080/"
        },
        "id": "VKIi2U8ksv37",
        "outputId": "da86ea03-d573-4c1c-8e15-9cddfe6d2d20"
      },
      "outputs": [
        {
          "output_type": "stream",
          "name": "stdout",
          "text": [
            "K-ближайших соседей\n",
            "Time fit = 0.0037990212440490723\n",
            "Time predict = 0.1104593276977539\n",
            "Test balanced accuracy = 0.9145424347839479\n",
            "Test recall score = 0.9145424347839479\n",
            "Test precision score = 0.8846552255283217\n",
            "Test f1 score = 0.8957747251589554\n"
          ]
        }
      ],
      "source": [
        "#Выбранные модели обучите на обучающем подмножестве (train) и протестируйте на тестовом (test). Определите время обучения и предсказания (см. задачу 1 п. 6)\n",
        "\n",
        "def best_knn(df,index,train_vectors3, y3_train,test_vectors3,y3_test):\n",
        "  global best_n,gram\n",
        "  #K-ближайших соседей\n",
        "  print(\"K-ближайших соседей\")\n",
        "  # Создание и обучение модели\n",
        "  knn_model = KNeighborsClassifier(n_neighbors=best_n, p=2,)\n",
        "  score = cross_validate(knn_model, train_vectors3, y3_train, cv=kf, scoring=['f1_macro','recall_macro','precision_macro','balanced_accuracy'])\n",
        "  time1 = score['fit_time'].mean()\n",
        "  print(f\"Time fit = {time1}\")\n",
        "  time2 = score['score_time'].mean()\n",
        "  print(f\"Time predict = {time2}\")\n",
        "  # Определите качество классификации на тестовом подмножестве (Balanced-Accuracy, R, P, F1)\n",
        "  balanced_accuracy_model = score['test_balanced_accuracy'].mean()\n",
        "  recall_score_model = score['test_recall_macro'].mean()\n",
        "  precision_score_model = score['test_precision_macro'].mean()\n",
        "  f1_score_model = score['test_f1_macro'].mean()\n",
        "  print(f\"Test balanced accuracy = {balanced_accuracy_model}\")\n",
        "  print(f\"Test recall score = {recall_score_model}\")\n",
        "  print(f\"Test precision score = {precision_score_model}\")\n",
        "  print(f\"Test f1 score = {f1_score_model}\")\n",
        "  df.loc[index,'Time fit'] = time1\n",
        "  df.loc[index,'Time predict'] = time2\n",
        "  df.loc[index,'Value_best'] = best_n\n",
        "  df.loc[index,'n-gram'] = gram\n",
        "  df.loc[index,'method'] = 'K-ближайших соседей'\n",
        "  df.loc[index,'Balanced-Accuracy'] = balanced_accuracy_model\n",
        "  df.loc[index,'R'] = recall_score_model\n",
        "  df.loc[index,'P'] = precision_score_model\n",
        "  df.loc[index,'F1'] = f1_score_model\n",
        "gram = 1 \n",
        "best_knn(df_3,0,train_vectors3, y3_train,test_vectors3,y3_test)"
      ]
    },
    {
      "cell_type": "code",
      "execution_count": 37,
      "metadata": {
        "colab": {
          "base_uri": "https://localhost:8080/"
        },
        "id": "H419uE_uttsg",
        "outputId": "a122691e-7d19-4977-ca17-1442485b97e3"
      },
      "outputs": [
        {
          "output_type": "stream",
          "name": "stdout",
          "text": [
            "Логистическая регрессия\n",
            "Time fit = 1.3410691618919373\n",
            "Time predict = 0.008073985576629639\n",
            "Test balanced accuracy = 0.9689435062709654\n",
            "Test recall score = 0.9689435062709654\n",
            "Test precision score = 0.9662977231449705\n",
            "Test f1 score = 0.9675744000888178\n"
          ]
        }
      ],
      "source": [
        "def best_logreg(df,index,train_vectors3, y3_train,test_vectors3,y3_test):\n",
        "  global best_c,gram\n",
        "  #Логистическая регрессия\n",
        "  print(\"Логистическая регрессия\")\n",
        "  # Создание и обучение модели\n",
        "  logreg_model = LogisticRegression(penalty=\"l2\", fit_intercept=True, max_iter=100, C=best_c, solver=\"lbfgs\", random_state=12345)\n",
        "  score = cross_validate(logreg_model, train_vectors3, y3_train, cv=kf, scoring=['f1_macro','recall_macro','precision_macro','balanced_accuracy'])\n",
        "  time1 = score['fit_time'].mean()\n",
        "  print(f\"Time fit = {time1}\")\n",
        "  time2 = score['score_time'].mean()\n",
        "  print(f\"Time predict = {time2}\")\n",
        "  # Определите качество классификации на тестовом подмножестве (Balanced-Accuracy, R, P, F1)\n",
        "  balanced_accuracy_model = score['test_balanced_accuracy'].mean()\n",
        "  recall_score_model = score['test_recall_macro'].mean()\n",
        "  precision_score_model = score['test_precision_macro'].mean()\n",
        "  f1_score_model = score['test_f1_macro'].mean()\n",
        "  print(f\"Test balanced accuracy = {balanced_accuracy_model}\")\n",
        "  print(f\"Test recall score = {recall_score_model}\")\n",
        "  print(f\"Test precision score = {precision_score_model}\")\n",
        "  print(f\"Test f1 score = {f1_score_model}\")\n",
        "  df.loc[index,'Time fit'] = time1\n",
        "  df.loc[index,'Time predict'] = time2\n",
        "  df.loc[index,'Value_best'] = best_c\n",
        "  df.loc[index,'n-gram'] = gram\n",
        "  df.loc[index,'method'] = 'Логистическая регрессия'\n",
        "  df.loc[index,'Balanced-Accuracy'] = balanced_accuracy_model\n",
        "  df.loc[index,'R'] = recall_score_model\n",
        "  df.loc[index,'P'] = precision_score_model\n",
        "  df.loc[index,'F1'] = f1_score_model\n",
        "best_logreg(df_3,3,train_vectors3, y3_train,test_vectors3,y3_test)"
      ]
    },
    {
      "cell_type": "code",
      "execution_count": 38,
      "metadata": {
        "colab": {
          "base_uri": "https://localhost:8080/"
        },
        "id": "rMDUaZe7uCxk",
        "outputId": "f041fede-5be9-41b2-900a-d5f125823c70"
      },
      "outputs": [
        {
          "output_type": "stream",
          "name": "stdout",
          "text": [
            "Наивный Байес: полиномиальная модель\n",
            "Time fit = 0.010575592517852783\n",
            "Time predict = 0.007237374782562256\n",
            "Test balanced accuracy = 0.9573972030717453\n",
            "Test recall score = 0.9573972030717453\n",
            "Test precision score = 0.9486575892030349\n",
            "Test f1 score = 0.9527850209177651\n"
          ]
        }
      ],
      "source": [
        "def best_multNB(df,index,train_vectors3, y3_train,test_vectors3,y3_test):\n",
        "  global best_alpha_multNB,gram\n",
        "  #Наивный Байес: полиномиальная модель\n",
        "  print(\"Наивный Байес: полиномиальная модель\")\n",
        "  # Создание и обучение модели\n",
        "  m_multNB = MultinomialNB(alpha=best_alpha_multNB)\n",
        "  score = cross_validate(m_multNB, train_vectors3, y3_train, cv=kf, scoring=['f1_macro','recall_macro','precision_macro','balanced_accuracy'])\n",
        "  time1 = score['fit_time'].mean()\n",
        "  print(f\"Time fit = {time1}\")\n",
        "  time2 = score['score_time'].mean()\n",
        "  print(f\"Time predict = {time2}\")\n",
        "  # Определите качество классификации на тестовом подмножестве (Balanced-Accuracy, R, P, F1)\n",
        "  balanced_accuracy_model = score['test_balanced_accuracy'].mean()\n",
        "  recall_score_model = score['test_recall_macro'].mean()\n",
        "  precision_score_model = score['test_precision_macro'].mean()\n",
        "  f1_score_model = score['test_f1_macro'].mean()\n",
        "  print(f\"Test balanced accuracy = {balanced_accuracy_model}\")\n",
        "  print(f\"Test recall score = {recall_score_model}\")\n",
        "  print(f\"Test precision score = {precision_score_model}\")\n",
        "  print(f\"Test f1 score = {f1_score_model}\")\n",
        "  df.loc[index,'Time fit'] = time1\n",
        "  df.loc[index,'Time predict'] = time2\n",
        "  df.loc[index,'Value_best'] = best_alpha_multNB\n",
        "  df.loc[index,'n-gram'] = gram\n",
        "  df.loc[index,'method'] = 'Наивный Байес: полиномиальная модель'\n",
        "  df.loc[index,'Balanced-Accuracy'] = balanced_accuracy_model\n",
        "  df.loc[index,'R'] = recall_score_model\n",
        "  df.loc[index,'P'] = precision_score_model\n",
        "  df.loc[index,'F1'] = f1_score_model\n",
        "best_multNB(df_3,6,train_vectors3, y3_train,test_vectors3,y3_test)"
      ]
    },
    {
      "cell_type": "code",
      "execution_count": 39,
      "metadata": {
        "colab": {
          "base_uri": "https://localhost:8080/"
        },
        "id": "ka2z_GF6vyAm",
        "outputId": "de0ba652-d052-4b1d-fd85-d0ffa87ef7d6"
      },
      "outputs": [
        {
          "output_type": "stream",
          "name": "stdout",
          "text": [
            "Наивный Байес: модель Бернулли\n",
            "Time fit = 0.00814133882522583\n",
            "Time predict = 0.01026761531829834\n",
            "Test balanced accuracy = 0.8704732567213451\n",
            "Test recall score = 0.8704732567213451\n",
            "Test precision score = 0.914590172768948\n",
            "Test f1 score = 0.8879739293780001\n"
          ]
        }
      ],
      "source": [
        "def best_bernNB(df,index,y3_train,y3_test):\n",
        "  global best_alpha_bernNB,train_binary_vectors33, test_binary_vectors33,gram\n",
        "  #Наивный Байес: модель Бернулли\n",
        "  print(\"Наивный Байес: модель Бернулли\")\n",
        "  # Создание и обучение модели\n",
        "  m_bernNB = BernoulliNB(alpha=best_alpha_bernNB, binarize=None)\n",
        "  score = cross_validate(m_bernNB, train_binary_vectors33, y3_train, cv=kf, scoring=['f1_macro','recall_macro','precision_macro','balanced_accuracy'])\n",
        "  time1 = score['fit_time'].mean()\n",
        "  print(f\"Time fit = {time1}\")\n",
        "  time2 = score['score_time'].mean()\n",
        "  print(f\"Time predict = {time2}\")\n",
        "  # Определите качество классификации на тестовом подмножестве (Balanced-Accuracy, R, P, F1)\n",
        "  balanced_accuracy_model = score['test_balanced_accuracy'].mean()\n",
        "  recall_score_model = score['test_recall_macro'].mean()\n",
        "  precision_score_model = score['test_precision_macro'].mean()\n",
        "  f1_score_model = score['test_f1_macro'].mean()\n",
        "  print(f\"Test balanced accuracy = {balanced_accuracy_model}\")\n",
        "  print(f\"Test recall score = {recall_score_model}\")\n",
        "  print(f\"Test precision score = {precision_score_model}\")\n",
        "  print(f\"Test f1 score = {f1_score_model}\")\n",
        "  df.loc[index,'Time fit'] = time1\n",
        "  df.loc[index,'Time predict'] = time2\n",
        "  df.loc[index,'Value_best'] = best_alpha_bernNB\n",
        "  df.loc[index,'n-gram'] = gram\n",
        "  df.loc[index,'method'] = 'Наивный Байес: модель Бернулли'\n",
        "  df.loc[index,'Balanced-Accuracy'] = balanced_accuracy_model\n",
        "  df.loc[index,'R'] = recall_score_model\n",
        "  df.loc[index,'P'] = precision_score_model\n",
        "  df.loc[index,'F1'] = f1_score_model\n",
        "best_bernNB(df_3,9,y3_train,y3_test)"
      ]
    },
    {
      "cell_type": "code",
      "execution_count": 40,
      "metadata": {
        "colab": {
          "base_uri": "https://localhost:8080/",
          "height": 0
        },
        "id": "Gst5LZPi--pp",
        "outputId": "004d8297-d6b7-4d72-8b59-4e2a1517b90b"
      },
      "outputs": [
        {
          "output_type": "execute_result",
          "data": {
            "text/plain": [
              "                                  method n-gram  Value_best  Time fit  \\\n",
              "0                    K-ближайших соседей      1          41  0.003799   \n",
              "1                                    NaN    NaN         NaN       NaN   \n",
              "2                                    NaN    NaN         NaN       NaN   \n",
              "3                Логистическая регрессия      1  71968.5673  1.341069   \n",
              "4                                    NaN    NaN         NaN       NaN   \n",
              "5                                    NaN    NaN         NaN       NaN   \n",
              "6   Наивный Байес: полиномиальная модель      1    0.013895  0.010576   \n",
              "7                                    NaN    NaN         NaN       NaN   \n",
              "8                                    NaN    NaN         NaN       NaN   \n",
              "9         Наивный Байес: модель Бернулли      1      0.0001  0.008141   \n",
              "10                                   NaN    NaN         NaN       NaN   \n",
              "11                                   NaN    NaN         NaN       NaN   \n",
              "\n",
              "   Time predict Balanced-Accuracy         R         P        F1  \n",
              "0      0.110459          0.914542  0.914542  0.884655  0.895775  \n",
              "1           NaN               NaN       NaN       NaN       NaN  \n",
              "2           NaN               NaN       NaN       NaN       NaN  \n",
              "3      0.008074          0.968944  0.968944  0.966298  0.967574  \n",
              "4           NaN               NaN       NaN       NaN       NaN  \n",
              "5           NaN               NaN       NaN       NaN       NaN  \n",
              "6      0.007237          0.957397  0.957397  0.948658  0.952785  \n",
              "7           NaN               NaN       NaN       NaN       NaN  \n",
              "8           NaN               NaN       NaN       NaN       NaN  \n",
              "9      0.010268          0.870473  0.870473   0.91459  0.887974  \n",
              "10          NaN               NaN       NaN       NaN       NaN  \n",
              "11          NaN               NaN       NaN       NaN       NaN  "
            ],
            "text/html": [
              "\n",
              "  <div id=\"df-90e292eb-cd0c-44ff-906f-f118ea358252\">\n",
              "    <div class=\"colab-df-container\">\n",
              "      <div>\n",
              "<style scoped>\n",
              "    .dataframe tbody tr th:only-of-type {\n",
              "        vertical-align: middle;\n",
              "    }\n",
              "\n",
              "    .dataframe tbody tr th {\n",
              "        vertical-align: top;\n",
              "    }\n",
              "\n",
              "    .dataframe thead th {\n",
              "        text-align: right;\n",
              "    }\n",
              "</style>\n",
              "<table border=\"1\" class=\"dataframe\">\n",
              "  <thead>\n",
              "    <tr style=\"text-align: right;\">\n",
              "      <th></th>\n",
              "      <th>method</th>\n",
              "      <th>n-gram</th>\n",
              "      <th>Value_best</th>\n",
              "      <th>Time fit</th>\n",
              "      <th>Time predict</th>\n",
              "      <th>Balanced-Accuracy</th>\n",
              "      <th>R</th>\n",
              "      <th>P</th>\n",
              "      <th>F1</th>\n",
              "    </tr>\n",
              "  </thead>\n",
              "  <tbody>\n",
              "    <tr>\n",
              "      <th>0</th>\n",
              "      <td>K-ближайших соседей</td>\n",
              "      <td>1</td>\n",
              "      <td>41</td>\n",
              "      <td>0.003799</td>\n",
              "      <td>0.110459</td>\n",
              "      <td>0.914542</td>\n",
              "      <td>0.914542</td>\n",
              "      <td>0.884655</td>\n",
              "      <td>0.895775</td>\n",
              "    </tr>\n",
              "    <tr>\n",
              "      <th>1</th>\n",
              "      <td>NaN</td>\n",
              "      <td>NaN</td>\n",
              "      <td>NaN</td>\n",
              "      <td>NaN</td>\n",
              "      <td>NaN</td>\n",
              "      <td>NaN</td>\n",
              "      <td>NaN</td>\n",
              "      <td>NaN</td>\n",
              "      <td>NaN</td>\n",
              "    </tr>\n",
              "    <tr>\n",
              "      <th>2</th>\n",
              "      <td>NaN</td>\n",
              "      <td>NaN</td>\n",
              "      <td>NaN</td>\n",
              "      <td>NaN</td>\n",
              "      <td>NaN</td>\n",
              "      <td>NaN</td>\n",
              "      <td>NaN</td>\n",
              "      <td>NaN</td>\n",
              "      <td>NaN</td>\n",
              "    </tr>\n",
              "    <tr>\n",
              "      <th>3</th>\n",
              "      <td>Логистическая регрессия</td>\n",
              "      <td>1</td>\n",
              "      <td>71968.5673</td>\n",
              "      <td>1.341069</td>\n",
              "      <td>0.008074</td>\n",
              "      <td>0.968944</td>\n",
              "      <td>0.968944</td>\n",
              "      <td>0.966298</td>\n",
              "      <td>0.967574</td>\n",
              "    </tr>\n",
              "    <tr>\n",
              "      <th>4</th>\n",
              "      <td>NaN</td>\n",
              "      <td>NaN</td>\n",
              "      <td>NaN</td>\n",
              "      <td>NaN</td>\n",
              "      <td>NaN</td>\n",
              "      <td>NaN</td>\n",
              "      <td>NaN</td>\n",
              "      <td>NaN</td>\n",
              "      <td>NaN</td>\n",
              "    </tr>\n",
              "    <tr>\n",
              "      <th>5</th>\n",
              "      <td>NaN</td>\n",
              "      <td>NaN</td>\n",
              "      <td>NaN</td>\n",
              "      <td>NaN</td>\n",
              "      <td>NaN</td>\n",
              "      <td>NaN</td>\n",
              "      <td>NaN</td>\n",
              "      <td>NaN</td>\n",
              "      <td>NaN</td>\n",
              "    </tr>\n",
              "    <tr>\n",
              "      <th>6</th>\n",
              "      <td>Наивный Байес: полиномиальная модель</td>\n",
              "      <td>1</td>\n",
              "      <td>0.013895</td>\n",
              "      <td>0.010576</td>\n",
              "      <td>0.007237</td>\n",
              "      <td>0.957397</td>\n",
              "      <td>0.957397</td>\n",
              "      <td>0.948658</td>\n",
              "      <td>0.952785</td>\n",
              "    </tr>\n",
              "    <tr>\n",
              "      <th>7</th>\n",
              "      <td>NaN</td>\n",
              "      <td>NaN</td>\n",
              "      <td>NaN</td>\n",
              "      <td>NaN</td>\n",
              "      <td>NaN</td>\n",
              "      <td>NaN</td>\n",
              "      <td>NaN</td>\n",
              "      <td>NaN</td>\n",
              "      <td>NaN</td>\n",
              "    </tr>\n",
              "    <tr>\n",
              "      <th>8</th>\n",
              "      <td>NaN</td>\n",
              "      <td>NaN</td>\n",
              "      <td>NaN</td>\n",
              "      <td>NaN</td>\n",
              "      <td>NaN</td>\n",
              "      <td>NaN</td>\n",
              "      <td>NaN</td>\n",
              "      <td>NaN</td>\n",
              "      <td>NaN</td>\n",
              "    </tr>\n",
              "    <tr>\n",
              "      <th>9</th>\n",
              "      <td>Наивный Байес: модель Бернулли</td>\n",
              "      <td>1</td>\n",
              "      <td>0.0001</td>\n",
              "      <td>0.008141</td>\n",
              "      <td>0.010268</td>\n",
              "      <td>0.870473</td>\n",
              "      <td>0.870473</td>\n",
              "      <td>0.91459</td>\n",
              "      <td>0.887974</td>\n",
              "    </tr>\n",
              "    <tr>\n",
              "      <th>10</th>\n",
              "      <td>NaN</td>\n",
              "      <td>NaN</td>\n",
              "      <td>NaN</td>\n",
              "      <td>NaN</td>\n",
              "      <td>NaN</td>\n",
              "      <td>NaN</td>\n",
              "      <td>NaN</td>\n",
              "      <td>NaN</td>\n",
              "      <td>NaN</td>\n",
              "    </tr>\n",
              "    <tr>\n",
              "      <th>11</th>\n",
              "      <td>NaN</td>\n",
              "      <td>NaN</td>\n",
              "      <td>NaN</td>\n",
              "      <td>NaN</td>\n",
              "      <td>NaN</td>\n",
              "      <td>NaN</td>\n",
              "      <td>NaN</td>\n",
              "      <td>NaN</td>\n",
              "      <td>NaN</td>\n",
              "    </tr>\n",
              "  </tbody>\n",
              "</table>\n",
              "</div>\n",
              "      <button class=\"colab-df-convert\" onclick=\"convertToInteractive('df-90e292eb-cd0c-44ff-906f-f118ea358252')\"\n",
              "              title=\"Convert this dataframe to an interactive table.\"\n",
              "              style=\"display:none;\">\n",
              "        \n",
              "  <svg xmlns=\"http://www.w3.org/2000/svg\" height=\"24px\"viewBox=\"0 0 24 24\"\n",
              "       width=\"24px\">\n",
              "    <path d=\"M0 0h24v24H0V0z\" fill=\"none\"/>\n",
              "    <path d=\"M18.56 5.44l.94 2.06.94-2.06 2.06-.94-2.06-.94-.94-2.06-.94 2.06-2.06.94zm-11 1L8.5 8.5l.94-2.06 2.06-.94-2.06-.94L8.5 2.5l-.94 2.06-2.06.94zm10 10l.94 2.06.94-2.06 2.06-.94-2.06-.94-.94-2.06-.94 2.06-2.06.94z\"/><path d=\"M17.41 7.96l-1.37-1.37c-.4-.4-.92-.59-1.43-.59-.52 0-1.04.2-1.43.59L10.3 9.45l-7.72 7.72c-.78.78-.78 2.05 0 2.83L4 21.41c.39.39.9.59 1.41.59.51 0 1.02-.2 1.41-.59l7.78-7.78 2.81-2.81c.8-.78.8-2.07 0-2.86zM5.41 20L4 18.59l7.72-7.72 1.47 1.35L5.41 20z\"/>\n",
              "  </svg>\n",
              "      </button>\n",
              "      \n",
              "  <style>\n",
              "    .colab-df-container {\n",
              "      display:flex;\n",
              "      flex-wrap:wrap;\n",
              "      gap: 12px;\n",
              "    }\n",
              "\n",
              "    .colab-df-convert {\n",
              "      background-color: #E8F0FE;\n",
              "      border: none;\n",
              "      border-radius: 50%;\n",
              "      cursor: pointer;\n",
              "      display: none;\n",
              "      fill: #1967D2;\n",
              "      height: 32px;\n",
              "      padding: 0 0 0 0;\n",
              "      width: 32px;\n",
              "    }\n",
              "\n",
              "    .colab-df-convert:hover {\n",
              "      background-color: #E2EBFA;\n",
              "      box-shadow: 0px 1px 2px rgba(60, 64, 67, 0.3), 0px 1px 3px 1px rgba(60, 64, 67, 0.15);\n",
              "      fill: #174EA6;\n",
              "    }\n",
              "\n",
              "    [theme=dark] .colab-df-convert {\n",
              "      background-color: #3B4455;\n",
              "      fill: #D2E3FC;\n",
              "    }\n",
              "\n",
              "    [theme=dark] .colab-df-convert:hover {\n",
              "      background-color: #434B5C;\n",
              "      box-shadow: 0px 1px 3px 1px rgba(0, 0, 0, 0.15);\n",
              "      filter: drop-shadow(0px 1px 2px rgba(0, 0, 0, 0.3));\n",
              "      fill: #FFFFFF;\n",
              "    }\n",
              "  </style>\n",
              "\n",
              "      <script>\n",
              "        const buttonEl =\n",
              "          document.querySelector('#df-90e292eb-cd0c-44ff-906f-f118ea358252 button.colab-df-convert');\n",
              "        buttonEl.style.display =\n",
              "          google.colab.kernel.accessAllowed ? 'block' : 'none';\n",
              "\n",
              "        async function convertToInteractive(key) {\n",
              "          const element = document.querySelector('#df-90e292eb-cd0c-44ff-906f-f118ea358252');\n",
              "          const dataTable =\n",
              "            await google.colab.kernel.invokeFunction('convertToInteractive',\n",
              "                                                     [key], {});\n",
              "          if (!dataTable) return;\n",
              "\n",
              "          const docLinkHtml = 'Like what you see? Visit the ' +\n",
              "            '<a target=\"_blank\" href=https://colab.research.google.com/notebooks/data_table.ipynb>data table notebook</a>'\n",
              "            + ' to learn more about interactive tables.';\n",
              "          element.innerHTML = '';\n",
              "          dataTable['output_type'] = 'display_data';\n",
              "          await google.colab.output.renderOutput(dataTable, element);\n",
              "          const docLink = document.createElement('div');\n",
              "          docLink.innerHTML = docLinkHtml;\n",
              "          element.appendChild(docLink);\n",
              "        }\n",
              "      </script>\n",
              "    </div>\n",
              "  </div>\n",
              "  "
            ]
          },
          "metadata": {},
          "execution_count": 40
        }
      ],
      "source": [
        "#Выведите в виде таблицы итоговые данные по всем методам для лучших моделей (метод, n-gram, значение параметра модели, время обучения, время предсказания, метрики (Balanced-Accuracy, R, P, F1))\n",
        "df_3"
      ]
    },
    {
      "cell_type": "markdown",
      "metadata": {
        "id": "Ysq00ZXD0OFL"
      },
      "source": [
        "\n",
        "\n",
        "# n-gram=2\n",
        "\n"
      ]
    },
    {
      "cell_type": "code",
      "execution_count": 41,
      "metadata": {
        "id": "_z0xjjpcwnud"
      },
      "outputs": [],
      "source": [
        "vectorizer = TfidfVectorizer(lowercase=True, stop_words=\"english\",#None, \n",
        "                             use_idf=True, ngram_range=(2,2),\n",
        "                             smooth_idf=False)\n",
        "\n",
        "#Передаем набор документов, на основе которых будут строиться векторы\n",
        "vectorizer32 = vectorizer.fit(X3_train)\n",
        "# Преобразование текстовых документов в векторы\n",
        "train_vectors32 = vectorizer32.fit_transform(X3_train)\n",
        "test_vectors32 = vectorizer32.transform(X3_test.astype('U'))"
      ]
    },
    {
      "cell_type": "code",
      "execution_count": 42,
      "metadata": {
        "colab": {
          "base_uri": "https://localhost:8080/"
        },
        "id": "ZoPJz3bf3xTx",
        "outputId": "1134d836-c849-4ff3-a634-742182ecf39f"
      },
      "outputs": [
        {
          "output_type": "stream",
          "name": "stdout",
          "text": [
            "K-ближайших соседей\n",
            "balanced_accuracy на тестовом подмножестве - 0.5822072413078166, при n_neighbors - 1\n",
            "balanced_accuracy на тестовом подмножестве - 0.600979378803458, при n_neighbors - 21\n",
            "balanced_accuracy на тестовом подмножестве - 0.895258226795806, при n_neighbors - 41\n",
            "balanced_accuracy на тестовом подмножестве - 0.8702457059128095, при n_neighbors - 61\n",
            "balanced_accuracy на тестовом подмножестве - 0.8257176216826163, при n_neighbors - 81\n",
            "balanced_accuracy на тестовом подмножестве - 0.806090298328336, при n_neighbors - 101\n",
            "balanced_accuracy на тестовом подмножестве - 0.7923663724669544, при n_neighbors - 121\n",
            "balanced_accuracy на тестовом подмножестве - 0.7825917145432, при n_neighbors - 141\n",
            "Best n_neighbors : 41\n",
            "----------------------------\n",
            "Логистическая регрессия\n",
            "balanced_accuracy на тестовом подмножестве - 0.5, при C - 0.01\n",
            "balanced_accuracy на тестовом подмножестве - 0.6217913805351646, при C - 0.517947467923121\n",
            "balanced_accuracy на тестовом подмножестве - 0.9019293390442542, при C - 26.826957952797247\n",
            "balanced_accuracy на тестовом подмножестве - 0.9415022752131286, при C - 1389.4954943731361\n",
            "balanced_accuracy на тестовом подмножестве - 0.9419271657067715, при C - 71968.56730011514\n",
            "balanced_accuracy на тестовом подмножестве - 0.946394509847146, при C - 3727593.720314938\n",
            "balanced_accuracy на тестовом подмножестве - 0.9501529922187429, при C - 193069772.88832456\n",
            "balanced_accuracy на тестовом подмножестве - 0.9537566439484494, при C - 10000000000.0\n",
            "Best C : 10000000000.0\n",
            "----------------------------\n",
            "Наивный Байес: полиномиальная модель\n",
            "balanced_accuracy на тестовом подмножестве - 0.9358526945156671, при alpha - 0.0001\n",
            "balanced_accuracy на тестовом подмножестве - 0.9228438942505441, при alpha - 0.0005179474679231213\n",
            "balanced_accuracy на тестовом подмножестве - 0.9084232053239916, при alpha - 0.002682695795279727\n",
            "balanced_accuracy на тестовом подмножестве - 0.9033025896083475, при alpha - 0.013894954943731374\n",
            "balanced_accuracy на тестовом подмножестве - 0.9197342108869044, при alpha - 0.07196856730011521\n",
            "balanced_accuracy на тестовом подмножестве - 0.8768644778792303, при alpha - 0.3727593720314942\n",
            "balanced_accuracy на тестовом подмножестве - 0.6516220696187545, при alpha - 1.9306977288832496\n",
            "balanced_accuracy на тестовом подмножестве - 0.5091374615202463, при alpha - 10.0\n",
            "Best alpha : 0.0001\n",
            "----------------------------\n",
            "Наивный Байес: модель Бернулли\n",
            "balanced_accuracy на тестовом подмножестве - 0.8941419845191394, при alpha - 0.0001\n",
            "balanced_accuracy на тестовом подмножестве - 0.883051980100134, при alpha - 0.0005179474679231213\n",
            "balanced_accuracy на тестовом подмножестве - 0.8759651945451026, при alpha - 0.002682695795279727\n",
            "balanced_accuracy на тестовом подмножестве - 0.8629798780123021, при alpha - 0.013894954943731374\n",
            "balanced_accuracy на тестовом подмножестве - 0.817857100612976, при alpha - 0.07196856730011521\n",
            "balanced_accuracy на тестовом подмножестве - 0.7016869505278207, при alpha - 0.3727593720314942\n",
            "balanced_accuracy на тестовом подмножестве - 0.5390462973723199, при alpha - 1.9306977288832496\n",
            "balanced_accuracy на тестовом подмножестве - 0.500655813620701, при alpha - 10.0\n",
            "Best alpha : 0.0001\n"
          ]
        }
      ],
      "source": [
        "# Повторите шаги 2-4 для n-gram=2 и n-gram=(1,2)\n",
        "#Шаг 2\n",
        "scores_test_knn=[]\n",
        "scores_train_knn=[]  \n",
        "best_n = 0\n",
        "knn(train_vectors32, y3_train)\n",
        "print('----------------------------')\n",
        "scores_test_logreg=[] \n",
        "scores_train_logreg=[]  \n",
        "best_c  = 0\n",
        "logreg(train_vectors32, y3_train)\n",
        "print('----------------------------')\n",
        "scores_test_multNB=[] \n",
        "scores_train_multNB=[] \n",
        "best_alpha_multNB = 0\n",
        "multNB(train_vectors32, y3_train,test_vectors32,y3_test)\n",
        "print('----------------------------')\n",
        "count_vectorizer2 = CountVectorizer(analyzer=\"word\", ngram_range=(2,2),\n",
        "                                   stop_words=None, lowercase=True,\n",
        "                                   binary=True, strip_accents=None)\n",
        "train_binary_vectors33 = count_vectorizer2.fit_transform(X3_train.astype('U'))\n",
        "test_binary_vectors33 = count_vectorizer2.transform(X3_test.astype('U'))\n",
        "scores_test_bernNB=[] \n",
        "scores_train_bernNB=[] \n",
        "best_alpha_bernNB = 0\n",
        "bernNB(y3_train,y3_test)"
      ]
    },
    {
      "cell_type": "code",
      "execution_count": 43,
      "metadata": {
        "id": "cMJ7vqXynmlQ",
        "colab": {
          "base_uri": "https://localhost:8080/"
        },
        "outputId": "f088cf45-cdf9-46ef-e18f-0c8484bdd295"
      },
      "outputs": [
        {
          "output_type": "stream",
          "name": "stdout",
          "text": [
            "Best models:\n",
            "Best K-ближайших соседей n_neighbors -  41\n",
            "Best Логистическая регрессия C -  10000000000.0\n",
            "Best Наивный Байес: полиномиальная модель alpha -  0.0001\n",
            "Best Наивный Байес: модель Бернулли alpha -  0.0001\n"
          ]
        }
      ],
      "source": [
        "#Выберите лучшую модель для каждого метода, используя значение качества классификации (использовать Balanced-Accuracy)\n",
        "print(\"Best models:\")\n",
        "print(\"Best K-ближайших соседей n_neighbors - \", best_n)\n",
        "print(\"Best Логистическая регрессия C - \", best_c)\n",
        "print(\"Best Наивный Байес: полиномиальная модель alpha - \", best_alpha_multNB)\n",
        "print(\"Best Наивный Байес: модель Бернулли alpha - \", best_alpha_bernNB)"
      ]
    },
    {
      "cell_type": "code",
      "execution_count": 44,
      "metadata": {
        "id": "m4ZHPRpOmkWr",
        "colab": {
          "base_uri": "https://localhost:8080/",
          "height": 0
        },
        "outputId": "e5d0033e-f62b-48b8-ce74-c0647798ad8a"
      },
      "outputs": [
        {
          "output_type": "display_data",
          "data": {
            "text/plain": [
              "<Figure size 1800x1080 with 4 Axes>"
            ],
            "image/png": "[encoded data removed]"
          },
          "metadata": {
            "needs_background": "light"
          }
        }
      ],
      "source": [
        "#Постройте графики (параметры модели)-(Balanced-Accuracy) при обучении и валидации\n",
        "plt.figure(1, figsize=[25, 15])\n",
        "plt.subplot(2,2,1)\n",
        "plt.plot(ns, scores_test_knn, color=\"red\", label = 'test', ls = 'dashed')\n",
        "plt.plot(ns, scores_train_knn, color=\"blue\", label = 'train')\n",
        "plt.xlabel(\"n_neighbors\")\n",
        "plt.ylabel(\"accuracy\")\n",
        "plt.title('График зависимости balanced_accuracy от n_neighbors для K-ближайших соседей')\n",
        "plt.grid(True)\n",
        "plt.legend(loc=4, shadow=True, fontsize='xx-large')\n",
        "\n",
        "plt.subplot(2,2,2)\n",
        "plt.plot(cs, scores_test_logreg, color=\"red\", label = 'test', ls = 'dashed')\n",
        "plt.plot(cs, scores_train_logreg, color=\"blue\", label = 'train')\n",
        "plt.xlabel(\"C\")\n",
        "plt.ylabel(\"accuracy\")\n",
        "plt.title('График зависимости balanced_accuracy от C для Логистическая регрессия')\n",
        "plt.grid(True)\n",
        "plt.xscale('log')\n",
        "plt.legend(loc=4, shadow=True, fontsize='xx-large')\n",
        "\n",
        "plt.subplot(2,2,3)\n",
        "plt.plot(alphas, scores_test_bernNB, color=\"red\", label = 'test', ls = 'dashed')\n",
        "plt.plot(alphas, scores_train_bernNB, color=\"blue\", label = 'train')\n",
        "plt.xlabel(\"alpha\")\n",
        "plt.ylabel(\"accuracy\")\n",
        "plt.title('График зависимости balanced_accuracy от alpha для Наивный Байес: модель Бернулли')\n",
        "plt.grid(True)\n",
        "plt.xscale('log')\n",
        "plt.legend(loc=1, shadow=True, fontsize='xx-large')\n",
        "\n",
        "plt.subplot(2,2,4)\n",
        "plt.plot(alphas, scores_test_multNB, color=\"red\", label = 'test', ls = 'dashed')\n",
        "plt.plot(alphas, scores_train_multNB, color=\"blue\", label = 'train')\n",
        "plt.xlabel(\"alpha\")\n",
        "plt.ylabel(\"accuracy\")\n",
        "plt.title('График зависимости balanced_accuracy от alpha для Наивный Байес: полиномиальная модель')\n",
        "plt.grid(True)\n",
        "plt.xscale('log')\n",
        "plt.legend(loc=1, shadow=True, fontsize='xx-large')\n",
        "\n",
        "plt.show()"
      ]
    },
    {
      "cell_type": "code",
      "execution_count": 45,
      "metadata": {
        "id": "bioV3E9K3xNM",
        "colab": {
          "base_uri": "https://localhost:8080/"
        },
        "outputId": "f1d1cf66-ca79-46f6-d9f5-80f376f20b71"
      },
      "outputs": [
        {
          "output_type": "stream",
          "name": "stdout",
          "text": [
            "K-ближайших соседей\n",
            "Time fit = 0.003998935222625732\n",
            "Time predict = 0.11142891645431519\n",
            "Test balanced accuracy = 0.9145424347839479\n",
            "Test recall score = 0.9145424347839479\n",
            "Test precision score = 0.8846552255283217\n",
            "Test f1 score = 0.8957747251589554\n",
            "----------------------------\n",
            "Логистическая регрессия\n",
            "Time fit = 0.5184648633003235\n",
            "Time predict = 0.007313728332519531\n",
            "Test balanced accuracy = 0.9561507880239709\n",
            "Test recall score = 0.9561507880239709\n",
            "Test precision score = 0.9662552190732623\n",
            "Test f1 score = 0.960762413074542\n",
            "----------------------------\n",
            "Наивный Байес: полиномиальная модель\n",
            "Time fit = 0.016860008239746094\n",
            "Time predict = 0.00970083475112915\n",
            "Test balanced accuracy = 0.9507525519030057\n",
            "Test recall score = 0.9507525519030057\n",
            "Test precision score = 0.9496947825198288\n",
            "Test f1 score = 0.9501582651848614\n",
            "----------------------------\n",
            "Наивный Байес: модель Бернулли\n",
            "Time fit = 0.03299933671951294\n",
            "Time predict = 0.03587949275970459\n",
            "Test balanced accuracy = 0.8941419845191394\n",
            "Test recall score = 0.8941419845191394\n",
            "Test precision score = 0.9428802982028639\n",
            "Test f1 score = 0.9134369356335373\n"
          ]
        }
      ],
      "source": [
        "#Шаг \n",
        "gram = 2\n",
        "best_knn(df_3,1,train_vectors3, y3_train,test_vectors3,y3_test)\n",
        "print('----------------------------')\n",
        "best_logreg(df_3,4,train_vectors3, y3_train,test_vectors3,y3_test)\n",
        "print('----------------------------')\n",
        "best_multNB(df_3,7,train_vectors3, y3_train,test_vectors3,y3_test)\n",
        "print('----------------------------')\n",
        "\n",
        "count_vectorizer2 = CountVectorizer(analyzer=\"word\", ngram_range=(2,2),\n",
        "                                   stop_words=None, lowercase=True,\n",
        "                                   binary=True, strip_accents=None)\n",
        "train_binary_vectors33 = count_vectorizer2.fit_transform(X3_train.astype('U'))\n",
        "test_binary_vectors33 = count_vectorizer2.transform(X3_test.astype('U'))\n",
        "best_bernNB(df_3,10,y3_train,y3_test)"
      ]
    },
    {
      "cell_type": "markdown",
      "metadata": {
        "id": "rMrE4W2jwoTy"
      },
      "source": [
        "\n",
        "\n",
        "# n-gram=(1,2)\n",
        "\n"
      ]
    },
    {
      "cell_type": "code",
      "execution_count": 46,
      "metadata": {
        "id": "mPDb8xLW01g0"
      },
      "outputs": [],
      "source": [
        "vectorizer = TfidfVectorizer(lowercase=True, stop_words=\"english\",#None, \n",
        "                             use_idf=True, ngram_range=(1,2),\n",
        "                             smooth_idf=False)\n",
        "\n",
        "#Передаем набор документов, на основе которых будут строиться векторы\n",
        "vectorizer33 = vectorizer.fit(X3_train)\n",
        "# Преобразование текстовых документов в векторы\n",
        "train_vectors33 = vectorizer33.fit_transform(X3_train)\n",
        "test_vectors33 = vectorizer33.transform(X3_test.astype('U'))"
      ]
    },
    {
      "cell_type": "code",
      "source": [
        "# Повторите шаги 2-4 для n-gram=2 и n-gram=(1,2)\n",
        "#Шаг 2\n",
        "scores_test_knn=[] \n",
        "scores_train_knn=[] \n",
        "best_n = 0\n",
        "knn(train_vectors33, y3_train)\n",
        "print('----------------------------')\n",
        "scores_test_logreg=[]  \n",
        "scores_train_logreg=[] \n",
        "best_c  = 0\n",
        "logreg(train_vectors33, y3_train)\n",
        "print('----------------------------')\n",
        "scores_test_multNB=[] \n",
        "scores_train_multNB=[] \n",
        "best_alpha_multNB = 0\n",
        "multNB(train_vectors33, y3_train,test_vectors33,y3_test)\n",
        "print('----------------------------')\n",
        "count_vectorizer2 = CountVectorizer(analyzer=\"word\", ngram_range=(1,2),\n",
        "                                   stop_words=None, lowercase=True,\n",
        "                                   binary=True, strip_accents=None)\n",
        "train_binary_vectors33 = count_vectorizer2.fit_transform(X3_train.astype('U'))\n",
        "test_binary_vectors33 = count_vectorizer2.transform(X3_test.astype('U'))\n",
        "scores_test_bernNB=[] \n",
        "scores_train_bernNB=[] \n",
        "best_alpha_bernNB = 0\n",
        "bernNB(y3_train,y3_test)"
      ],
      "metadata": {
        "id": "4PHK51XlqeUo",
        "colab": {
          "base_uri": "https://localhost:8080/"
        },
        "outputId": "6d4d4e7c-3213-4223-bbed-46725c4bbdf3"
      },
      "execution_count": 47,
      "outputs": [
        {
          "output_type": "stream",
          "name": "stdout",
          "text": [
            "K-ближайших соседей\n",
            "balanced_accuracy на тестовом подмножестве - 0.6005233141526706, при n_neighbors - 1\n",
            "balanced_accuracy на тестовом подмножестве - 0.7016473911421746, при n_neighbors - 21\n",
            "balanced_accuracy на тестовом подмножестве - 0.9092783620481292, при n_neighbors - 41\n",
            "balanced_accuracy на тестовом подмножестве - 0.8970575868073661, при n_neighbors - 61\n",
            "balanced_accuracy на тестовом подмножестве - 0.8901362748659898, при n_neighbors - 81\n",
            "balanced_accuracy на тестовом подмножестве - 0.8879718612088316, при n_neighbors - 101\n",
            "balanced_accuracy на тестовом подмножестве - 0.8859314385113294, при n_neighbors - 121\n",
            "balanced_accuracy на тестовом подмножестве - 0.8827571827091849, при n_neighbors - 141\n",
            "Best n_neighbors : 41\n",
            "----------------------------\n",
            "Логистическая регрессия\n",
            "balanced_accuracy на тестовом подмножестве - 0.5, при C - 0.01\n",
            "balanced_accuracy на тестовом подмножестве - 0.7646065376694005, при C - 0.517947467923121\n",
            "balanced_accuracy на тестовом подмножестве - 0.9604611248019992, при C - 26.826957952797247\n",
            "balanced_accuracy на тестовом подмножестве - 0.97114642114146, при C - 1389.4954943731361\n",
            "balanced_accuracy на тестовом подмножестве - 0.9719946112284685, при C - 71968.56730011514\n",
            "balanced_accuracy на тестовом подмножестве - 0.967963063576649, при C - 3727593.720314938\n",
            "balanced_accuracy на тестовом подмножестве - 0.9628127811434227, при C - 193069772.88832456\n",
            "balanced_accuracy на тестовом подмножестве - 0.95593011392086, при C - 10000000000.0\n",
            "Best C : 71968.56730011514\n",
            "----------------------------\n",
            "Наивный Байес: полиномиальная модель\n",
            "balanced_accuracy на тестовом подмножестве - 0.9579845288839661, при alpha - 0.0001\n",
            "balanced_accuracy на тестовом подмножестве - 0.9529556102789776, при alpha - 0.0005179474679231213\n",
            "balanced_accuracy на тестовом подмножестве - 0.9488222103068533, при alpha - 0.002682695795279727\n",
            "balanced_accuracy на тестовом подмножестве - 0.9493375268884359, при alpha - 0.013894954943731374\n",
            "balanced_accuracy на тестовом подмножестве - 0.9504648828336288, при alpha - 0.07196856730011521\n",
            "balanced_accuracy на тестовом подмножестве - 0.8731109188771771, при alpha - 0.3727593720314942\n",
            "balanced_accuracy на тестовом подмножестве - 0.6412680558844424, при alpha - 1.9306977288832496\n",
            "balanced_accuracy на тестовом подмножестве - 0.5073170731707317, при alpha - 10.0\n",
            "Best alpha : 0.0001\n",
            "----------------------------\n",
            "Наивный Байес: модель Бернулли\n",
            "balanced_accuracy на тестовом подмножестве - 0.8921799261658541, при alpha - 0.0001\n",
            "balanced_accuracy на тестовом подмножестве - 0.8867931162772538, при alpha - 0.0005179474679231213\n",
            "balanced_accuracy на тестовом подмножестве - 0.8799927287688836, при alpha - 0.002682695795279727\n",
            "balanced_accuracy на тестовом подмножестве - 0.8639520762748081, при alpha - 0.013894954943731374\n",
            "balanced_accuracy на тестовом подмножестве - 0.8371541948090899, при alpha - 0.07196856730011521\n",
            "balanced_accuracy на тестовом подмножестве - 0.7227172826003619, при alpha - 0.3727593720314942\n",
            "balanced_accuracy на тестовом подмножестве - 0.557972385094117, при alpha - 1.9306977288832496\n",
            "balanced_accuracy на тестовом подмножестве - 0.501265569718262, при alpha - 10.0\n",
            "Best alpha : 0.0001\n"
          ]
        }
      ]
    },
    {
      "cell_type": "code",
      "source": [
        "#Выберите лучшую модель для каждого метода, используя значение качества классификации (использовать Balanced-Accuracy)\n",
        "print(\"Best models:\")\n",
        "print(\"Best K-ближайших соседей n_neighbors - \", best_n)\n",
        "print(\"Best Логистическая регрессия C - \", best_c)\n",
        "print(\"Best Наивный Байес: полиномиальная модель alpha - \", best_alpha_multNB)\n",
        "print(\"Best Наивный Байес: модель Бернулли alpha - \", best_alpha_bernNB)"
      ],
      "metadata": {
        "id": "0-eAMwearuZl",
        "colab": {
          "base_uri": "https://localhost:8080/"
        },
        "outputId": "8e24e593-ac8e-469a-bcdc-8f654dc3b050"
      },
      "execution_count": 48,
      "outputs": [
        {
          "output_type": "stream",
          "name": "stdout",
          "text": [
            "Best models:\n",
            "Best K-ближайших соседей n_neighbors -  41\n",
            "Best Логистическая регрессия C -  71968.56730011514\n",
            "Best Наивный Байес: полиномиальная модель alpha -  0.0001\n",
            "Best Наивный Байес: модель Бернулли alpha -  0.0001\n"
          ]
        }
      ]
    },
    {
      "cell_type": "code",
      "source": [
        "#Постройте графики (параметры модели)-(Balanced-Accuracy) при обучении и валидации\n",
        "plt.figure(1, figsize=[25, 15])\n",
        "plt.subplot(2,2,1)\n",
        "plt.plot(ns, scores_test_knn, color=\"red\", label = 'test', ls = 'dashed')\n",
        "plt.plot(ns, scores_train_knn, color=\"blue\", label = 'train')\n",
        "plt.xlabel(\"n_neighbors\")\n",
        "plt.ylabel(\"accuracy\")\n",
        "plt.title('График зависимости balanced_accuracy от n_neighbors для K-ближайших соседей')\n",
        "plt.grid(True)\n",
        "plt.legend(loc=4, shadow=True, fontsize='xx-large')\n",
        "\n",
        "plt.subplot(2,2,2)\n",
        "plt.plot(cs, scores_test_logreg, color=\"red\", label = 'test', ls = 'dashed')\n",
        "plt.plot(cs, scores_train_logreg, color=\"blue\", label = 'train')\n",
        "plt.xlabel(\"C\")\n",
        "plt.ylabel(\"accuracy\")\n",
        "plt.title('График зависимости balanced_accuracy от C для Логистическая регрессия')\n",
        "plt.grid(True)\n",
        "plt.xscale('log')\n",
        "plt.legend(loc=4, shadow=True, fontsize='xx-large')\n",
        "\n",
        "plt.subplot(2,2,3)\n",
        "plt.plot(alphas, scores_test_bernNB, color=\"red\", label = 'test', ls = 'dashed')\n",
        "plt.plot(alphas, scores_train_bernNB, color=\"blue\", label = 'train')\n",
        "plt.xlabel(\"alpha\")\n",
        "plt.ylabel(\"accuracy\")\n",
        "plt.title('График зависимости balanced_accuracy от alpha для Наивный Байес: модель Бернулли')\n",
        "plt.grid(True)\n",
        "plt.xscale('log')\n",
        "plt.legend(loc=1, shadow=True, fontsize='xx-large')\n",
        "\n",
        "plt.subplot(2,2,4)\n",
        "plt.plot(alphas, scores_test_multNB, color=\"red\", label = 'test', ls = 'dashed')\n",
        "plt.plot(alphas, scores_train_multNB, color=\"blue\", label = 'train')\n",
        "plt.xlabel(\"alpha\")\n",
        "plt.ylabel(\"accuracy\")\n",
        "plt.title('График зависимости balanced_accuracy от alpha для Наивный Байес: полиномиальная модель')\n",
        "plt.grid(True)\n",
        "plt.xscale('log')\n",
        "plt.legend(loc=1, shadow=True, fontsize='xx-large')\n",
        "\n",
        "plt.show()"
      ],
      "metadata": {
        "id": "TIdsWbqPrvQf",
        "colab": {
          "base_uri": "https://localhost:8080/",
          "height": 0
        },
        "outputId": "f1a90fb5-0ffa-436c-cf17-0d2cb9c00c34"
      },
      "execution_count": 49,
      "outputs": [
        {
          "output_type": "display_data",
          "data": {
            "text/plain": [
              "<Figure size 1800x1080 with 4 Axes>"
            ],
            "image/png": "[encoded data removed]"
          },
          "metadata": {
            "needs_background": "light"
          }
        }
      ]
    },
    {
      "cell_type": "code",
      "source": [
        "#Шаг \n",
        "gram = \"1,2\"\n",
        "best_knn(df_3,2,train_vectors3, y3_train,test_vectors3,y3_test)\n",
        "print('----------------------------')\n",
        "best_logreg(df_3,5,train_vectors3, y3_train,test_vectors3,y3_test)\n",
        "print('----------------------------')\n",
        "best_multNB(df_3,8,train_vectors3, y3_train,test_vectors3,y3_test)\n",
        "print('----------------------------')\n",
        "best_bernNB(df_3,11,y3_train,y3_test)"
      ],
      "metadata": {
        "id": "Fty6tvqYr6p7",
        "colab": {
          "base_uri": "https://localhost:8080/"
        },
        "outputId": "ab1f3412-0354-44e5-a572-84db6f2ccaa6"
      },
      "execution_count": 50,
      "outputs": [
        {
          "output_type": "stream",
          "name": "stdout",
          "text": [
            "K-ближайших соседей\n",
            "Time fit = 0.00390625\n",
            "Time predict = 0.10933482646942139\n",
            "Test balanced accuracy = 0.9145424347839479\n",
            "Test recall score = 0.9145424347839479\n",
            "Test precision score = 0.8846552255283217\n",
            "Test f1 score = 0.8957747251589554\n",
            "----------------------------\n",
            "Логистическая регрессия\n",
            "Time fit = 1.310526728630066\n",
            "Time predict = 0.009087741374969482\n",
            "Test balanced accuracy = 0.9689435062709654\n",
            "Test recall score = 0.9689435062709654\n",
            "Test precision score = 0.9662977231449705\n",
            "Test f1 score = 0.9675744000888178\n",
            "----------------------------\n",
            "Наивный Байес: полиномиальная модель\n",
            "Time fit = 0.016751408576965332\n",
            "Time predict = 0.011546850204467773\n",
            "Test balanced accuracy = 0.9507525519030057\n",
            "Test recall score = 0.9507525519030057\n",
            "Test precision score = 0.9496947825198288\n",
            "Test f1 score = 0.9501582651848614\n",
            "----------------------------\n",
            "Наивный Байес: модель Бернулли\n",
            "Time fit = 0.03755122423171997\n",
            "Time predict = 0.04164379835128784\n",
            "Test balanced accuracy = 0.8921799261658541\n",
            "Test recall score = 0.8921799261658541\n",
            "Test precision score = 0.9379526978450565\n",
            "Test f1 score = 0.9104950110685077\n"
          ]
        }
      ]
    },
    {
      "cell_type": "code",
      "execution_count": 51,
      "metadata": {
        "id": "BvFMUn9xwp0q",
        "colab": {
          "base_uri": "https://localhost:8080/",
          "height": 0
        },
        "outputId": "aa73b6ee-6bf1-48ff-c801-88f82c3a8df6"
      },
      "outputs": [
        {
          "output_type": "execute_result",
          "data": {
            "text/plain": [
              "                                  method n-gram     Value_best  Time fit  \\\n",
              "0                    K-ближайших соседей      1             41  0.003799   \n",
              "1                    K-ближайших соседей      2             41  0.003999   \n",
              "2                    K-ближайших соседей    1,2             41  0.003906   \n",
              "3                Логистическая регрессия      1     71968.5673  1.341069   \n",
              "4                Логистическая регрессия      2  10000000000.0  0.518465   \n",
              "5                Логистическая регрессия    1,2     71968.5673  1.310527   \n",
              "6   Наивный Байес: полиномиальная модель      1       0.013895  0.010576   \n",
              "7   Наивный Байес: полиномиальная модель      2         0.0001   0.01686   \n",
              "8   Наивный Байес: полиномиальная модель    1,2         0.0001  0.016751   \n",
              "9         Наивный Байес: модель Бернулли      1         0.0001  0.008141   \n",
              "10        Наивный Байес: модель Бернулли      2         0.0001  0.032999   \n",
              "11        Наивный Байес: модель Бернулли    1,2         0.0001  0.037551   \n",
              "\n",
              "   Time predict Balanced-Accuracy         R         P        F1  \n",
              "0      0.110459          0.914542  0.914542  0.884655  0.895775  \n",
              "1      0.111429          0.914542  0.914542  0.884655  0.895775  \n",
              "2      0.109335          0.914542  0.914542  0.884655  0.895775  \n",
              "3      0.008074          0.968944  0.968944  0.966298  0.967574  \n",
              "4      0.007314          0.956151  0.956151  0.966255  0.960762  \n",
              "5      0.009088          0.968944  0.968944  0.966298  0.967574  \n",
              "6      0.007237          0.957397  0.957397  0.948658  0.952785  \n",
              "7      0.009701          0.950753  0.950753  0.949695  0.950158  \n",
              "8      0.011547          0.950753  0.950753  0.949695  0.950158  \n",
              "9      0.010268          0.870473  0.870473   0.91459  0.887974  \n",
              "10     0.035879          0.894142  0.894142   0.94288  0.913437  \n",
              "11     0.041644           0.89218   0.89218  0.937953  0.910495  "
            ],
            "text/html": [
              "\n",
              "  <div id=\"df-f6824c2f-f030-4da9-bd0b-92b12f671f1e\">\n",
              "    <div class=\"colab-df-container\">\n",
              "      <div>\n",
              "<style scoped>\n",
              "    .dataframe tbody tr th:only-of-type {\n",
              "        vertical-align: middle;\n",
              "    }\n",
              "\n",
              "    .dataframe tbody tr th {\n",
              "        vertical-align: top;\n",
              "    }\n",
              "\n",
              "    .dataframe thead th {\n",
              "        text-align: right;\n",
              "    }\n",
              "</style>\n",
              "<table border=\"1\" class=\"dataframe\">\n",
              "  <thead>\n",
              "    <tr style=\"text-align: right;\">\n",
              "      <th></th>\n",
              "      <th>method</th>\n",
              "      <th>n-gram</th>\n",
              "      <th>Value_best</th>\n",
              "      <th>Time fit</th>\n",
              "      <th>Time predict</th>\n",
              "      <th>Balanced-Accuracy</th>\n",
              "      <th>R</th>\n",
              "      <th>P</th>\n",
              "      <th>F1</th>\n",
              "    </tr>\n",
              "  </thead>\n",
              "  <tbody>\n",
              "    <tr>\n",
              "      <th>0</th>\n",
              "      <td>K-ближайших соседей</td>\n",
              "      <td>1</td>\n",
              "      <td>41</td>\n",
              "      <td>0.003799</td>\n",
              "      <td>0.110459</td>\n",
              "      <td>0.914542</td>\n",
              "      <td>0.914542</td>\n",
              "      <td>0.884655</td>\n",
              "      <td>0.895775</td>\n",
              "    </tr>\n",
              "    <tr>\n",
              "      <th>1</th>\n",
              "      <td>K-ближайших соседей</td>\n",
              "      <td>2</td>\n",
              "      <td>41</td>\n",
              "      <td>0.003999</td>\n",
              "      <td>0.111429</td>\n",
              "      <td>0.914542</td>\n",
              "      <td>0.914542</td>\n",
              "      <td>0.884655</td>\n",
              "      <td>0.895775</td>\n",
              "    </tr>\n",
              "    <tr>\n",
              "      <th>2</th>\n",
              "      <td>K-ближайших соседей</td>\n",
              "      <td>1,2</td>\n",
              "      <td>41</td>\n",
              "      <td>0.003906</td>\n",
              "      <td>0.109335</td>\n",
              "      <td>0.914542</td>\n",
              "      <td>0.914542</td>\n",
              "      <td>0.884655</td>\n",
              "      <td>0.895775</td>\n",
              "    </tr>\n",
              "    <tr>\n",
              "      <th>3</th>\n",
              "      <td>Логистическая регрессия</td>\n",
              "      <td>1</td>\n",
              "      <td>71968.5673</td>\n",
              "      <td>1.341069</td>\n",
              "      <td>0.008074</td>\n",
              "      <td>0.968944</td>\n",
              "      <td>0.968944</td>\n",
              "      <td>0.966298</td>\n",
              "      <td>0.967574</td>\n",
              "    </tr>\n",
              "    <tr>\n",
              "      <th>4</th>\n",
              "      <td>Логистическая регрессия</td>\n",
              "      <td>2</td>\n",
              "      <td>10000000000.0</td>\n",
              "      <td>0.518465</td>\n",
              "      <td>0.007314</td>\n",
              "      <td>0.956151</td>\n",
              "      <td>0.956151</td>\n",
              "      <td>0.966255</td>\n",
              "      <td>0.960762</td>\n",
              "    </tr>\n",
              "    <tr>\n",
              "      <th>5</th>\n",
              "      <td>Логистическая регрессия</td>\n",
              "      <td>1,2</td>\n",
              "      <td>71968.5673</td>\n",
              "      <td>1.310527</td>\n",
              "      <td>0.009088</td>\n",
              "      <td>0.968944</td>\n",
              "      <td>0.968944</td>\n",
              "      <td>0.966298</td>\n",
              "      <td>0.967574</td>\n",
              "    </tr>\n",
              "    <tr>\n",
              "      <th>6</th>\n",
              "      <td>Наивный Байес: полиномиальная модель</td>\n",
              "      <td>1</td>\n",
              "      <td>0.013895</td>\n",
              "      <td>0.010576</td>\n",
              "      <td>0.007237</td>\n",
              "      <td>0.957397</td>\n",
              "      <td>0.957397</td>\n",
              "      <td>0.948658</td>\n",
              "      <td>0.952785</td>\n",
              "    </tr>\n",
              "    <tr>\n",
              "      <th>7</th>\n",
              "      <td>Наивный Байес: полиномиальная модель</td>\n",
              "      <td>2</td>\n",
              "      <td>0.0001</td>\n",
              "      <td>0.01686</td>\n",
              "      <td>0.009701</td>\n",
              "      <td>0.950753</td>\n",
              "      <td>0.950753</td>\n",
              "      <td>0.949695</td>\n",
              "      <td>0.950158</td>\n",
              "    </tr>\n",
              "    <tr>\n",
              "      <th>8</th>\n",
              "      <td>Наивный Байес: полиномиальная модель</td>\n",
              "      <td>1,2</td>\n",
              "      <td>0.0001</td>\n",
              "      <td>0.016751</td>\n",
              "      <td>0.011547</td>\n",
              "      <td>0.950753</td>\n",
              "      <td>0.950753</td>\n",
              "      <td>0.949695</td>\n",
              "      <td>0.950158</td>\n",
              "    </tr>\n",
              "    <tr>\n",
              "      <th>9</th>\n",
              "      <td>Наивный Байес: модель Бернулли</td>\n",
              "      <td>1</td>\n",
              "      <td>0.0001</td>\n",
              "      <td>0.008141</td>\n",
              "      <td>0.010268</td>\n",
              "      <td>0.870473</td>\n",
              "      <td>0.870473</td>\n",
              "      <td>0.91459</td>\n",
              "      <td>0.887974</td>\n",
              "    </tr>\n",
              "    <tr>\n",
              "      <th>10</th>\n",
              "      <td>Наивный Байес: модель Бернулли</td>\n",
              "      <td>2</td>\n",
              "      <td>0.0001</td>\n",
              "      <td>0.032999</td>\n",
              "      <td>0.035879</td>\n",
              "      <td>0.894142</td>\n",
              "      <td>0.894142</td>\n",
              "      <td>0.94288</td>\n",
              "      <td>0.913437</td>\n",
              "    </tr>\n",
              "    <tr>\n",
              "      <th>11</th>\n",
              "      <td>Наивный Байес: модель Бернулли</td>\n",
              "      <td>1,2</td>\n",
              "      <td>0.0001</td>\n",
              "      <td>0.037551</td>\n",
              "      <td>0.041644</td>\n",
              "      <td>0.89218</td>\n",
              "      <td>0.89218</td>\n",
              "      <td>0.937953</td>\n",
              "      <td>0.910495</td>\n",
              "    </tr>\n",
              "  </tbody>\n",
              "</table>\n",
              "</div>\n",
              "      <button class=\"colab-df-convert\" onclick=\"convertToInteractive('df-f6824c2f-f030-4da9-bd0b-92b12f671f1e')\"\n",
              "              title=\"Convert this dataframe to an interactive table.\"\n",
              "              style=\"display:none;\">\n",
              "        \n",
              "  <svg xmlns=\"http://www.w3.org/2000/svg\" height=\"24px\"viewBox=\"0 0 24 24\"\n",
              "       width=\"24px\">\n",
              "    <path d=\"M0 0h24v24H0V0z\" fill=\"none\"/>\n",
              "    <path d=\"M18.56 5.44l.94 2.06.94-2.06 2.06-.94-2.06-.94-.94-2.06-.94 2.06-2.06.94zm-11 1L8.5 8.5l.94-2.06 2.06-.94-2.06-.94L8.5 2.5l-.94 2.06-2.06.94zm10 10l.94 2.06.94-2.06 2.06-.94-2.06-.94-.94-2.06-.94 2.06-2.06.94z\"/><path d=\"M17.41 7.96l-1.37-1.37c-.4-.4-.92-.59-1.43-.59-.52 0-1.04.2-1.43.59L10.3 9.45l-7.72 7.72c-.78.78-.78 2.05 0 2.83L4 21.41c.39.39.9.59 1.41.59.51 0 1.02-.2 1.41-.59l7.78-7.78 2.81-2.81c.8-.78.8-2.07 0-2.86zM5.41 20L4 18.59l7.72-7.72 1.47 1.35L5.41 20z\"/>\n",
              "  </svg>\n",
              "      </button>\n",
              "      \n",
              "  <style>\n",
              "    .colab-df-container {\n",
              "      display:flex;\n",
              "      flex-wrap:wrap;\n",
              "      gap: 12px;\n",
              "    }\n",
              "\n",
              "    .colab-df-convert {\n",
              "      background-color: #E8F0FE;\n",
              "      border: none;\n",
              "      border-radius: 50%;\n",
              "      cursor: pointer;\n",
              "      display: none;\n",
              "      fill: #1967D2;\n",
              "      height: 32px;\n",
              "      padding: 0 0 0 0;\n",
              "      width: 32px;\n",
              "    }\n",
              "\n",
              "    .colab-df-convert:hover {\n",
              "      background-color: #E2EBFA;\n",
              "      box-shadow: 0px 1px 2px rgba(60, 64, 67, 0.3), 0px 1px 3px 1px rgba(60, 64, 67, 0.15);\n",
              "      fill: #174EA6;\n",
              "    }\n",
              "\n",
              "    [theme=dark] .colab-df-convert {\n",
              "      background-color: #3B4455;\n",
              "      fill: #D2E3FC;\n",
              "    }\n",
              "\n",
              "    [theme=dark] .colab-df-convert:hover {\n",
              "      background-color: #434B5C;\n",
              "      box-shadow: 0px 1px 3px 1px rgba(0, 0, 0, 0.15);\n",
              "      filter: drop-shadow(0px 1px 2px rgba(0, 0, 0, 0.3));\n",
              "      fill: #FFFFFF;\n",
              "    }\n",
              "  </style>\n",
              "\n",
              "      <script>\n",
              "        const buttonEl =\n",
              "          document.querySelector('#df-f6824c2f-f030-4da9-bd0b-92b12f671f1e button.colab-df-convert');\n",
              "        buttonEl.style.display =\n",
              "          google.colab.kernel.accessAllowed ? 'block' : 'none';\n",
              "\n",
              "        async function convertToInteractive(key) {\n",
              "          const element = document.querySelector('#df-f6824c2f-f030-4da9-bd0b-92b12f671f1e');\n",
              "          const dataTable =\n",
              "            await google.colab.kernel.invokeFunction('convertToInteractive',\n",
              "                                                     [key], {});\n",
              "          if (!dataTable) return;\n",
              "\n",
              "          const docLinkHtml = 'Like what you see? Visit the ' +\n",
              "            '<a target=\"_blank\" href=https://colab.research.google.com/notebooks/data_table.ipynb>data table notebook</a>'\n",
              "            + ' to learn more about interactive tables.';\n",
              "          element.innerHTML = '';\n",
              "          dataTable['output_type'] = 'display_data';\n",
              "          await google.colab.output.renderOutput(dataTable, element);\n",
              "          const docLink = document.createElement('div');\n",
              "          docLink.innerHTML = docLinkHtml;\n",
              "          element.appendChild(docLink);\n",
              "        }\n",
              "      </script>\n",
              "    </div>\n",
              "  </div>\n",
              "  "
            ]
          },
          "metadata": {},
          "execution_count": 51
        }
      ],
      "source": [
        "#Выведите в виде таблицы итоговые данные по всем методам для лучших моделей (метод, n-gram, значение параметра модели, время обучения, время предсказания, метрики (Balanced-Accuracy, R, P, F1))\n",
        "df_3"
      ]
    },
    {
      "cell_type": "markdown",
      "source": [
        "Сделайте выводы по полученным результатам (преимущества и недостатки методов).\n",
        "\n",
        "K-ближайших соседей. + Простота реализации. Примерно одинаковое время для разных параметров.\n",
        "\n",
        "Логистическая регрессия. -Занимает больше времени.Общая точность не очень высокая\n",
        "\n",
        "Наивный Байес: модель Бернулли. + стабильную эффективность классификации.\n",
        "\n",
        "Наивный Байес: полиномиальная модель.   -менее стабильная эффективность классификации (по сравнению с моделью бернулии).+самая быстрая\n",
        "\n",
        "\n",
        "\n"
      ],
      "metadata": {
        "id": "bA6Up-2Auqx9"
      }
    },
    {
      "cell_type": "markdown",
      "metadata": {
        "id": "BDtK6p5K6-s7"
      },
      "source": [
        "# Задание 4. Оценка влияния количества признаков FeatureHasher на качество классификации (2 баллов)"
      ]
    },
    {
      "cell_type": "markdown",
      "metadata": {
        "id": "Z4fvPBBb6-s7"
      },
      "source": [
        "<p>Как будет меняться качество классификации для обозначенных ранее методов при использовании FeatureHasher (или HashingVectorizer) из пакета sklearn перед TF-IDF преобразованием, если</p>"
      ]
    },
    {
      "cell_type": "code",
      "execution_count": 52,
      "metadata": {
        "collapsed": true,
        "id": "d5dkudSS6-s7"
      },
      "outputs": [],
      "source": [
        "n_features = np.logspace(1, 5, 5, base=10)  # количество признаков\n",
        "non_negative=True"
      ]
    },
    {
      "cell_type": "markdown",
      "metadata": {
        "id": "meodRSEhEqzU"
      },
      "source": [
        "⚠️ Замечания\n",
        "*   Используйте лучшие модели из задания 3 при 1-gram\n",
        "*   Для FeatureHasher/HashingVectorizer установите следующие параметры: norm=None и alternate_sign=False"
      ]
    },
    {
      "cell_type": "markdown",
      "metadata": {
        "id": "zbIckx7c6-s8"
      },
      "source": [
        "<p>Можно воспользоваться GridSearchCV</p>"
      ]
    },
    {
      "cell_type": "code",
      "execution_count": 63,
      "metadata": {
        "collapsed": true,
        "id": "3cVR-3K96-s8"
      },
      "outputs": [],
      "source": [
        "from sklearn.feature_extraction.text import HashingVectorizer\n",
        "from sklearn.feature_extraction.text import  TfidfTransformer\n",
        "scores_test_knn=[]\n",
        "scores_train_knn=[]\n",
        "for n in n_features:\n",
        "  pipeline = Pipeline([\n",
        "                        (\"hashing\", HashingVectorizer(norm=None,alternate_sign=False,n_features =int(n), ngram_range=(1,1))),\n",
        "                       (\"transformer\", TfidfTransformer()),\n",
        "                        (\"knn_model\", KNeighborsClassifier(n_neighbors=df_3.iloc[0]['Value_best']))\n",
        "  ])\n",
        "  score = cross_validate(pipeline, X_train, y_train, cv=kf, scoring=['balanced_accuracy'])\n",
        "  balanced_accuracy_model = score['test_balanced_accuracy'].mean()\n",
        "  scores_test_knn.append(balanced_accuracy_model)\n",
        "  scores_train_knn.append(cross_val_score(pipeline, X_train, y_train, cv=kf).mean())\n",
        "\n"
      ]
    },
    {
      "cell_type": "code",
      "source": [
        "scores_test_logreg=[]\n",
        "scores_train_logreg=[]\n",
        "for c in  n_features:\n",
        "  pipeline = Pipeline([\n",
        "                        (\"hashing\", HashingVectorizer(norm=None,alternate_sign=False,n_features =int(c), ngram_range=(1,1))),\n",
        "                       (\"transformer\", TfidfTransformer()),\n",
        "                        (\"knn_model\", LogisticRegression(penalty=\"l2\", fit_intercept=True, max_iter=100, C=df_3.iloc[3]['Value_best'], solver=\"lbfgs\", random_state=12345))\n",
        "  ])\n",
        "  score = cross_validate(pipeline, X_train, y_train, cv=kf, scoring=['balanced_accuracy'])\n",
        "  balanced_accuracy_model = score['test_balanced_accuracy'].mean()\n",
        "  scores_test_logreg.append(balanced_accuracy_model)\n",
        "  scores_train_logreg.append(cross_val_score(pipeline, X_train, y_train, cv=kf).mean())\n"
      ],
      "metadata": {
        "id": "jbg5-w8l521z"
      },
      "execution_count": 56,
      "outputs": []
    },
    {
      "cell_type": "code",
      "source": [
        "scores_test_multNB = []\n",
        "scores_train_multNB = []\n",
        "for alpha in  n_features:\n",
        "  pipeline = Pipeline([\n",
        "                        (\"hashing\", HashingVectorizer(norm=None,alternate_sign=False,n_features =int(alpha), ngram_range=(1,1))),\n",
        "                       (\"transformer\", TfidfTransformer()),\n",
        "                        (\"knn_model\",  MultinomialNB(alpha=df_3.iloc[6]['Value_best']))\n",
        "  ])\n",
        "  score = cross_validate(pipeline, X_train, y_train, cv=kf, scoring=['balanced_accuracy'])\n",
        "  balanced_accuracy_model = score['test_balanced_accuracy'].mean()\n",
        "  scores_test_multNB.append(balanced_accuracy_model)\n",
        "  scores_train_multNB.append(cross_val_score(pipeline, X_train, y_train, cv=kf).mean())\n"
      ],
      "metadata": {
        "id": "XgzB_QHF6kqR"
      },
      "execution_count": 61,
      "outputs": []
    },
    {
      "cell_type": "code",
      "source": [
        "scores_test_bernNB=[]\n",
        "scores_train_bernNB=[]\n",
        "for n in n_features:\n",
        "  pipeline = Pipeline([\n",
        "                        (\"hashing\", HashingVectorizer(norm=None,alternate_sign=False,n_features =int(n),binary=True, ngram_range=(1,1))),\n",
        "                        (\"knn_model\",  BernoulliNB(alpha=df_3.iloc[9]['Value_best'], binarize=None))\n",
        "  ])\n",
        "  score = cross_validate(pipeline, X_train, y_train, cv=kf, scoring=['balanced_accuracy'])\n",
        "  balanced_accuracy_model = score['test_balanced_accuracy'].mean()\n",
        "  scores_test_bernNB.append(balanced_accuracy_model)\n",
        "  scores_train_bernNB.append(cross_val_score(pipeline, X_train, y_train, cv=kf).mean())\n"
      ],
      "metadata": {
        "id": "2B4cz0y47Uje"
      },
      "execution_count": 60,
      "outputs": []
    },
    {
      "cell_type": "code",
      "source": [
        "plt.figure(1, figsize=[25, 15])\n",
        "plt.subplot(2,2,1)\n",
        "plt.plot(n_features, scores_test_knn, color=\"red\", label = 'test', ls = 'dashed')\n",
        "plt.plot(n_features, scores_train_knn, color=\"blue\", label = 'train')\n",
        "plt.xlabel(\"n_neighbors\")\n",
        "plt.ylabel(\"balanced_accuracy\")\n",
        "plt.title('График зависимости balanced_accuracy от n_neighbors для K-ближайших соседей')\n",
        "plt.grid(True)\n",
        "plt.legend(loc=4, shadow=True, fontsize='xx-large')\n",
        "\n",
        "plt.subplot(2,2,2)\n",
        "plt.plot(n_features, scores_test_logreg, color=\"red\", label = 'test', ls = 'dashed')\n",
        "plt.plot(n_features, scores_train_logreg, color=\"blue\", label = 'train')\n",
        "plt.xlabel(\"C\")\n",
        "plt.ylabel(\"balanced_accuracy\")\n",
        "plt.title('График зависимости balanced_accuracy от C для Логистическая регрессия')\n",
        "plt.grid(True)\n",
        "plt.xscale('log')\n",
        "plt.legend(loc=4, shadow=True, fontsize='xx-large')\n",
        "\n",
        "plt.subplot(2,2,3)\n",
        "plt.plot(n_features, scores_test_bernNB, color=\"red\", label = 'test', ls = 'dashed')\n",
        "plt.plot(n_features, scores_train_bernNB, color=\"blue\", label = 'train')\n",
        "plt.xlabel(\"alpha\")\n",
        "plt.ylabel(\"balanced_accuracy\")\n",
        "plt.title('График зависимости balanced_accuracy от alpha для Наивный Байес: модель Бернулли')\n",
        "plt.grid(True)\n",
        "plt.xscale('log')\n",
        "plt.legend(loc=1, shadow=True, fontsize='xx-large')\n",
        "\n",
        "plt.subplot(2,2,4)\n",
        "plt.plot(n_features, scores_test_multNB, color=\"red\", label = 'test', ls = 'dashed')\n",
        "plt.plot(n_features, scores_train_multNB, color=\"blue\", label = 'train')\n",
        "plt.xlabel(\"alpha\")\n",
        "plt.ylabel(\"balanced_accuracy\")\n",
        "plt.title('График зависимости balanced_accuracy от alpha для Наивный Байес: полиномиальная модель')\n",
        "plt.grid(True)\n",
        "plt.xscale('log')\n",
        "plt.legend(loc=1, shadow=True, fontsize='xx-large')\n",
        "\n",
        "plt.show()"
      ],
      "metadata": {
        "colab": {
          "base_uri": "https://localhost:8080/",
          "height": 897
        },
        "id": "NQqqkvu2P6up",
        "outputId": "7ddf4745-7643-457a-f66b-59e7b94dfb8d"
      },
      "execution_count": 62,
      "outputs": [
        {
          "output_type": "display_data",
          "data": {
            "text/plain": [
              "<Figure size 1800x1080 with 4 Axes>"
            ],
            "image/png": "[encoded data removed]"
          },
          "metadata": {
            "needs_background": "light"
          }
        }
      ]
    }
  ],
  "metadata": {
    "colab": {
      "collapsed_sections": [
        "a6jgPst3Ca0a",
        "RU-wtzwi6-s0",
        "AOfOtMG-GK96",
        "MIdC2LmXDKFN",
        "ExDLNkCb6-s5",
        "M9emnkVMKUmD",
        "5tLy9z62D65q",
        "PE1Q-XTSSv9G",
        "aGWZ0cxunDND",
        "0D-DraDksBGD",
        "Ysq00ZXD0OFL",
        "rMrE4W2jwoTy"
      ],
      "name": "A3_IU23_Malkina_1 — копия (2).ipynb",
      "provenance": []
    },
    "kernelspec": {
      "display_name": "Python 3",
      "language": "python",
      "name": "python3"
    },
    "language_info": {
      "codemirror_mode": {
        "name": "ipython",
        "version": 3
      },
      "file_extension": ".py",
      "mimetype": "text/x-python",
      "name": "python",
      "nbconvert_exporter": "python",
      "pygments_lexer": "ipython3",
      "version": "3.7.4"
    }
  },
  "nbformat": 4,
  "nbformat_minor": 0
}